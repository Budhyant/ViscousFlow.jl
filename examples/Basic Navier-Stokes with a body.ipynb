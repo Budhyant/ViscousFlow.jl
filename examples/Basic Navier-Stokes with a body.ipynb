{
 "cells": [
  {
   "cell_type": "markdown",
   "metadata": {},
   "source": [
    "# Testing Navier-Stokes with a body in package `Whirl`"
   ]
  },
  {
   "cell_type": "code",
   "execution_count": 1,
   "metadata": {},
   "outputs": [],
   "source": [
    "include(joinpath(Pkg.dir(\"Whirl\"), \"src/Whirl.jl\"))\n",
    "using Whirl"
   ]
  },
  {
   "cell_type": "code",
   "execution_count": 2,
   "metadata": {},
   "outputs": [],
   "source": [
    "using Plots\n",
    "pyplot()\n",
    "clibrary(:colorbrewer)\n",
    "default(grid = false)"
   ]
  },
  {
   "cell_type": "markdown",
   "metadata": {},
   "source": [
    "### Solve flow past a cylinder"
   ]
  },
  {
   "cell_type": "code",
   "execution_count": 3,
   "metadata": {},
   "outputs": [],
   "source": [
    "nx = 202; ny = 102;\n",
    "Re = 200\n",
    "U = 1.0\n",
    "U∞ = (U,0.0)\n",
    "Lx = 2.0;\n",
    "Δx = Lx/(ny-2);\n",
    "Δt = min(0.5*Δx,0.5*Δx^2*Re);\n",
    "w₀ = Nodes(Dual,(nx,ny));\n",
    "q = Edges(Primal,w₀);"
   ]
  },
  {
   "cell_type": "markdown",
   "metadata": {},
   "source": [
    "Set up points on the cylinder"
   ]
  },
  {
   "cell_type": "code",
   "execution_count": 4,
   "metadata": {},
   "outputs": [],
   "source": [
    "n = 100;\n",
    "θ = linspace(0,2π,n+1);\n",
    "R = 0.5;\n",
    "xb = 1.0 + R*cos.(θ)\n",
    "yb = 1.0 + R*sin.(θ)\n",
    "ds = (2π/n)*R;\n",
    "X = VectorData(xb[1:n],yb[1:n]);\n",
    "f = VectorData(X);"
   ]
  },
  {
   "cell_type": "code",
   "execution_count": 5,
   "metadata": {},
   "outputs": [],
   "source": [
    "regop = Regularize(X,Δx;issymmetric=true)\n",
    "Hmat, Emat = RegularizationMatrix(regop,f,q);\n",
    "regopfilter = Regularize(X,Δx;weights=ds,filter=true)\n",
    "H̃mat = RegularizationMatrix(regopfilter,f,q);\n",
    "Ẽmat = InterpolationMatrix(regopfilter,q,f);"
   ]
  },
  {
   "cell_type": "code",
   "execution_count": 6,
   "metadata": {},
   "outputs": [
    {
     "data": {
      "text/plain": [
       "B₂ (generic function with 1 method)"
      ]
     },
     "execution_count": 6,
     "metadata": {},
     "output_type": "execute_result"
    }
   ],
   "source": [
    "B₂(w::Nodes) = -(Emat*(Curl()*(sys.L\\w)))"
   ]
  },
  {
   "cell_type": "code",
   "execution_count": 7,
   "metadata": {},
   "outputs": [
    {
     "data": {
      "text/plain": [
       "B₁ᵀ (generic function with 1 method)"
      ]
     },
     "execution_count": 7,
     "metadata": {},
     "output_type": "execute_result"
    }
   ],
   "source": [
    "B₁ᵀ(f::VectorData) = Curl()*(Hmat*f)"
   ]
  },
  {
   "cell_type": "code",
   "execution_count": 8,
   "metadata": {},
   "outputs": [
    {
     "data": {
      "text/plain": [
       "P (generic function with 1 method)"
      ]
     },
     "execution_count": 8,
     "metadata": {},
     "output_type": "execute_result"
    }
   ],
   "source": [
    "P(f::VectorData) = Ẽmat*(H̃mat*f)"
   ]
  },
  {
   "cell_type": "code",
   "execution_count": 9,
   "metadata": {},
   "outputs": [
    {
     "data": {
      "text/plain": [
       "Navier-Stokes system on a grid of size 202 x 102"
      ]
     },
     "execution_count": 9,
     "metadata": {},
     "output_type": "execute_result"
    }
   ],
   "source": [
    "sys = Systems.NavierStokes((nx,ny),Re,Δx,Δt,U∞ = U∞)"
   ]
  },
  {
   "cell_type": "code",
   "execution_count": 10,
   "metadata": {},
   "outputs": [
    {
     "data": {
      "text/plain": [
       "r₂ (generic function with 1 method)"
      ]
     },
     "execution_count": 10,
     "metadata": {},
     "output_type": "execute_result"
    }
   ],
   "source": [
    "function r₂(w::Nodes{T,NX,NY},t::Float64) where {T,NX,NY}\n",
    "    f = VectorData(X)\n",
    "    fill!(f.u,-U∞[1])\n",
    "    fill!(f.v,-U∞[2])\n",
    "    return f\n",
    "end"
   ]
  },
  {
   "cell_type": "code",
   "execution_count": 11,
   "metadata": {},
   "outputs": [
    {
     "data": {
      "text/plain": [
       "Order-3 IF-HERK integrator with\n",
       "   State of type Whirl.Fields.Nodes{Whirl.Fields.Dual,202,102}\n",
       "   Force of type Whirl.Fields.VectorData{100}\n",
       "   Time step size 0.01\n"
      ]
     },
     "execution_count": 11,
     "metadata": {},
     "output_type": "execute_result"
    }
   ],
   "source": [
    "ifherk = IFHERK(w₀,f,sys.Δt,\n",
    "                (t,w) -> Systems.plan_intfact(t,w,sys),\n",
    "                (B₁ᵀ, B₂),\n",
    "                ((w,t) -> Systems.r₁(w,t,sys),\n",
    "                 (w,t) -> r₂(w,t)),rk=TimeMarching.RK31,conditioner=P)"
   ]
  },
  {
   "cell_type": "code",
   "execution_count": 16,
   "metadata": {},
   "outputs": [],
   "source": [
    "t = 0.0\n",
    "w₀ .= 0.0\n",
    "w = deepcopy(w₀)\n",
    "tf = 0.1\n",
    "T = 0:Δt:tf;"
   ]
  },
  {
   "cell_type": "code",
   "execution_count": 19,
   "metadata": {},
   "outputs": [
    {
     "name": "stdout",
     "output_type": "stream",
     "text": [
      "  0.511361 seconds (663.67 k allocations: 97.057 MiB, 4.32% gc time)\n"
     ]
    },
    {
     "data": {
      "text/plain": [
       "(0.03, Whirl.Fields.Dual nodes in a (nx = 202, ny = 102) cell grid\n",
       "  Number of Whirl.Fields.Dual nodes: (nx = 202, ny = 102), 100 points of vector-valued data\n",
       ")"
      ]
     },
     "execution_count": 19,
     "metadata": {},
     "output_type": "execute_result"
    }
   ],
   "source": [
    "@time t, w, f = ifherk(t,w)"
   ]
  },
  {
   "cell_type": "code",
   "execution_count": 65,
   "metadata": {},
   "outputs": [
    {
     "name": "stdout",
     "output_type": "stream",
     "text": [
      "  5.166304 seconds (6.23 M allocations: 925.635 MiB, 3.81% gc time)\n",
      "0.4400000000000002\n"
     ]
    }
   ],
   "source": [
    "@time for ti in T\n",
    "    t, w = ifherk(t,w)\n",
    "end\n",
    "println(t)"
   ]
  },
  {
   "cell_type": "code",
   "execution_count": 14,
   "metadata": {},
   "outputs": [
    {
     "data": {
      "image/png": "[encoded data removed]"
     },
     "execution_count": 14,
     "metadata": {},
     "output_type": "execute_result"
    },
    {
     "name": "stderr",
     "output_type": "stream",
     "text": [
      "/Users/jeff/.julia/v0.6/Conda/deps/usr/lib/python2.7/site-packages/matplotlib/contour.py:960: UserWarning: The following kwargs were not used by contour: 'label'\n",
      "  s)\n"
     ]
    }
   ],
   "source": [
    "xg,yg = coordinates(w,dx=Δx)\n",
    "plot(xg,yg,w,clim=(-0.5,0.5))\n",
    "plot!(xb,yb,fillcolor=:black,fillrange=0,fillalpha=1,linecolor=:black)"
   ]
  },
  {
   "cell_type": "code",
   "execution_count": 20,
   "metadata": {},
   "outputs": [
    {
     "data": {
      "image/png": "[encoded data removed]"
     },
     "execution_count": 20,
     "metadata": {},
     "output_type": "execute_result"
    }
   ],
   "source": [
    "plot(f.u)"
   ]
  },
  {
   "cell_type": "code",
   "execution_count": null,
   "metadata": {},
   "outputs": [],
   "source": []
  }
 ],
 "metadata": {
  "kernelspec": {
   "display_name": "Julia 0.6.2",
   "language": "julia",
   "name": "julia-0.6"
  },
  "language_info": {
   "file_extension": ".jl",
   "mimetype": "application/julia",
   "name": "julia",
   "version": "0.6.2"
  }
 },
 "nbformat": 4,
 "nbformat_minor": 2
}
