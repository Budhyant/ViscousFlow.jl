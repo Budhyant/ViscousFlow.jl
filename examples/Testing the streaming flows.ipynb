{
 "cells": [
  {
   "cell_type": "markdown",
   "metadata": {},
   "source": [
    "# Testing the two-level asymptotic form of `Whirl2d`"
   ]
  },
  {
   "cell_type": "code",
   "execution_count": 4,
   "metadata": {},
   "outputs": [
    {
     "name": "stderr",
     "output_type": "stream",
     "text": [
      "WARNING: replacing module Whirl2d\n",
      "WARNING: ignoring conflicting import of Whirl2d.@get into Main\n"
     ]
    }
   ],
   "source": [
    "include(joinpath(Pkg.dir(\"whirl2d\"), \"src/Whirl2d.jl\"))\n",
    "import Whirl2d\n",
    "import Whirl2d:@get\n",
    "using PyPlot\n",
    "@get Whirl2d (Systems, Grids, DualPatch, Bodies, TimeMarching, NavierStokes, Process);"
   ]
  },
  {
   "cell_type": "markdown",
   "metadata": {},
   "source": [
    "### Create a body undergoing a weak oscillatory translation in `x` direction "
   ]
  },
  {
   "cell_type": "code",
   "execution_count": 5,
   "metadata": {},
   "outputs": [
    {
     "data": {
      "text/plain": [
       "Body: number of points = 64, reference point = (0.0,0.0), rotation matrix = [1.0 -0.0; 0.0 1.0]\n"
      ]
     },
     "execution_count": 5,
     "metadata": {},
     "output_type": "execute_result"
    }
   ],
   "source": [
    "nbody = 1\n",
    "b1 = let Npts = 64,  # total number of points on circle\n",
    "         rad = 1.0,   # radius of circle\n",
    "         xcent = [0.0,0.0],  # initial centroid of circle\n",
    "         ang = 0.0    # initial angle of circle\n",
    "         Bodies.Circle(Npts,rad,xcent,ang)\n",
    "end\n",
    "\n",
    "#b2 = let Npts = 64,  # total number of points on circle\n",
    "#         rad = 1.0,   # radius of circle\n",
    "#         xcent = [4.0,0.0],  # initial centroid of circle\n",
    "#         ang = 0.0    # initial angle of circle\n",
    "#         Bodies.Circle(Npts,rad,xcent,ang)\n",
    "#end"
   ]
  },
  {
   "cell_type": "markdown",
   "metadata": {},
   "source": [
    "### Set the streaming motion"
   ]
  },
  {
   "cell_type": "code",
   "execution_count": 6,
   "metadata": {},
   "outputs": [
    {
     "data": {
      "text/plain": [
       "6.283185307179586"
      ]
     },
     "execution_count": 6,
     "metadata": {},
     "output_type": "execute_result"
    }
   ],
   "source": [
    "sparams = Array{NavierStokes.StreamingParams}(nbody)\n",
    "\n",
    "ϵ = 0.1  # A/R\n",
    "\n",
    "sparams[1] = let Ω = 1.0,    # Angular frequency\n",
    "                 X = 1.0,  # X amplitude\n",
    "                 Y = 0.0,   # Y amplitude\n",
    "                 ϕx = 0.0,  # X phase lead\n",
    "                 ϕy = 0.0  # Y phase lead                \n",
    "    \n",
    "    NavierStokes.StreamingParams(Ω, ϵ, X, ϕx, Y, ϕy)\n",
    "end;\n",
    "NavierStokes.set_oscil_motion!(b1,sparams[1])\n",
    "\n",
    "T = 2π/sparams[1].Ω"
   ]
  },
  {
   "cell_type": "markdown",
   "metadata": {},
   "source": [
    "### Create a domain with this body in it"
   ]
  },
  {
   "cell_type": "code",
   "execution_count": 7,
   "metadata": {},
   "outputs": [
    {
     "data": {
      "text/plain": [
       "Domain: xmin = [-4.0, -4.0], xmax = [4.0, 4.0]\n",
       "number of bodies = 1\n",
       "Body: number of points = 64, reference point = (0.0,0.0), rotation matrix = [1.0 -0.0; 0.0 1.0]\n",
       "\n"
      ]
     },
     "execution_count": 7,
     "metadata": {},
     "output_type": "execute_result"
    }
   ],
   "source": [
    "xmin = [-4.0,-4.0]\n",
    "xmax = [4.0,4.0]\n",
    "dom = Systems.DualDomain(xmin,xmax)\n",
    "dom = Systems.add_body(dom,b1)\n",
    "#dom = Systems.add_body(dom,b2)"
   ]
  },
  {
   "cell_type": "markdown",
   "metadata": {},
   "source": [
    "#### Add a filling dual grid to this domain\n",
    "The boundaries of the domain coincide with the boundaries of the dual grid"
   ]
  },
  {
   "cell_type": "code",
   "execution_count": 8,
   "metadata": {},
   "outputs": [],
   "source": [
    "Δx = 0.08\n",
    "dom = Systems.add_grid(dom,Δx)\n",
    "x = Grids.xcell(dom.grid);\n",
    "y = Grids.ycell(dom.grid);"
   ]
  },
  {
   "cell_type": "markdown",
   "metadata": {},
   "source": [
    "### Set the physical and time parameters"
   ]
  },
  {
   "cell_type": "code",
   "execution_count": 9,
   "metadata": {},
   "outputs": [
    {
     "data": {
      "text/plain": [
       "Time step size 0.04"
      ]
     },
     "execution_count": 9,
     "metadata": {},
     "output_type": "execute_result"
    }
   ],
   "source": [
    "Re = 40\n",
    "physparams = let U = [0.0,0.0]\n",
    "    NavierStokes.set_freestream(U)\n",
    "end\n",
    "NavierStokes.set_Re!(physparams,Re)\n",
    "Δt = min(0.5*Δx,Δx^2*Re)\n",
    "\n",
    "α = Δt/(Re*Δx^2)\n",
    "tparams = TimeMarching.TimeParams(Δt,TimeMarching.RK31())\n",
    "\n",
    "nT = ceil(Int,T/tparams.Δt) # number of time steps in each period\n",
    "\n",
    "params = (physparams,α,sparams)\n",
    "tparams"
   ]
  },
  {
   "cell_type": "markdown",
   "metadata": {},
   "source": [
    "### Compute the grid and body operators\n",
    "This fills in the LGF and integrating factor tables, computes the interpolation/regularization operators, computes the Schur complement operators and factorizes them, and defines the operators needed for calling the HERK"
   ]
  },
  {
   "cell_type": "code",
   "execution_count": 10,
   "metadata": {},
   "outputs": [
    {
     "ename": "LoadError",
     "evalue": "\u001b[91mMethodError: no method matching convert(::Type{AssertionError}, ::String)\u001b[0m\nClosest candidates are:\n  convert(\u001b[91m::Type{Any}\u001b[39m, ::ANY) at essentials.jl:28\n  convert(::Type{T}, \u001b[91m::T\u001b[39m) where T at essentials.jl:29\u001b[39m",
     "output_type": "error",
     "traceback": [
      "\u001b[91mMethodError: no method matching convert(::Type{AssertionError}, ::String)\u001b[0m\nClosest candidates are:\n  convert(\u001b[91m::Type{Any}\u001b[39m, ::ANY) at essentials.jl:28\n  convert(::Type{T}, \u001b[91m::T\u001b[39m) where T at essentials.jl:29\u001b[39m",
      "",
      "Stacktrace:",
      " [1] \u001b[1m(::Type{T})\u001b[22m\u001b[22m\u001b[1m(\u001b[22m\u001b[22m::Any\u001b[1m)\u001b[22m\u001b[22m at \u001b[1m./coreimg.jl:14\u001b[22m\u001b[22m",
      " [2] \u001b[1mupdate_valid_age!\u001b[22m\u001b[22m\u001b[1m(\u001b[22m\u001b[22m::UInt64, ::UInt64, ::Core.Inference.InferenceState\u001b[1m)\u001b[22m\u001b[22m at \u001b[1m./inference.jl:2363\u001b[22m\u001b[22m",
      " [3] \u001b[1madd_backedge\u001b[22m\u001b[22m\u001b[1m(\u001b[22m\u001b[22m::Core.Inference.InferenceState, ::Core.Inference.InferenceState, ::Int64\u001b[1m)\u001b[22m\u001b[22m at \u001b[1m./inference.jl:2448\u001b[22m\u001b[22m",
      " [4] \u001b[1mtypeinf_frame\u001b[22m\u001b[22m\u001b[1m(\u001b[22m\u001b[22m::Core.MethodInstance, ::Core.Inference.InferenceState, ::Bool, ::Bool, ::Core.Inference.InferenceParams\u001b[1m)\u001b[22m\u001b[22m at \u001b[1m./inference.jl:2492\u001b[22m\u001b[22m",
      " [5] \u001b[1mtypeinf_edge\u001b[22m\u001b[22m\u001b[1m(\u001b[22m\u001b[22m::Method, ::Any, ::SimpleVector, ::Core.Inference.InferenceState\u001b[1m)\u001b[22m\u001b[22m at \u001b[1m./inference.jl:2517\u001b[22m\u001b[22m",
      " [6] \u001b[1mabstract_call_gf_by_type\u001b[22m\u001b[22m\u001b[1m(\u001b[22m\u001b[22m::Any, ::Any, ::Core.Inference.InferenceState\u001b[1m)\u001b[22m\u001b[22m at \u001b[1m./inference.jl:1401\u001b[22m\u001b[22m",
      " [7] \u001b[1mabstract_call\u001b[22m\u001b[22m\u001b[1m(\u001b[22m\u001b[22m::Any, ::Array{Any,1}, ::Array{Any,1}, ::Array{Any,1}, ::Core.Inference.InferenceState\u001b[1m)\u001b[22m\u001b[22m at \u001b[1m./inference.jl:1882\u001b[22m\u001b[22m",
      " [8] \u001b[1mabstract_eval_call\u001b[22m\u001b[22m\u001b[1m(\u001b[22m\u001b[22m::Expr, ::Array{Any,1}, ::Core.Inference.InferenceState\u001b[1m)\u001b[22m\u001b[22m at \u001b[1m./inference.jl:1912\u001b[22m\u001b[22m",
      " [9] \u001b[1mabstract_eval\u001b[22m\u001b[22m\u001b[1m(\u001b[22m\u001b[22m::Any, ::Array{Any,1}, ::Core.Inference.InferenceState\u001b[1m)\u001b[22m\u001b[22m at \u001b[1m./inference.jl:1935\u001b[22m\u001b[22m",
      " [10] \u001b[1mcopy!\u001b[22m\u001b[22m\u001b[1m(\u001b[22m\u001b[22m::Array{Any,1}, ::Core.Inference.Generator{Array{Any,1},Core.Inference.##189#190{Array{Any,1},Core.Inference.InferenceState}}\u001b[1m)\u001b[22m\u001b[22m at \u001b[1m./abstractarray.jl:572\u001b[22m\u001b[22m",
      " [11] \u001b[1mabstract_eval_call\u001b[22m\u001b[22m\u001b[1m(\u001b[22m\u001b[22m::Expr, ::Array{Any,1}, ::Core.Inference.InferenceState\u001b[1m)\u001b[22m\u001b[22m at \u001b[1m./inference.jl:1886\u001b[22m\u001b[22m",
      " [12] \u001b[1mabstract_eval\u001b[22m\u001b[22m\u001b[1m(\u001b[22m\u001b[22m::Any, ::Array{Any,1}, ::Core.Inference.InferenceState\u001b[1m)\u001b[22m\u001b[22m at \u001b[1m./inference.jl:1935\u001b[22m\u001b[22m",
      " [13] \u001b[1mtypeinf_frame\u001b[22m\u001b[22m\u001b[1m(\u001b[22m\u001b[22m::Core.Inference.InferenceState\u001b[1m)\u001b[22m\u001b[22m at \u001b[1m./inference.jl:2778\u001b[22m\u001b[22m",
      " [14] \u001b[1mtypeinf_loop\u001b[22m\u001b[22m\u001b[1m(\u001b[22m\u001b[22m::Core.Inference.InferenceState\u001b[1m)\u001b[22m\u001b[22m at \u001b[1m./inference.jl:2624\u001b[22m\u001b[22m",
      " [15] \u001b[1mtypeinf_frame\u001b[22m\u001b[22m\u001b[1m(\u001b[22m\u001b[22m::Core.MethodInstance, ::Core.Inference.InferenceState, ::Bool, ::Bool, ::Core.Inference.InferenceParams\u001b[1m)\u001b[22m\u001b[22m at \u001b[1m./inference.jl:2494\u001b[22m\u001b[22m",
      " [16] \u001b[1mtypeinf_edge\u001b[22m\u001b[22m\u001b[1m(\u001b[22m\u001b[22m::Method, ::Any, ::SimpleVector, ::Core.Inference.InferenceState\u001b[1m)\u001b[22m\u001b[22m at \u001b[1m./inference.jl:2517\u001b[22m\u001b[22m",
      " [17] \u001b[1mabstract_call_gf_by_type\u001b[22m\u001b[22m\u001b[1m(\u001b[22m\u001b[22m::Any, ::Any, ::Core.Inference.InferenceState\u001b[1m)\u001b[22m\u001b[22m at \u001b[1m./inference.jl:1401\u001b[22m\u001b[22m",
      " [18] \u001b[1mabstract_call\u001b[22m\u001b[22m\u001b[1m(\u001b[22m\u001b[22m::Any, ::Array{Any,1}, ::Array{Any,1}, ::Array{Any,1}, ::Core.Inference.InferenceState\u001b[1m)\u001b[22m\u001b[22m at \u001b[1m./inference.jl:1882\u001b[22m\u001b[22m",
      " [19] \u001b[1mabstract_eval_call\u001b[22m\u001b[22m\u001b[1m(\u001b[22m\u001b[22m::Expr, ::Array{Any,1}, ::Core.Inference.InferenceState\u001b[1m)\u001b[22m\u001b[22m at \u001b[1m./inference.jl:1912\u001b[22m\u001b[22m",
      " [20] \u001b[1mabstract_eval\u001b[22m\u001b[22m\u001b[1m(\u001b[22m\u001b[22m::Any, ::Array{Any,1}, ::Core.Inference.InferenceState\u001b[1m)\u001b[22m\u001b[22m at \u001b[1m./inference.jl:1935\u001b[22m\u001b[22m",
      " [21] \u001b[1mcopy!\u001b[22m\u001b[22m\u001b[1m(\u001b[22m\u001b[22m::Array{Any,1}, ::Core.Inference.Generator{Array{Any,1},Core.Inference.##189#190{Array{Any,1},Core.Inference.InferenceState}}\u001b[1m)\u001b[22m\u001b[22m at \u001b[1m./abstractarray.jl:572\u001b[22m\u001b[22m",
      " [22] \u001b[1mabstract_eval_call\u001b[22m\u001b[22m\u001b[1m(\u001b[22m\u001b[22m::Expr, ::Array{Any,1}, ::Core.Inference.InferenceState\u001b[1m)\u001b[22m\u001b[22m at \u001b[1m./inference.jl:1886\u001b[22m\u001b[22m",
      " [23] \u001b[1mabstract_eval\u001b[22m\u001b[22m\u001b[1m(\u001b[22m\u001b[22m::Any, ::Array{Any,1}, ::Core.Inference.InferenceState\u001b[1m)\u001b[22m\u001b[22m at \u001b[1m./inference.jl:1935\u001b[22m\u001b[22m",
      " [24] \u001b[1mtypeinf_frame\u001b[22m\u001b[22m\u001b[1m(\u001b[22m\u001b[22m::Core.Inference.InferenceState\u001b[1m)\u001b[22m\u001b[22m at \u001b[1m./inference.jl:2778\u001b[22m\u001b[22m",
      " [25] \u001b[1mtypeinf_loop\u001b[22m\u001b[22m\u001b[1m(\u001b[22m\u001b[22m::Core.Inference.InferenceState\u001b[1m)\u001b[22m\u001b[22m at \u001b[1m./inference.jl:2624\u001b[22m\u001b[22m",
      " [26] \u001b[1mtypeinf_frame\u001b[22m\u001b[22m\u001b[1m(\u001b[22m\u001b[22m::Core.MethodInstance, ::Core.Inference.InferenceState, ::Bool, ::Bool, ::Core.Inference.InferenceParams\u001b[1m)\u001b[22m\u001b[22m at \u001b[1m./inference.jl:2494\u001b[22m\u001b[22m",
      " [27] \u001b[1mtypeinf_edge\u001b[22m\u001b[22m\u001b[1m(\u001b[22m\u001b[22m::Method, ::Any, ::SimpleVector, ::Core.Inference.InferenceState\u001b[1m)\u001b[22m\u001b[22m at \u001b[1m./inference.jl:2517\u001b[22m\u001b[22m",
      " [28] \u001b[1mabstract_call_gf_by_type\u001b[22m\u001b[22m\u001b[1m(\u001b[22m\u001b[22m::Any, ::Any, ::Core.Inference.InferenceState\u001b[1m)\u001b[22m\u001b[22m at \u001b[1m./inference.jl:1401\u001b[22m\u001b[22m",
      " [29] \u001b[1mabstract_call\u001b[22m\u001b[22m\u001b[1m(\u001b[22m\u001b[22m::Any, ::Tuple{}, ::Array{Any,1}, ::Array{Any,1}, ::Core.Inference.InferenceState\u001b[1m)\u001b[22m\u001b[22m at \u001b[1m./inference.jl:1882\u001b[22m\u001b[22m",
      " [30] \u001b[1mabstract_apply\u001b[22m\u001b[22m\u001b[1m(\u001b[22m\u001b[22m::Any, ::Array{Any,1}, ::Array{Any,1}, ::Array{Any,1}, ::Core.Inference.InferenceState\u001b[1m)\u001b[22m\u001b[22m at \u001b[1m./inference.jl:1541\u001b[22m\u001b[22m",
      " [31] \u001b[1mabstract_call\u001b[22m\u001b[22m\u001b[1m(\u001b[22m\u001b[22m::Any, ::Array{Any,1}, ::Array{Any,1}, ::Array{Any,1}, ::Core.Inference.InferenceState\u001b[1m)\u001b[22m\u001b[22m at \u001b[1m./inference.jl:1669\u001b[22m\u001b[22m",
      " [32] \u001b[1mabstract_eval_call\u001b[22m\u001b[22m\u001b[1m(\u001b[22m\u001b[22m::Expr, ::Array{Any,1}, ::Core.Inference.InferenceState\u001b[1m)\u001b[22m\u001b[22m at \u001b[1m./inference.jl:1912\u001b[22m\u001b[22m",
      " [33] \u001b[1mabstract_eval\u001b[22m\u001b[22m\u001b[1m(\u001b[22m\u001b[22m::Any, ::Array{Any,1}, ::Core.Inference.InferenceState\u001b[1m)\u001b[22m\u001b[22m at \u001b[1m./inference.jl:1935\u001b[22m\u001b[22m",
      " [34] \u001b[1mtypeinf_frame\u001b[22m\u001b[22m\u001b[1m(\u001b[22m\u001b[22m::Core.Inference.InferenceState\u001b[1m)\u001b[22m\u001b[22m at \u001b[1m./inference.jl:2778\u001b[22m\u001b[22m",
      " [35] \u001b[1mtypeinf_loop\u001b[22m\u001b[22m\u001b[1m(\u001b[22m\u001b[22m::Core.Inference.InferenceState\u001b[1m)\u001b[22m\u001b[22m at \u001b[1m./inference.jl:2624\u001b[22m\u001b[22m",
      " [36] \u001b[1mtypeinf_frame\u001b[22m\u001b[22m\u001b[1m(\u001b[22m\u001b[22m::Core.MethodInstance, ::Core.Inference.InferenceState, ::Bool, ::Bool, ::Core.Inference.InferenceParams\u001b[1m)\u001b[22m\u001b[22m at \u001b[1m./inference.jl:2494\u001b[22m\u001b[22m",
      " [37] \u001b[1mtypeinf_edge\u001b[22m\u001b[22m\u001b[1m(\u001b[22m\u001b[22m::Method, ::Any, ::SimpleVector, ::Core.Inference.InferenceState\u001b[1m)\u001b[22m\u001b[22m at \u001b[1m./inference.jl:2517\u001b[22m\u001b[22m",
      " [38] \u001b[1mabstract_call_gf_by_type\u001b[22m\u001b[22m\u001b[1m(\u001b[22m\u001b[22m::Any, ::Any, ::Core.Inference.InferenceState\u001b[1m)\u001b[22m\u001b[22m at \u001b[1m./inference.jl:1401\u001b[22m\u001b[22m",
      " [39] \u001b[1mabstract_call\u001b[22m\u001b[22m\u001b[1m(\u001b[22m\u001b[22m::Any, ::Tuple{}, ::Array{Any,1}, ::Array{Any,1}, ::Core.Inference.InferenceState\u001b[1m)\u001b[22m\u001b[22m at \u001b[1m./inference.jl:1882\u001b[22m\u001b[22m",
      " [40] \u001b[1mabstract_apply\u001b[22m\u001b[22m\u001b[1m(\u001b[22m\u001b[22m::Any, ::Array{Any,1}, ::Array{Any,1}, ::Array{Any,1}, ::Core.Inference.InferenceState\u001b[1m)\u001b[22m\u001b[22m at \u001b[1m./inference.jl:1541\u001b[22m\u001b[22m",
      " [41] \u001b[1mabstract_call\u001b[22m\u001b[22m\u001b[1m(\u001b[22m\u001b[22m::Any, ::Array{Any,1}, ::Array{Any,1}, ::Array{Any,1}, ::Core.Inference.InferenceState\u001b[1m)\u001b[22m\u001b[22m at \u001b[1m./inference.jl:1669\u001b[22m\u001b[22m",
      " [42] \u001b[1mabstract_eval_call\u001b[22m\u001b[22m\u001b[1m(\u001b[22m\u001b[22m::Expr, ::Array{Any,1}, ::Core.Inference.InferenceState\u001b[1m)\u001b[22m\u001b[22m at \u001b[1m./inference.jl:1912\u001b[22m\u001b[22m",
      " [43] \u001b[1mabstract_eval\u001b[22m\u001b[22m\u001b[1m(\u001b[22m\u001b[22m::Any, ::Array{Any,1}, ::Core.Inference.InferenceState\u001b[1m)\u001b[22m\u001b[22m at \u001b[1m./inference.jl:1935\u001b[22m\u001b[22m",
      " [44] \u001b[1mtypeinf_frame\u001b[22m\u001b[22m\u001b[1m(\u001b[22m\u001b[22m::Core.Inference.InferenceState\u001b[1m)\u001b[22m\u001b[22m at \u001b[1m./inference.jl:2778\u001b[22m\u001b[22m",
      " [45] \u001b[1mtypeinf_loop\u001b[22m\u001b[22m\u001b[1m(\u001b[22m\u001b[22m::Core.Inference.InferenceState\u001b[1m)\u001b[22m\u001b[22m at \u001b[1m./inference.jl:2624\u001b[22m\u001b[22m",
      " [46] \u001b[1mtypeinf_frame\u001b[22m\u001b[22m\u001b[1m(\u001b[22m\u001b[22m::Core.MethodInstance, ::Core.Inference.InferenceState, ::Bool, ::Bool, ::Core.Inference.InferenceParams\u001b[1m)\u001b[22m\u001b[22m at \u001b[1m./inference.jl:2494\u001b[22m\u001b[22m",
      " [47] \u001b[1mtypeinf_edge\u001b[22m\u001b[22m\u001b[1m(\u001b[22m\u001b[22m::Method, ::Any, ::SimpleVector, ::Core.Inference.InferenceState\u001b[1m)\u001b[22m\u001b[22m at \u001b[1m./inference.jl:2517\u001b[22m\u001b[22m",
      " [48] \u001b[1mabstract_call_gf_by_type\u001b[22m\u001b[22m\u001b[1m(\u001b[22m\u001b[22m::Any, ::Any, ::Core.Inference.InferenceState\u001b[1m)\u001b[22m\u001b[22m at \u001b[1m./inference.jl:1401\u001b[22m\u001b[22m",
      " [49] \u001b[1mabstract_call\u001b[22m\u001b[22m\u001b[1m(\u001b[22m\u001b[22m::Any, ::Array{Any,1}, ::Array{Any,1}, ::Array{Any,1}, ::Core.Inference.InferenceState\u001b[1m)\u001b[22m\u001b[22m at \u001b[1m./inference.jl:1882\u001b[22m\u001b[22m",
      " [50] \u001b[1mabstract_eval_call\u001b[22m\u001b[22m\u001b[1m(\u001b[22m\u001b[22m::Expr, ::Array{Any,1}, ::Core.Inference.InferenceState\u001b[1m)\u001b[22m\u001b[22m at \u001b[1m./inference.jl:1912\u001b[22m\u001b[22m",
      " [51] \u001b[1mabstract_eval\u001b[22m\u001b[22m\u001b[1m(\u001b[22m\u001b[22m::Any, ::Array{Any,1}, ::Core.Inference.InferenceState\u001b[1m)\u001b[22m\u001b[22m at \u001b[1m./inference.jl:1935\u001b[22m\u001b[22m",
      " [52] \u001b[1mabstract_interpret\u001b[22m\u001b[22m\u001b[1m(\u001b[22m\u001b[22m::Any, ::Array{Any,1}, ::Core.Inference.InferenceState\u001b[1m)\u001b[22m\u001b[22m at \u001b[1m./inference.jl:2061\u001b[22m\u001b[22m",
      " [53] \u001b[1mtypeinf_frame\u001b[22m\u001b[22m\u001b[1m(\u001b[22m\u001b[22m::Core.Inference.InferenceState\u001b[1m)\u001b[22m\u001b[22m at \u001b[1m./inference.jl:2725\u001b[22m\u001b[22m",
      " [54] \u001b[1mtypeinf_loop\u001b[22m\u001b[22m\u001b[1m(\u001b[22m\u001b[22m::Core.Inference.InferenceState\u001b[1m)\u001b[22m\u001b[22m at \u001b[1m./inference.jl:2624\u001b[22m\u001b[22m",
      " [55] \u001b[1mtypeinf_frame\u001b[22m\u001b[22m\u001b[1m(\u001b[22m\u001b[22m::Core.MethodInstance, ::Core.Inference.InferenceState, ::Bool, ::Bool, ::Core.Inference.InferenceParams\u001b[1m)\u001b[22m\u001b[22m at \u001b[1m./inference.jl:2494\u001b[22m\u001b[22m",
      " [56] \u001b[1mtypeinf_edge\u001b[22m\u001b[22m\u001b[1m(\u001b[22m\u001b[22m::Method, ::Any, ::SimpleVector, ::Core.Inference.InferenceState\u001b[1m)\u001b[22m\u001b[22m at \u001b[1m./inference.jl:2517\u001b[22m\u001b[22m",
      " [57] \u001b[1mabstract_call_gf_by_type\u001b[22m\u001b[22m\u001b[1m(\u001b[22m\u001b[22m::Any, ::Any, ::Core.Inference.InferenceState\u001b[1m)\u001b[22m\u001b[22m at \u001b[1m./inference.jl:1401\u001b[22m\u001b[22m",
      " [58] \u001b[1mabstract_call\u001b[22m\u001b[22m\u001b[1m(\u001b[22m\u001b[22m::Any, ::Array{Any,1}, ::Array{Any,1}, ::Array{Any,1}, ::Core.Inference.InferenceState\u001b[1m)\u001b[22m\u001b[22m at \u001b[1m./inference.jl:1882\u001b[22m\u001b[22m",
      " [59] \u001b[1mabstract_eval_call\u001b[22m\u001b[22m\u001b[1m(\u001b[22m\u001b[22m::Expr, ::Array{Any,1}, ::Core.Inference.InferenceState\u001b[1m)\u001b[22m\u001b[22m at \u001b[1m./inference.jl:1912\u001b[22m\u001b[22m",
      " [60] \u001b[1mabstract_eval\u001b[22m\u001b[22m\u001b[1m(\u001b[22m\u001b[22m::Any, ::Array{Any,1}, ::Core.Inference.InferenceState\u001b[1m)\u001b[22m\u001b[22m at \u001b[1m./inference.jl:1935\u001b[22m\u001b[22m",
      " [61] \u001b[1mabstract_interpret\u001b[22m\u001b[22m\u001b[1m(\u001b[22m\u001b[22m::Any, ::Array{Any,1}, ::Core.Inference.InferenceState\u001b[1m)\u001b[22m\u001b[22m at \u001b[1m./inference.jl:2061\u001b[22m\u001b[22m",
      " [62] \u001b[1mtypeinf_frame\u001b[22m\u001b[22m\u001b[1m(\u001b[22m\u001b[22m::Core.Inference.InferenceState\u001b[1m)\u001b[22m\u001b[22m at \u001b[1m./inference.jl:2725\u001b[22m\u001b[22m",
      " [63] \u001b[1mtypeinf_loop\u001b[22m\u001b[22m\u001b[1m(\u001b[22m\u001b[22m::Core.Inference.InferenceState\u001b[1m)\u001b[22m\u001b[22m at \u001b[1m./inference.jl:2624\u001b[22m\u001b[22m",
      " [64] \u001b[1mtypeinf_frame\u001b[22m\u001b[22m\u001b[1m(\u001b[22m\u001b[22m::Core.MethodInstance, ::Core.Inference.InferenceState, ::Bool, ::Bool, ::Core.Inference.InferenceParams\u001b[1m)\u001b[22m\u001b[22m at \u001b[1m./inference.jl:2494\u001b[22m\u001b[22m",
      " [65] \u001b[1mtypeinf_edge\u001b[22m\u001b[22m\u001b[1m(\u001b[22m\u001b[22m::Method, ::Any, ::SimpleVector, ::Core.Inference.InferenceState\u001b[1m)\u001b[22m\u001b[22m at \u001b[1m./inference.jl:2517\u001b[22m\u001b[22m",
      " [66] \u001b[1mabstract_call_gf_by_type\u001b[22m\u001b[22m\u001b[1m(\u001b[22m\u001b[22m::Any, ::Any, ::Core.Inference.InferenceState\u001b[1m)\u001b[22m\u001b[22m at \u001b[1m./inference.jl:1401\u001b[22m\u001b[22m",
      " [67] \u001b[1mabstract_call\u001b[22m\u001b[22m\u001b[1m(\u001b[22m\u001b[22m::Any, ::Array{Any,1}, ::Array{Any,1}, ::Array{Any,1}, ::Core.Inference.InferenceState\u001b[1m)\u001b[22m\u001b[22m at \u001b[1m./inference.jl:1882\u001b[22m\u001b[22m",
      " [68] \u001b[1mabstract_eval_call\u001b[22m\u001b[22m\u001b[1m(\u001b[22m\u001b[22m::Expr, ::Array{Any,1}, ::Core.Inference.InferenceState\u001b[1m)\u001b[22m\u001b[22m at \u001b[1m./inference.jl:1912\u001b[22m\u001b[22m",
      " [69] \u001b[1mabstract_eval\u001b[22m\u001b[22m\u001b[1m(\u001b[22m\u001b[22m::Any, ::Array{Any,1}, ::Core.Inference.InferenceState\u001b[1m)\u001b[22m\u001b[22m at \u001b[1m./inference.jl:1935\u001b[22m\u001b[22m",
      " [70] \u001b[1mcopy!\u001b[22m\u001b[22m\u001b[1m(\u001b[22m\u001b[22m::Array{Any,1}, ::Core.Inference.Generator{Array{Any,1},Core.Inference.##189#190{Array{Any,1},Core.Inference.InferenceState}}\u001b[1m)\u001b[22m\u001b[22m at \u001b[1m./abstractarray.jl:572\u001b[22m\u001b[22m",
      " [71] \u001b[1mabstract_eval_call\u001b[22m\u001b[22m\u001b[1m(\u001b[22m\u001b[22m::Expr, ::Array{Any,1}, ::Core.Inference.InferenceState\u001b[1m)\u001b[22m\u001b[22m at \u001b[1m./inference.jl:1886\u001b[22m\u001b[22m",
      " [72] \u001b[1mabstract_eval\u001b[22m\u001b[22m\u001b[1m(\u001b[22m\u001b[22m::Any, ::Array{Any,1}, ::Core.Inference.InferenceState\u001b[1m)\u001b[22m\u001b[22m at \u001b[1m./inference.jl:1935\u001b[22m\u001b[22m",
      " [73] \u001b[1mtypeinf_frame\u001b[22m\u001b[22m\u001b[1m(\u001b[22m\u001b[22m::Core.Inference.InferenceState\u001b[1m)\u001b[22m\u001b[22m at \u001b[1m./inference.jl:2778\u001b[22m\u001b[22m",
      " [74] \u001b[1mtypeinf_loop\u001b[22m\u001b[22m\u001b[1m(\u001b[22m\u001b[22m::Core.Inference.InferenceState\u001b[1m)\u001b[22m\u001b[22m at \u001b[1m./inference.jl:2624\u001b[22m\u001b[22m",
      " [75] \u001b[1mtypeinf_frame\u001b[22m\u001b[22m\u001b[1m(\u001b[22m\u001b[22m::Core.MethodInstance, ::Core.Inference.InferenceState, ::Bool, ::Bool, ::Core.Inference.InferenceParams\u001b[1m)\u001b[22m\u001b[22m at \u001b[1m./inference.jl:2494\u001b[22m\u001b[22m",
      " [76] \u001b[1mtypeinf_edge\u001b[22m\u001b[22m\u001b[1m(\u001b[22m\u001b[22m::Method, ::Any, ::SimpleVector, ::Core.Inference.InferenceState\u001b[1m)\u001b[22m\u001b[22m at \u001b[1m./inference.jl:2517\u001b[22m\u001b[22m",
      " [77] \u001b[1mabstract_call_gf_by_type\u001b[22m\u001b[22m\u001b[1m(\u001b[22m\u001b[22m::Any, ::Any, ::Core.Inference.InferenceState\u001b[1m)\u001b[22m\u001b[22m at \u001b[1m./inference.jl:1401\u001b[22m\u001b[22m",
      " [78] \u001b[1mabstract_call\u001b[22m\u001b[22m\u001b[1m(\u001b[22m\u001b[22m::Any, ::Array{Any,1}, ::Array{Any,1}, ::Array{Any,1}, ::Core.Inference.InferenceState\u001b[1m)\u001b[22m\u001b[22m at \u001b[1m./inference.jl:1882\u001b[22m\u001b[22m",
      " [79] \u001b[1mabstract_eval_call\u001b[22m\u001b[22m\u001b[1m(\u001b[22m\u001b[22m::Expr, ::Array{Any,1}, ::Core.Inference.InferenceState\u001b[1m)\u001b[22m\u001b[22m at \u001b[1m./inference.jl:1912\u001b[22m\u001b[22m",
      " [80] \u001b[1mabstract_eval\u001b[22m\u001b[22m\u001b[1m(\u001b[22m\u001b[22m::Any, ::Array{Any,1}, ::Core.Inference.InferenceState\u001b[1m)\u001b[22m\u001b[22m at \u001b[1m./inference.jl:1935\u001b[22m\u001b[22m",
      " [81] \u001b[1mtypeinf_frame\u001b[22m\u001b[22m\u001b[1m(\u001b[22m\u001b[22m::Core.Inference.InferenceState\u001b[1m)\u001b[22m\u001b[22m at \u001b[1m./inference.jl:2778\u001b[22m\u001b[22m",
      " [82] \u001b[1mtypeinf_loop\u001b[22m\u001b[22m\u001b[1m(\u001b[22m\u001b[22m::Core.Inference.InferenceState\u001b[1m)\u001b[22m\u001b[22m at \u001b[1m./inference.jl:2624\u001b[22m\u001b[22m",
      " [83] \u001b[1mtypeinf_frame\u001b[22m\u001b[22m\u001b[1m(\u001b[22m\u001b[22m::Core.MethodInstance, ::Core.Inference.InferenceState, ::Bool, ::Bool, ::Core.Inference.InferenceParams\u001b[1m)\u001b[22m\u001b[22m at \u001b[1m./inference.jl:2494\u001b[22m\u001b[22m",
      " [84] \u001b[1mtypeinf_edge\u001b[22m\u001b[22m\u001b[1m(\u001b[22m\u001b[22m::Method, ::Any, ::SimpleVector, ::Core.Inference.InferenceState\u001b[1m)\u001b[22m\u001b[22m at \u001b[1m./inference.jl:2517\u001b[22m\u001b[22m",
      " [85] \u001b[1mabstract_call_gf_by_type\u001b[22m\u001b[22m\u001b[1m(\u001b[22m\u001b[22m::Any, ::Any, ::Core.Inference.InferenceState\u001b[1m)\u001b[22m\u001b[22m at \u001b[1m./inference.jl:1401\u001b[22m\u001b[22m",
      " [86] \u001b[1mabstract_call\u001b[22m\u001b[22m\u001b[1m(\u001b[22m\u001b[22m::Any, ::Array{Any,1}, ::Array{Any,1}, ::Array{Any,1}, ::Core.Inference.InferenceState\u001b[1m)\u001b[22m\u001b[22m at \u001b[1m./inference.jl:1882\u001b[22m\u001b[22m",
      " [87] \u001b[1mabstract_eval_call\u001b[22m\u001b[22m\u001b[1m(\u001b[22m\u001b[22m::Expr, ::Array{Any,1}, ::Core.Inference.InferenceState\u001b[1m)\u001b[22m\u001b[22m at \u001b[1m./inference.jl:1912\u001b[22m\u001b[22m",
      " [88] \u001b[1mabstract_eval\u001b[22m\u001b[22m\u001b[1m(\u001b[22m\u001b[22m::Any, ::Array{Any,1}, ::Core.Inference.InferenceState\u001b[1m)\u001b[22m\u001b[22m at \u001b[1m./inference.jl:1935\u001b[22m\u001b[22m",
      " [89] \u001b[1mabstract_interpret\u001b[22m\u001b[22m\u001b[1m(\u001b[22m\u001b[22m::Any, ::Array{Any,1}, ::Core.Inference.InferenceState\u001b[1m)\u001b[22m\u001b[22m at \u001b[1m./inference.jl:2061\u001b[22m\u001b[22m",
      " [90] \u001b[1mtypeinf_frame\u001b[22m\u001b[22m\u001b[1m(\u001b[22m\u001b[22m::Core.Inference.InferenceState\u001b[1m)\u001b[22m\u001b[22m at \u001b[1m./inference.jl:2725\u001b[22m\u001b[22m",
      " [91] \u001b[1mtypeinf_loop\u001b[22m\u001b[22m\u001b[1m(\u001b[22m\u001b[22m::Core.Inference.InferenceState\u001b[1m)\u001b[22m\u001b[22m at \u001b[1m./inference.jl:2624\u001b[22m\u001b[22m",
      " [92] \u001b[1mtypeinf_frame\u001b[22m\u001b[22m\u001b[1m(\u001b[22m\u001b[22m::Core.MethodInstance, ::Core.Inference.InferenceState, ::Bool, ::Bool, ::Core.Inference.InferenceParams\u001b[1m)\u001b[22m\u001b[22m at \u001b[1m./inference.jl:2494\u001b[22m\u001b[22m",
      " [93] \u001b[1mtypeinf_edge\u001b[22m\u001b[22m\u001b[1m(\u001b[22m\u001b[22m::Method, ::Any, ::SimpleVector, ::Core.Inference.InferenceState\u001b[1m)\u001b[22m\u001b[22m at \u001b[1m./inference.jl:2517\u001b[22m\u001b[22m",
      " [94] \u001b[1mabstract_call_gf_by_type\u001b[22m\u001b[22m\u001b[1m(\u001b[22m\u001b[22m::Any, ::Any, ::Core.Inference.InferenceState\u001b[1m)\u001b[22m\u001b[22m at \u001b[1m./inference.jl:1401\u001b[22m\u001b[22m",
      " [95] \u001b[1mabstract_call\u001b[22m\u001b[22m\u001b[1m(\u001b[22m\u001b[22m::Any, ::Array{Any,1}, ::Array{Any,1}, ::Array{Any,1}, ::Core.Inference.InferenceState\u001b[1m)\u001b[22m\u001b[22m at \u001b[1m./inference.jl:1882\u001b[22m\u001b[22m",
      " [96] \u001b[1mabstract_eval_call\u001b[22m\u001b[22m\u001b[1m(\u001b[22m\u001b[22m::Expr, ::Array{Any,1}, ::Core.Inference.InferenceState\u001b[1m)\u001b[22m\u001b[22m at \u001b[1m./inference.jl:1912\u001b[22m\u001b[22m",
      " [97] \u001b[1mabstract_eval\u001b[22m\u001b[22m\u001b[1m(\u001b[22m\u001b[22m::Any, ::Array{Any,1}, ::Core.Inference.InferenceState\u001b[1m)\u001b[22m\u001b[22m at \u001b[1m./inference.jl:1935\u001b[22m\u001b[22m",
      " [98] \u001b[1mtypeinf_frame\u001b[22m\u001b[22m\u001b[1m(\u001b[22m\u001b[22m::Core.Inference.InferenceState\u001b[1m)\u001b[22m\u001b[22m at \u001b[1m./inference.jl:2778\u001b[22m\u001b[22m",
      " [99] \u001b[1mtypeinf_loop\u001b[22m\u001b[22m\u001b[1m(\u001b[22m\u001b[22m::Core.Inference.InferenceState\u001b[1m)\u001b[22m\u001b[22m at \u001b[1m./inference.jl:2624\u001b[22m\u001b[22m",
      " [100] \u001b[1mtypeinf_frame\u001b[22m\u001b[22m\u001b[1m(\u001b[22m\u001b[22m::Core.MethodInstance, ::Core.Inference.InferenceState, ::Bool, ::Bool, ::Core.Inference.InferenceParams\u001b[1m)\u001b[22m\u001b[22m at \u001b[1m./inference.jl:2494\u001b[22m\u001b[22m",
      " [101] \u001b[1mtypeinf_edge\u001b[22m\u001b[22m\u001b[1m(\u001b[22m\u001b[22m::Method, ::Any, ::SimpleVector, ::Core.Inference.InferenceState\u001b[1m)\u001b[22m\u001b[22m at \u001b[1m./inference.jl:2517\u001b[22m\u001b[22m",
      " [102] \u001b[1mabstract_call_gf_by_type\u001b[22m\u001b[22m\u001b[1m(\u001b[22m\u001b[22m::Any, ::Any, ::Core.Inference.InferenceState\u001b[1m)\u001b[22m\u001b[22m at \u001b[1m./inference.jl:1401\u001b[22m\u001b[22m",
      " [103] \u001b[1mabstract_call\u001b[22m\u001b[22m\u001b[1m(\u001b[22m\u001b[22m::Any, ::Array{Any,1}, ::Array{Any,1}, ::Array{Any,1}, ::Core.Inference.InferenceState\u001b[1m)\u001b[22m\u001b[22m at \u001b[1m./inference.jl:1882\u001b[22m\u001b[22m",
      " [104] \u001b[1mabstract_eval_call\u001b[22m\u001b[22m\u001b[1m(\u001b[22m\u001b[22m::Expr, ::Array{Any,1}, ::Core.Inference.InferenceState\u001b[1m)\u001b[22m\u001b[22m at \u001b[1m./inference.jl:1912\u001b[22m\u001b[22m",
      " [105] \u001b[1mabstract_eval\u001b[22m\u001b[22m\u001b[1m(\u001b[22m\u001b[22m::Any, ::Array{Any,1}, ::Core.Inference.InferenceState\u001b[1m)\u001b[22m\u001b[22m at \u001b[1m./inference.jl:1935\u001b[22m\u001b[22m",
      " [106] \u001b[1mcopy!\u001b[22m\u001b[22m\u001b[1m(\u001b[22m\u001b[22m::Array{Any,1}, ::Core.Inference.Generator{Array{Any,1},Core.Inference.##189#190{Array{Any,1},Core.Inference.InferenceState}}\u001b[1m)\u001b[22m\u001b[22m at \u001b[1m./abstractarray.jl:572\u001b[22m\u001b[22m",
      " [107] \u001b[1mabstract_eval_call\u001b[22m\u001b[22m\u001b[1m(\u001b[22m\u001b[22m::Expr, ::Array{Any,1}, ::Core.Inference.InferenceState\u001b[1m)\u001b[22m\u001b[22m at \u001b[1m./inference.jl:1886\u001b[22m\u001b[22m",
      " [108] \u001b[1mabstract_eval\u001b[22m\u001b[22m\u001b[1m(\u001b[22m\u001b[22m::Any, ::Array{Any,1}, ::Core.Inference.InferenceState\u001b[1m)\u001b[22m\u001b[22m at \u001b[1m./inference.jl:1935\u001b[22m\u001b[22m",
      " [109] \u001b[1mtypeinf_frame\u001b[22m\u001b[22m\u001b[1m(\u001b[22m\u001b[22m::Core.Inference.InferenceState\u001b[1m)\u001b[22m\u001b[22m at \u001b[1m./inference.jl:2778\u001b[22m\u001b[22m",
      " [110] \u001b[1mtypeinf_loop\u001b[22m\u001b[22m\u001b[1m(\u001b[22m\u001b[22m::Core.Inference.InferenceState\u001b[1m)\u001b[22m\u001b[22m at \u001b[1m./inference.jl:2624\u001b[22m\u001b[22m",
      " [111] \u001b[1mtypeinf_frame\u001b[22m\u001b[22m\u001b[1m(\u001b[22m\u001b[22m::Core.MethodInstance, ::Core.Inference.InferenceState, ::Bool, ::Bool, ::Core.Inference.InferenceParams\u001b[1m)\u001b[22m\u001b[22m at \u001b[1m./inference.jl:2494\u001b[22m\u001b[22m",
      " [112] \u001b[1mtypeinf_edge\u001b[22m\u001b[22m\u001b[1m(\u001b[22m\u001b[22m::Method, ::Any, ::SimpleVector, ::Core.Inference.InferenceState\u001b[1m)\u001b[22m\u001b[22m at \u001b[1m./inference.jl:2517\u001b[22m\u001b[22m",
      " [113] \u001b[1mabstract_call_gf_by_type\u001b[22m\u001b[22m\u001b[1m(\u001b[22m\u001b[22m::Any, ::Any, ::Core.Inference.InferenceState\u001b[1m)\u001b[22m\u001b[22m at \u001b[1m./inference.jl:1401\u001b[22m\u001b[22m",
      " [114] \u001b[1mabstract_call\u001b[22m\u001b[22m\u001b[1m(\u001b[22m\u001b[22m::Any, ::Array{Any,1}, ::Array{Any,1}, ::Array{Any,1}, ::Core.Inference.InferenceState\u001b[1m)\u001b[22m\u001b[22m at \u001b[1m./inference.jl:1882\u001b[22m\u001b[22m",
      " [115] \u001b[1mabstract_eval_call\u001b[22m\u001b[22m\u001b[1m(\u001b[22m\u001b[22m::Expr, ::Array{Any,1}, ::Core.Inference.InferenceState\u001b[1m)\u001b[22m\u001b[22m at \u001b[1m./inference.jl:1912\u001b[22m\u001b[22m",
      " [116] \u001b[1mabstract_eval\u001b[22m\u001b[22m\u001b[1m(\u001b[22m\u001b[22m::Any, ::Array{Any,1}, ::Core.Inference.InferenceState\u001b[1m)\u001b[22m\u001b[22m at \u001b[1m./inference.jl:1935\u001b[22m\u001b[22m",
      " [117] \u001b[1mcopy!\u001b[22m\u001b[22m\u001b[1m(\u001b[22m\u001b[22m::Array{Any,1}, ::Core.Inference.Generator{Array{Any,1},Core.Inference.##189#190{Array{Any,1},Core.Inference.InferenceState}}\u001b[1m)\u001b[22m\u001b[22m at \u001b[1m./abstractarray.jl:572\u001b[22m\u001b[22m",
      " [118] \u001b[1mabstract_eval_call\u001b[22m\u001b[22m\u001b[1m(\u001b[22m\u001b[22m::Expr, ::Array{Any,1}, ::Core.Inference.InferenceState\u001b[1m)\u001b[22m\u001b[22m at \u001b[1m./inference.jl:1886\u001b[22m\u001b[22m",
      " [119] \u001b[1mabstract_eval\u001b[22m\u001b[22m\u001b[1m(\u001b[22m\u001b[22m::Any, ::Array{Any,1}, ::Core.Inference.InferenceState\u001b[1m)\u001b[22m\u001b[22m at \u001b[1m./inference.jl:1935\u001b[22m\u001b[22m",
      " [120] \u001b[1mtypeinf_frame\u001b[22m\u001b[22m\u001b[1m(\u001b[22m\u001b[22m::Core.Inference.InferenceState\u001b[1m)\u001b[22m\u001b[22m at \u001b[1m./inference.jl:2778\u001b[22m\u001b[22m",
      " [121] \u001b[1mtypeinf_loop\u001b[22m\u001b[22m\u001b[1m(\u001b[22m\u001b[22m::Core.Inference.InferenceState\u001b[1m)\u001b[22m\u001b[22m at \u001b[1m./inference.jl:2624\u001b[22m\u001b[22m",
      " [122] \u001b[1mtypeinf_frame\u001b[22m\u001b[22m\u001b[1m(\u001b[22m\u001b[22m::Core.MethodInstance, ::Core.Inference.InferenceState, ::Bool, ::Bool, ::Core.Inference.InferenceParams\u001b[1m)\u001b[22m\u001b[22m at \u001b[1m./inference.jl:2494\u001b[22m\u001b[22m",
      " [123] \u001b[1mtypeinf_edge\u001b[22m\u001b[22m\u001b[1m(\u001b[22m\u001b[22m::Method, ::Any, ::SimpleVector, ::Core.Inference.InferenceState\u001b[1m)\u001b[22m\u001b[22m at \u001b[1m./inference.jl:2517\u001b[22m\u001b[22m",
      " [124] \u001b[1mabstract_call_gf_by_type\u001b[22m\u001b[22m\u001b[1m(\u001b[22m\u001b[22m::Any, ::Any, ::Core.Inference.InferenceState\u001b[1m)\u001b[22m\u001b[22m at \u001b[1m./inference.jl:1401\u001b[22m\u001b[22m",
      " [125] \u001b[1mabstract_call\u001b[22m\u001b[22m\u001b[1m(\u001b[22m\u001b[22m::Any, ::Tuple{}, ::Array{Any,1}, ::Array{Any,1}, ::Core.Inference.InferenceState\u001b[1m)\u001b[22m\u001b[22m at \u001b[1m./inference.jl:1882\u001b[22m\u001b[22m",
      " [126] \u001b[1mreturn_type_tfunc\u001b[22m\u001b[22m\u001b[1m(\u001b[22m\u001b[22m::Any, ::Array{Any,1}, ::Core.Inference.InferenceState\u001b[1m)\u001b[22m\u001b[22m at \u001b[1m./inference.jl:1568\u001b[22m\u001b[22m",
      " [127] \u001b[1mabstract_call\u001b[22m\u001b[22m\u001b[1m(\u001b[22m\u001b[22m::Any, ::Array{Any,1}, ::Array{Any,1}, ::Array{Any,1}, ::Core.Inference.InferenceState\u001b[1m)\u001b[22m\u001b[22m at \u001b[1m./inference.jl:1798\u001b[22m\u001b[22m",
      " [128] \u001b[1mabstract_eval_call\u001b[22m\u001b[22m\u001b[1m(\u001b[22m\u001b[22m::Expr, ::Array{Any,1}, ::Core.Inference.InferenceState\u001b[1m)\u001b[22m\u001b[22m at \u001b[1m./inference.jl:1912\u001b[22m\u001b[22m",
      " [129] \u001b[1mabstract_eval\u001b[22m\u001b[22m\u001b[1m(\u001b[22m\u001b[22m::Any, ::Array{Any,1}, ::Core.Inference.InferenceState\u001b[1m)\u001b[22m\u001b[22m at \u001b[1m./inference.jl:1935\u001b[22m\u001b[22m",
      " [130] \u001b[1mtypeinf_frame\u001b[22m\u001b[22m\u001b[1m(\u001b[22m\u001b[22m::Core.Inference.InferenceState\u001b[1m)\u001b[22m\u001b[22m at \u001b[1m./inference.jl:2778\u001b[22m\u001b[22m",
      " [131] \u001b[1mtypeinf_loop\u001b[22m\u001b[22m\u001b[1m(\u001b[22m\u001b[22m::Core.Inference.InferenceState\u001b[1m)\u001b[22m\u001b[22m at \u001b[1m./inference.jl:2624\u001b[22m\u001b[22m",
      " [132] \u001b[1mtypeinf_frame\u001b[22m\u001b[22m\u001b[1m(\u001b[22m\u001b[22m::Core.MethodInstance, ::Core.Inference.InferenceState, ::Bool, ::Bool, ::Core.Inference.InferenceParams\u001b[1m)\u001b[22m\u001b[22m at \u001b[1m./inference.jl:2494\u001b[22m\u001b[22m",
      " [133] \u001b[1mtypeinf_edge\u001b[22m\u001b[22m\u001b[1m(\u001b[22m\u001b[22m::Method, ::Any, ::SimpleVector, ::Core.Inference.InferenceState\u001b[1m)\u001b[22m\u001b[22m at \u001b[1m./inference.jl:2517\u001b[22m\u001b[22m",
      " [134] \u001b[1mabstract_call_gf_by_type\u001b[22m\u001b[22m\u001b[1m(\u001b[22m\u001b[22m::Any, ::Any, ::Core.Inference.InferenceState\u001b[1m)\u001b[22m\u001b[22m at \u001b[1m./inference.jl:1401\u001b[22m\u001b[22m",
      " [135] \u001b[1mabstract_call\u001b[22m\u001b[22m\u001b[1m(\u001b[22m\u001b[22m::Any, ::Array{Any,1}, ::Array{Any,1}, ::Array{Any,1}, ::Core.Inference.InferenceState\u001b[1m)\u001b[22m\u001b[22m at \u001b[1m./inference.jl:1882\u001b[22m\u001b[22m",
      " [136] \u001b[1mabstract_eval_call\u001b[22m\u001b[22m\u001b[1m(\u001b[22m\u001b[22m::Expr, ::Array{Any,1}, ::Core.Inference.InferenceState\u001b[1m)\u001b[22m\u001b[22m at \u001b[1m./inference.jl:1912\u001b[22m\u001b[22m",
      " [137] \u001b[1mabstract_eval\u001b[22m\u001b[22m\u001b[1m(\u001b[22m\u001b[22m::Any, ::Array{Any,1}, ::Core.Inference.InferenceState\u001b[1m)\u001b[22m\u001b[22m at \u001b[1m./inference.jl:1935\u001b[22m\u001b[22m",
      " [138] \u001b[1mabstract_interpret\u001b[22m\u001b[22m\u001b[1m(\u001b[22m\u001b[22m::Any, ::Array{Any,1}, ::Core.Inference.InferenceState\u001b[1m)\u001b[22m\u001b[22m at \u001b[1m./inference.jl:2061\u001b[22m\u001b[22m",
      " [139] \u001b[1mtypeinf_frame\u001b[22m\u001b[22m\u001b[1m(\u001b[22m\u001b[22m::Core.Inference.InferenceState\u001b[1m)\u001b[22m\u001b[22m at \u001b[1m./inference.jl:2725\u001b[22m\u001b[22m",
      " [140] \u001b[1mtypeinf_loop\u001b[22m\u001b[22m\u001b[1m(\u001b[22m\u001b[22m::Core.Inference.InferenceState\u001b[1m)\u001b[22m\u001b[22m at \u001b[1m./inference.jl:2624\u001b[22m\u001b[22m",
      " [141] \u001b[1mtypeinf_frame\u001b[22m\u001b[22m\u001b[1m(\u001b[22m\u001b[22m::Core.MethodInstance, ::Core.Inference.InferenceState, ::Bool, ::Bool, ::Core.Inference.InferenceParams\u001b[1m)\u001b[22m\u001b[22m at \u001b[1m./inference.jl:2494\u001b[22m\u001b[22m",
      " [142] \u001b[1mtypeinf_edge\u001b[22m\u001b[22m\u001b[1m(\u001b[22m\u001b[22m::Method, ::Any, ::SimpleVector, ::Core.Inference.InferenceState\u001b[1m)\u001b[22m\u001b[22m at \u001b[1m./inference.jl:2517\u001b[22m\u001b[22m",
      " [143] \u001b[1mabstract_call_gf_by_type\u001b[22m\u001b[22m\u001b[1m(\u001b[22m\u001b[22m::Any, ::Any, ::Core.Inference.InferenceState\u001b[1m)\u001b[22m\u001b[22m at \u001b[1m./inference.jl:1401\u001b[22m\u001b[22m",
      " [144] \u001b[1mabstract_call\u001b[22m\u001b[22m\u001b[1m(\u001b[22m\u001b[22m::Any, ::Array{Any,1}, ::Array{Any,1}, ::Array{Any,1}, ::Core.Inference.InferenceState\u001b[1m)\u001b[22m\u001b[22m at \u001b[1m./inference.jl:1882\u001b[22m\u001b[22m",
      " [145] \u001b[1mabstract_eval_call\u001b[22m\u001b[22m\u001b[1m(\u001b[22m\u001b[22m::Expr, ::Array{Any,1}, ::Core.Inference.InferenceState\u001b[1m)\u001b[22m\u001b[22m at \u001b[1m./inference.jl:1912\u001b[22m\u001b[22m",
      " [146] \u001b[1mabstract_eval\u001b[22m\u001b[22m\u001b[1m(\u001b[22m\u001b[22m::Any, ::Array{Any,1}, ::Core.Inference.InferenceState\u001b[1m)\u001b[22m\u001b[22m at \u001b[1m./inference.jl:1935\u001b[22m\u001b[22m",
      " [147] \u001b[1mabstract_interpret\u001b[22m\u001b[22m\u001b[1m(\u001b[22m\u001b[22m::Any, ::Array{Any,1}, ::Core.Inference.InferenceState\u001b[1m)\u001b[22m\u001b[22m at \u001b[1m./inference.jl:2061\u001b[22m\u001b[22m",
      " [148] \u001b[1mtypeinf_frame\u001b[22m\u001b[22m\u001b[1m(\u001b[22m\u001b[22m::Core.Inference.InferenceState\u001b[1m)\u001b[22m\u001b[22m at \u001b[1m./inference.jl:2725\u001b[22m\u001b[22m",
      " [149] \u001b[1mtypeinf_loop\u001b[22m\u001b[22m\u001b[1m(\u001b[22m\u001b[22m::Core.Inference.InferenceState\u001b[1m)\u001b[22m\u001b[22m at \u001b[1m./inference.jl:2624\u001b[22m\u001b[22m",
      " [150] \u001b[1mtypeinf_frame\u001b[22m\u001b[22m\u001b[1m(\u001b[22m\u001b[22m::Core.MethodInstance, ::Core.Inference.InferenceState, ::Bool, ::Bool, ::Core.Inference.InferenceParams\u001b[1m)\u001b[22m\u001b[22m at \u001b[1m./inference.jl:2494\u001b[22m\u001b[22m",
      " [151] \u001b[1mtypeinf_edge\u001b[22m\u001b[22m\u001b[1m(\u001b[22m\u001b[22m::Method, ::Any, ::SimpleVector, ::Core.Inference.InferenceState\u001b[1m)\u001b[22m\u001b[22m at \u001b[1m./inference.jl:2517\u001b[22m\u001b[22m",
      " [152] \u001b[1mabstract_call_gf_by_type\u001b[22m\u001b[22m\u001b[1m(\u001b[22m\u001b[22m::Any, ::Any, ::Core.Inference.InferenceState\u001b[1m)\u001b[22m\u001b[22m at \u001b[1m./inference.jl:1401\u001b[22m\u001b[22m",
      " [153] \u001b[1mabstract_call\u001b[22m\u001b[22m\u001b[1m(\u001b[22m\u001b[22m::Any, ::Array{Any,1}, ::Array{Any,1}, ::Array{Any,1}, ::Core.Inference.InferenceState\u001b[1m)\u001b[22m\u001b[22m at \u001b[1m./inference.jl:1882\u001b[22m\u001b[22m",
      " [154] \u001b[1mabstract_eval_call\u001b[22m\u001b[22m\u001b[1m(\u001b[22m\u001b[22m::Expr, ::Array{Any,1}, ::Core.Inference.InferenceState\u001b[1m)\u001b[22m\u001b[22m at \u001b[1m./inference.jl:1912\u001b[22m\u001b[22m",
      " [155] \u001b[1mabstract_eval\u001b[22m\u001b[22m\u001b[1m(\u001b[22m\u001b[22m::Any, ::Array{Any,1}, ::Core.Inference.InferenceState\u001b[1m)\u001b[22m\u001b[22m at \u001b[1m./inference.jl:1935\u001b[22m\u001b[22m",
      " [156] \u001b[1mabstract_interpret\u001b[22m\u001b[22m\u001b[1m(\u001b[22m\u001b[22m::Any, ::Array{Any,1}, ::Core.Inference.InferenceState\u001b[1m)\u001b[22m\u001b[22m at \u001b[1m./inference.jl:2061\u001b[22m\u001b[22m",
      " [157] \u001b[1mtypeinf_frame\u001b[22m\u001b[22m\u001b[1m(\u001b[22m\u001b[22m::Core.Inference.InferenceState\u001b[1m)\u001b[22m\u001b[22m at \u001b[1m./inference.jl:2725\u001b[22m\u001b[22m",
      " [158] \u001b[1mtypeinf_loop\u001b[22m\u001b[22m\u001b[1m(\u001b[22m\u001b[22m::Core.Inference.InferenceState\u001b[1m)\u001b[22m\u001b[22m at \u001b[1m./inference.jl:2624\u001b[22m\u001b[22m",
      " [159] \u001b[1mtypeinf_frame\u001b[22m\u001b[22m\u001b[1m(\u001b[22m\u001b[22m::Core.MethodInstance, ::Core.Inference.InferenceState, ::Bool, ::Bool, ::Core.Inference.InferenceParams\u001b[1m)\u001b[22m\u001b[22m at \u001b[1m./inference.jl:2494\u001b[22m\u001b[22m",
      " [160] \u001b[1mtypeinf_edge\u001b[22m\u001b[22m\u001b[1m(\u001b[22m\u001b[22m::Method, ::Any, ::SimpleVector, ::Core.Inference.InferenceState\u001b[1m)\u001b[22m\u001b[22m at \u001b[1m./inference.jl:2517\u001b[22m\u001b[22m",
      " [161] \u001b[1mabstract_call_gf_by_type\u001b[22m\u001b[22m\u001b[1m(\u001b[22m\u001b[22m::Any, ::Any, ::Core.Inference.InferenceState\u001b[1m)\u001b[22m\u001b[22m at \u001b[1m./inference.jl:1401\u001b[22m\u001b[22m",
      " [162] \u001b[1mabstract_call\u001b[22m\u001b[22m\u001b[1m(\u001b[22m\u001b[22m::Any, ::Array{Any,1}, ::Array{Any,1}, ::Array{Any,1}, ::Core.Inference.InferenceState\u001b[1m)\u001b[22m\u001b[22m at \u001b[1m./inference.jl:1882\u001b[22m\u001b[22m",
      " [163] \u001b[1mabstract_eval_call\u001b[22m\u001b[22m\u001b[1m(\u001b[22m\u001b[22m::Expr, ::Array{Any,1}, ::Core.Inference.InferenceState\u001b[1m)\u001b[22m\u001b[22m at \u001b[1m./inference.jl:1912\u001b[22m\u001b[22m",
      " [164] \u001b[1mabstract_eval\u001b[22m\u001b[22m\u001b[1m(\u001b[22m\u001b[22m::Any, ::Array{Any,1}, ::Core.Inference.InferenceState\u001b[1m)\u001b[22m\u001b[22m at \u001b[1m./inference.jl:1935\u001b[22m\u001b[22m",
      " [165] \u001b[1mabstract_interpret\u001b[22m\u001b[22m\u001b[1m(\u001b[22m\u001b[22m::Any, ::Array{Any,1}, ::Core.Inference.InferenceState\u001b[1m)\u001b[22m\u001b[22m at \u001b[1m./inference.jl:2061\u001b[22m\u001b[22m",
      " [166] \u001b[1mtypeinf_frame\u001b[22m\u001b[22m\u001b[1m(\u001b[22m\u001b[22m::Core.Inference.InferenceState\u001b[1m)\u001b[22m\u001b[22m at \u001b[1m./inference.jl:2725\u001b[22m\u001b[22m",
      " [167] \u001b[1mtypeinf_loop\u001b[22m\u001b[22m\u001b[1m(\u001b[22m\u001b[22m::Core.Inference.InferenceState\u001b[1m)\u001b[22m\u001b[22m at \u001b[1m./inference.jl:2624\u001b[22m\u001b[22m",
      " [168] \u001b[1mtypeinf_frame\u001b[22m\u001b[22m\u001b[1m(\u001b[22m\u001b[22m::Core.MethodInstance, ::Core.Inference.InferenceState, ::Bool, ::Bool, ::Core.Inference.InferenceParams\u001b[1m)\u001b[22m\u001b[22m at \u001b[1m./inference.jl:2494\u001b[22m\u001b[22m",
      " [169] \u001b[1mtypeinf_edge\u001b[22m\u001b[22m\u001b[1m(\u001b[22m\u001b[22m::Method, ::Any, ::SimpleVector, ::Core.Inference.InferenceState\u001b[1m)\u001b[22m\u001b[22m at \u001b[1m./inference.jl:2517\u001b[22m\u001b[22m",
      " [170] \u001b[1mabstract_call_gf_by_type\u001b[22m\u001b[22m\u001b[1m(\u001b[22m\u001b[22m::Any, ::Any, ::Core.Inference.InferenceState\u001b[1m)\u001b[22m\u001b[22m at \u001b[1m./inference.jl:1401\u001b[22m\u001b[22m",
      " [171] \u001b[1mabstract_call\u001b[22m\u001b[22m\u001b[1m(\u001b[22m\u001b[22m::Any, ::Array{Any,1}, ::Array{Any,1}, ::Array{Any,1}, ::Core.Inference.InferenceState\u001b[1m)\u001b[22m\u001b[22m at \u001b[1m./inference.jl:1882\u001b[22m\u001b[22m",
      " [172] \u001b[1mabstract_eval_call\u001b[22m\u001b[22m\u001b[1m(\u001b[22m\u001b[22m::Expr, ::Array{Any,1}, ::Core.Inference.InferenceState\u001b[1m)\u001b[22m\u001b[22m at \u001b[1m./inference.jl:1912\u001b[22m\u001b[22m",
      " [173] \u001b[1mabstract_eval\u001b[22m\u001b[22m\u001b[1m(\u001b[22m\u001b[22m::Any, ::Array{Any,1}, ::Core.Inference.InferenceState\u001b[1m)\u001b[22m\u001b[22m at \u001b[1m./inference.jl:1935\u001b[22m\u001b[22m",
      " [174] \u001b[1mabstract_interpret\u001b[22m\u001b[22m\u001b[1m(\u001b[22m\u001b[22m::Any, ::Array{Any,1}, ::Core.Inference.InferenceState\u001b[1m)\u001b[22m\u001b[22m at \u001b[1m./inference.jl:2061\u001b[22m\u001b[22m",
      " [175] \u001b[1mtypeinf_frame\u001b[22m\u001b[22m\u001b[1m(\u001b[22m\u001b[22m::Core.Inference.InferenceState\u001b[1m)\u001b[22m\u001b[22m at \u001b[1m./inference.jl:2725\u001b[22m\u001b[22m",
      " [176] \u001b[1mtypeinf_loop\u001b[22m\u001b[22m\u001b[1m(\u001b[22m\u001b[22m::Core.Inference.InferenceState\u001b[1m)\u001b[22m\u001b[22m at \u001b[1m./inference.jl:2624\u001b[22m\u001b[22m",
      " [177] \u001b[1mtypeinf_frame\u001b[22m\u001b[22m\u001b[1m(\u001b[22m\u001b[22m::Core.MethodInstance, ::Void, ::Bool, ::Bool, ::Core.Inference.InferenceParams\u001b[1m)\u001b[22m\u001b[22m at \u001b[1m./inference.jl:2494\u001b[22m\u001b[22m",
      " [178] \u001b[1mtypeinf_code\u001b[22m\u001b[22m\u001b[1m(\u001b[22m\u001b[22m::Core.MethodInstance, ::Bool, ::Bool, ::Core.Inference.InferenceParams\u001b[1m)\u001b[22m\u001b[22m at \u001b[1m./inference.jl:2564\u001b[22m\u001b[22m",
      " [179] \u001b[1mtypeinf_ext\u001b[22m\u001b[22m\u001b[1m(\u001b[22m\u001b[22m::Core.MethodInstance, ::UInt64\u001b[1m)\u001b[22m\u001b[22m at \u001b[1m./inference.jl:2603\u001b[22m\u001b[22m",
      " [180] \u001b[1minclude_string\u001b[22m\u001b[22m\u001b[1m(\u001b[22m\u001b[22m::String, ::String\u001b[1m)\u001b[22m\u001b[22m at \u001b[1m./loading.jl:515\u001b[22m\u001b[22m"
     ]
    }
   ],
   "source": [
    "gops, ops = NavierStokes.set_operators_two_level_body!(dom,params);"
   ]
  },
  {
   "cell_type": "markdown",
   "metadata": {},
   "source": [
    "### Create an initial solution structure"
   ]
  },
  {
   "cell_type": "code",
   "execution_count": 11,
   "metadata": {},
   "outputs": [
    {
     "ename": "MethodError",
     "evalue": "\u001b[91mMethodError: no method matching convert(::Type{AssertionError}, ::String)\u001b[0m\nClosest candidates are:\n  convert(\u001b[91m::Type{Any}\u001b[39m, ::ANY) at essentials.jl:28\n  convert(::Type{T}, \u001b[91m::T\u001b[39m) where T at essentials.jl:29\u001b[39m",
     "output_type": "error",
     "traceback": [
      "\u001b[91mMethodError: no method matching convert(::Type{AssertionError}, ::String)\u001b[0m\nClosest candidates are:\n  convert(\u001b[91m::Type{Any}\u001b[39m, ::ANY) at essentials.jl:28\n  convert(::Type{T}, \u001b[91m::T\u001b[39m) where T at essentials.jl:29\u001b[39m",
      "",
      "Stacktrace:",
      " [1] \u001b[1m(::Type{T})\u001b[22m\u001b[22m\u001b[1m(\u001b[22m\u001b[22m::Any\u001b[1m)\u001b[22m\u001b[22m at \u001b[1m./coreimg.jl:14\u001b[22m\u001b[22m",
      " [2] \u001b[1mupdate_valid_age!\u001b[22m\u001b[22m\u001b[1m(\u001b[22m\u001b[22m::UInt64, ::UInt64, ::Core.Inference.InferenceState\u001b[1m)\u001b[22m\u001b[22m at \u001b[1m./inference.jl:2363\u001b[22m\u001b[22m",
      " [3] \u001b[1madd_backedge\u001b[22m\u001b[22m\u001b[1m(\u001b[22m\u001b[22m::Core.Inference.InferenceState, ::Core.Inference.InferenceState, ::Int64\u001b[1m)\u001b[22m\u001b[22m at \u001b[1m./inference.jl:2448\u001b[22m\u001b[22m",
      " [4] \u001b[1mtypeinf_frame\u001b[22m\u001b[22m\u001b[1m(\u001b[22m\u001b[22m::Core.MethodInstance, ::Core.Inference.InferenceState, ::Bool, ::Bool, ::Core.Inference.InferenceParams\u001b[1m)\u001b[22m\u001b[22m at \u001b[1m./inference.jl:2492\u001b[22m\u001b[22m",
      " [5] \u001b[1mtypeinf_edge\u001b[22m\u001b[22m\u001b[1m(\u001b[22m\u001b[22m::Method, ::Any, ::SimpleVector, ::Core.Inference.InferenceState\u001b[1m)\u001b[22m\u001b[22m at \u001b[1m./inference.jl:2517\u001b[22m\u001b[22m",
      " [6] \u001b[1mabstract_call_gf_by_type\u001b[22m\u001b[22m\u001b[1m(\u001b[22m\u001b[22m::Any, ::Any, ::Core.Inference.InferenceState\u001b[1m)\u001b[22m\u001b[22m at \u001b[1m./inference.jl:1401\u001b[22m\u001b[22m",
      " [7] \u001b[1mabstract_call\u001b[22m\u001b[22m\u001b[1m(\u001b[22m\u001b[22m::Any, ::Array{Any,1}, ::Array{Any,1}, ::Array{Any,1}, ::Core.Inference.InferenceState\u001b[1m)\u001b[22m\u001b[22m at \u001b[1m./inference.jl:1882\u001b[22m\u001b[22m",
      " [8] \u001b[1mabstract_eval_call\u001b[22m\u001b[22m\u001b[1m(\u001b[22m\u001b[22m::Expr, ::Array{Any,1}, ::Core.Inference.InferenceState\u001b[1m)\u001b[22m\u001b[22m at \u001b[1m./inference.jl:1912\u001b[22m\u001b[22m",
      " [9] \u001b[1mabstract_eval\u001b[22m\u001b[22m\u001b[1m(\u001b[22m\u001b[22m::Any, ::Array{Any,1}, ::Core.Inference.InferenceState\u001b[1m)\u001b[22m\u001b[22m at \u001b[1m./inference.jl:1935\u001b[22m\u001b[22m",
      " [10] \u001b[1mtypeinf_frame\u001b[22m\u001b[22m\u001b[1m(\u001b[22m\u001b[22m::Core.Inference.InferenceState\u001b[1m)\u001b[22m\u001b[22m at \u001b[1m./inference.jl:2778\u001b[22m\u001b[22m",
      " [11] \u001b[1mtypeinf_loop\u001b[22m\u001b[22m\u001b[1m(\u001b[22m\u001b[22m::Core.Inference.InferenceState\u001b[1m)\u001b[22m\u001b[22m at \u001b[1m./inference.jl:2624\u001b[22m\u001b[22m",
      " [12] \u001b[1mtypeinf_frame\u001b[22m\u001b[22m\u001b[1m(\u001b[22m\u001b[22m::Core.MethodInstance, ::Core.Inference.InferenceState, ::Bool, ::Bool, ::Core.Inference.InferenceParams\u001b[1m)\u001b[22m\u001b[22m at \u001b[1m./inference.jl:2494\u001b[22m\u001b[22m",
      " [13] \u001b[1mtypeinf_edge\u001b[22m\u001b[22m\u001b[1m(\u001b[22m\u001b[22m::Method, ::Any, ::SimpleVector, ::Core.Inference.InferenceState\u001b[1m)\u001b[22m\u001b[22m at \u001b[1m./inference.jl:2517\u001b[22m\u001b[22m",
      " [14] \u001b[1mabstract_call_gf_by_type\u001b[22m\u001b[22m\u001b[1m(\u001b[22m\u001b[22m::Any, ::Any, ::Core.Inference.InferenceState\u001b[1m)\u001b[22m\u001b[22m at \u001b[1m./inference.jl:1401\u001b[22m\u001b[22m",
      " [15] \u001b[1mabstract_call\u001b[22m\u001b[22m\u001b[1m(\u001b[22m\u001b[22m::Any, ::Array{Any,1}, ::Array{Any,1}, ::Array{Any,1}, ::Core.Inference.InferenceState\u001b[1m)\u001b[22m\u001b[22m at \u001b[1m./inference.jl:1882\u001b[22m\u001b[22m",
      " [16] \u001b[1mabstract_eval_call\u001b[22m\u001b[22m\u001b[1m(\u001b[22m\u001b[22m::Expr, ::Array{Any,1}, ::Core.Inference.InferenceState\u001b[1m)\u001b[22m\u001b[22m at \u001b[1m./inference.jl:1912\u001b[22m\u001b[22m",
      " [17] \u001b[1mabstract_eval\u001b[22m\u001b[22m\u001b[1m(\u001b[22m\u001b[22m::Any, ::Array{Any,1}, ::Core.Inference.InferenceState\u001b[1m)\u001b[22m\u001b[22m at \u001b[1m./inference.jl:1935\u001b[22m\u001b[22m",
      " [18] \u001b[1mtypeinf_frame\u001b[22m\u001b[22m\u001b[1m(\u001b[22m\u001b[22m::Core.Inference.InferenceState\u001b[1m)\u001b[22m\u001b[22m at \u001b[1m./inference.jl:2778\u001b[22m\u001b[22m",
      " [19] \u001b[1mtypeinf_loop\u001b[22m\u001b[22m\u001b[1m(\u001b[22m\u001b[22m::Core.Inference.InferenceState\u001b[1m)\u001b[22m\u001b[22m at \u001b[1m./inference.jl:2624\u001b[22m\u001b[22m",
      " [20] \u001b[1mtypeinf_frame\u001b[22m\u001b[22m\u001b[1m(\u001b[22m\u001b[22m::Core.MethodInstance, ::Core.Inference.InferenceState, ::Bool, ::Bool, ::Core.Inference.InferenceParams\u001b[1m)\u001b[22m\u001b[22m at \u001b[1m./inference.jl:2494\u001b[22m\u001b[22m",
      " [21] \u001b[1mtypeinf_edge\u001b[22m\u001b[22m\u001b[1m(\u001b[22m\u001b[22m::Method, ::Any, ::SimpleVector, ::Core.Inference.InferenceState\u001b[1m)\u001b[22m\u001b[22m at \u001b[1m./inference.jl:2517\u001b[22m\u001b[22m",
      " [22] \u001b[1mabstract_call_gf_by_type\u001b[22m\u001b[22m\u001b[1m(\u001b[22m\u001b[22m::Any, ::Any, ::Core.Inference.InferenceState\u001b[1m)\u001b[22m\u001b[22m at \u001b[1m./inference.jl:1401\u001b[22m\u001b[22m",
      " [23] \u001b[1mabstract_call\u001b[22m\u001b[22m\u001b[1m(\u001b[22m\u001b[22m::Any, ::Array{Any,1}, ::Array{Any,1}, ::Array{Any,1}, ::Core.Inference.InferenceState\u001b[1m)\u001b[22m\u001b[22m at \u001b[1m./inference.jl:1882\u001b[22m\u001b[22m",
      " [24] \u001b[1mabstract_eval_call\u001b[22m\u001b[22m\u001b[1m(\u001b[22m\u001b[22m::Expr, ::Array{Any,1}, ::Core.Inference.InferenceState\u001b[1m)\u001b[22m\u001b[22m at \u001b[1m./inference.jl:1912\u001b[22m\u001b[22m",
      " [25] \u001b[1mabstract_eval\u001b[22m\u001b[22m\u001b[1m(\u001b[22m\u001b[22m::Any, ::Array{Any,1}, ::Core.Inference.InferenceState\u001b[1m)\u001b[22m\u001b[22m at \u001b[1m./inference.jl:1935\u001b[22m\u001b[22m",
      " [26] \u001b[1mcopy!\u001b[22m\u001b[22m\u001b[1m(\u001b[22m\u001b[22m::Array{Any,1}, ::Core.Inference.Generator{Array{Any,1},Core.Inference.##189#190{Array{Any,1},Core.Inference.InferenceState}}\u001b[1m)\u001b[22m\u001b[22m at \u001b[1m./abstractarray.jl:572\u001b[22m\u001b[22m",
      " [27] \u001b[1mabstract_eval_call\u001b[22m\u001b[22m\u001b[1m(\u001b[22m\u001b[22m::Expr, ::Array{Any,1}, ::Core.Inference.InferenceState\u001b[1m)\u001b[22m\u001b[22m at \u001b[1m./inference.jl:1886\u001b[22m\u001b[22m",
      " [28] \u001b[1mabstract_eval\u001b[22m\u001b[22m\u001b[1m(\u001b[22m\u001b[22m::Any, ::Array{Any,1}, ::Core.Inference.InferenceState\u001b[1m)\u001b[22m\u001b[22m at \u001b[1m./inference.jl:1935\u001b[22m\u001b[22m",
      " [29] \u001b[1mcopy!\u001b[22m\u001b[22m\u001b[1m(\u001b[22m\u001b[22m::Array{Any,1}, ::Core.Inference.Generator{Array{Any,1},Core.Inference.##189#190{Array{Any,1},Core.Inference.InferenceState}}\u001b[1m)\u001b[22m\u001b[22m at \u001b[1m./abstractarray.jl:572\u001b[22m\u001b[22m",
      " [30] \u001b[1mabstract_eval_call\u001b[22m\u001b[22m\u001b[1m(\u001b[22m\u001b[22m::Expr, ::Array{Any,1}, ::Core.Inference.InferenceState\u001b[1m)\u001b[22m\u001b[22m at \u001b[1m./inference.jl:1886\u001b[22m\u001b[22m",
      " [31] \u001b[1mabstract_eval\u001b[22m\u001b[22m\u001b[1m(\u001b[22m\u001b[22m::Any, ::Array{Any,1}, ::Core.Inference.InferenceState\u001b[1m)\u001b[22m\u001b[22m at \u001b[1m./inference.jl:1935\u001b[22m\u001b[22m",
      " [32] \u001b[1mabstract_interpret\u001b[22m\u001b[22m\u001b[1m(\u001b[22m\u001b[22m::Any, ::Array{Any,1}, ::Core.Inference.InferenceState\u001b[1m)\u001b[22m\u001b[22m at \u001b[1m./inference.jl:2061\u001b[22m\u001b[22m",
      " [33] \u001b[1mtypeinf_frame\u001b[22m\u001b[22m\u001b[1m(\u001b[22m\u001b[22m::Core.Inference.InferenceState\u001b[1m)\u001b[22m\u001b[22m at \u001b[1m./inference.jl:2725\u001b[22m\u001b[22m",
      " [34] \u001b[1mtypeinf_loop\u001b[22m\u001b[22m\u001b[1m(\u001b[22m\u001b[22m::Core.Inference.InferenceState\u001b[1m)\u001b[22m\u001b[22m at \u001b[1m./inference.jl:2624\u001b[22m\u001b[22m",
      " [35] \u001b[1mtypeinf_frame\u001b[22m\u001b[22m\u001b[1m(\u001b[22m\u001b[22m::Core.MethodInstance, ::Core.Inference.InferenceState, ::Bool, ::Bool, ::Core.Inference.InferenceParams\u001b[1m)\u001b[22m\u001b[22m at \u001b[1m./inference.jl:2494\u001b[22m\u001b[22m",
      " [36] \u001b[1mtypeinf_edge\u001b[22m\u001b[22m\u001b[1m(\u001b[22m\u001b[22m::Method, ::Any, ::SimpleVector, ::Core.Inference.InferenceState\u001b[1m)\u001b[22m\u001b[22m at \u001b[1m./inference.jl:2517\u001b[22m\u001b[22m",
      " [37] \u001b[1mabstract_call_gf_by_type\u001b[22m\u001b[22m\u001b[1m(\u001b[22m\u001b[22m::Any, ::Any, ::Core.Inference.InferenceState\u001b[1m)\u001b[22m\u001b[22m at \u001b[1m./inference.jl:1401\u001b[22m\u001b[22m",
      " [38] \u001b[1mabstract_call\u001b[22m\u001b[22m\u001b[1m(\u001b[22m\u001b[22m::Any, ::Array{Any,1}, ::Array{Any,1}, ::Array{Any,1}, ::Core.Inference.InferenceState\u001b[1m)\u001b[22m\u001b[22m at \u001b[1m./inference.jl:1882\u001b[22m\u001b[22m",
      " [39] \u001b[1mabstract_eval_call\u001b[22m\u001b[22m\u001b[1m(\u001b[22m\u001b[22m::Expr, ::Array{Any,1}, ::Core.Inference.InferenceState\u001b[1m)\u001b[22m\u001b[22m at \u001b[1m./inference.jl:1912\u001b[22m\u001b[22m",
      " [40] \u001b[1mabstract_eval\u001b[22m\u001b[22m\u001b[1m(\u001b[22m\u001b[22m::Any, ::Array{Any,1}, ::Core.Inference.InferenceState\u001b[1m)\u001b[22m\u001b[22m at \u001b[1m./inference.jl:1935\u001b[22m\u001b[22m",
      " [41] \u001b[1mabstract_interpret\u001b[22m\u001b[22m\u001b[1m(\u001b[22m\u001b[22m::Any, ::Array{Any,1}, ::Core.Inference.InferenceState\u001b[1m)\u001b[22m\u001b[22m at \u001b[1m./inference.jl:2069\u001b[22m\u001b[22m",
      " [42] \u001b[1mtypeinf_frame\u001b[22m\u001b[22m\u001b[1m(\u001b[22m\u001b[22m::Core.Inference.InferenceState\u001b[1m)\u001b[22m\u001b[22m at \u001b[1m./inference.jl:2725\u001b[22m\u001b[22m",
      " [43] \u001b[1mtypeinf_loop\u001b[22m\u001b[22m\u001b[1m(\u001b[22m\u001b[22m::Core.Inference.InferenceState\u001b[1m)\u001b[22m\u001b[22m at \u001b[1m./inference.jl:2624\u001b[22m\u001b[22m",
      " [44] \u001b[1mtypeinf_frame\u001b[22m\u001b[22m\u001b[1m(\u001b[22m\u001b[22m::Core.MethodInstance, ::Core.Inference.InferenceState, ::Bool, ::Bool, ::Core.Inference.InferenceParams\u001b[1m)\u001b[22m\u001b[22m at \u001b[1m./inference.jl:2494\u001b[22m\u001b[22m",
      " [45] \u001b[1mtypeinf_edge\u001b[22m\u001b[22m\u001b[1m(\u001b[22m\u001b[22m::Method, ::Any, ::SimpleVector, ::Core.Inference.InferenceState\u001b[1m)\u001b[22m\u001b[22m at \u001b[1m./inference.jl:2517\u001b[22m\u001b[22m",
      " [46] \u001b[1mabstract_call_gf_by_type\u001b[22m\u001b[22m\u001b[1m(\u001b[22m\u001b[22m::Any, ::Any, ::Core.Inference.InferenceState\u001b[1m)\u001b[22m\u001b[22m at \u001b[1m./inference.jl:1401\u001b[22m\u001b[22m",
      " [47] \u001b[1mabstract_call\u001b[22m\u001b[22m\u001b[1m(\u001b[22m\u001b[22m::Any, ::Array{Any,1}, ::Array{Any,1}, ::Array{Any,1}, ::Core.Inference.InferenceState\u001b[1m)\u001b[22m\u001b[22m at \u001b[1m./inference.jl:1882\u001b[22m\u001b[22m",
      " [48] \u001b[1mabstract_eval_call\u001b[22m\u001b[22m\u001b[1m(\u001b[22m\u001b[22m::Expr, ::Array{Any,1}, ::Core.Inference.InferenceState\u001b[1m)\u001b[22m\u001b[22m at \u001b[1m./inference.jl:1912\u001b[22m\u001b[22m",
      " [49] \u001b[1mabstract_eval\u001b[22m\u001b[22m\u001b[1m(\u001b[22m\u001b[22m::Any, ::Array{Any,1}, ::Core.Inference.InferenceState\u001b[1m)\u001b[22m\u001b[22m at \u001b[1m./inference.jl:1935\u001b[22m\u001b[22m",
      " [50] \u001b[1mtypeinf_frame\u001b[22m\u001b[22m\u001b[1m(\u001b[22m\u001b[22m::Core.Inference.InferenceState\u001b[1m)\u001b[22m\u001b[22m at \u001b[1m./inference.jl:2778\u001b[22m\u001b[22m",
      " [51] \u001b[1mtypeinf_loop\u001b[22m\u001b[22m\u001b[1m(\u001b[22m\u001b[22m::Core.Inference.InferenceState\u001b[1m)\u001b[22m\u001b[22m at \u001b[1m./inference.jl:2624\u001b[22m\u001b[22m",
      " [52] \u001b[1mtypeinf_frame\u001b[22m\u001b[22m\u001b[1m(\u001b[22m\u001b[22m::Core.MethodInstance, ::Void, ::Bool, ::Bool, ::Core.Inference.InferenceParams\u001b[1m)\u001b[22m\u001b[22m at \u001b[1m./inference.jl:2494\u001b[22m\u001b[22m",
      " [53] \u001b[1mtypeinf_code\u001b[22m\u001b[22m\u001b[1m(\u001b[22m\u001b[22m::Core.MethodInstance, ::Bool, ::Bool, ::Core.Inference.InferenceParams\u001b[1m)\u001b[22m\u001b[22m at \u001b[1m./inference.jl:2564\u001b[22m\u001b[22m",
      " [54] \u001b[1mtypeinf_ext\u001b[22m\u001b[22m\u001b[1m(\u001b[22m\u001b[22m::Core.MethodInstance, ::UInt64\u001b[1m)\u001b[22m\u001b[22m at \u001b[1m./inference.jl:2603\u001b[22m\u001b[22m",
      " [55] \u001b[1m#showarray#263\u001b[22m\u001b[22m\u001b[1m(\u001b[22m\u001b[22m::Any, ::Any, ::IO, ::AbstractArray, ::Bool\u001b[1m)\u001b[22m\u001b[22m at \u001b[1m./show.jl:1709\u001b[22m\u001b[22m",
      " [56] \u001b[1mshowarray\u001b[22m\u001b[22m\u001b[1m(\u001b[22m\u001b[22m::IO, ::AbstractArray, ::Bool\u001b[1m)\u001b[22m\u001b[22m at \u001b[1m./show.jl:1680\u001b[22m\u001b[22m",
      " [57] \u001b[1mshow\u001b[22m\u001b[22m\u001b[1m(\u001b[22m\u001b[22m::IO, ::MIME{Symbol(\"text/plain\")}, ::AbstractArray\u001b[1m)\u001b[22m\u001b[22m at \u001b[1m./replutil.jl:140\u001b[22m\u001b[22m",
      " [58] \u001b[1mlimitstringmime\u001b[22m\u001b[22m\u001b[1m(\u001b[22m\u001b[22m::MIME, ::Any\u001b[1m)\u001b[22m\u001b[22m at \u001b[1m/Users/jeff/.julia/v0.6/IJulia/src/inline.jl:24\u001b[22m\u001b[22m",
      " [59] \u001b[1mdisplay_dict\u001b[22m\u001b[22m\u001b[1m(\u001b[22m\u001b[22m::Any\u001b[1m)\u001b[22m\u001b[22m at \u001b[1m/Users/jeff/.julia/v0.6/IJulia/src/execute_request.jl:27\u001b[22m\u001b[22m",
      " [60] \u001b[1m(::Compat.#inner#16)\u001b[22m\u001b[22m\u001b[1m(\u001b[22m\u001b[22m\u001b[1m)\u001b[22m\u001b[22m at \u001b[1m/Users/jeff/.julia/v0.6/Compat/src/Compat.jl:496\u001b[22m\u001b[22m",
      " [61] \u001b[1m#invokelatest#15\u001b[22m\u001b[22m\u001b[1m(\u001b[22m\u001b[22m::Array{Any,1}, ::Function, ::Function, ::Array{Whirl2d.ConstrainedSoln{Array{Array{Float64,2},1},Array{Array{Float64,2},1}},1}, ::Vararg{Array{Whirl2d.ConstrainedSoln{Array{Array{Float64,2},1},Array{Array{Float64,2},1}},1},N} where N\u001b[1m)\u001b[22m\u001b[22m at \u001b[1m/Users/jeff/.julia/v0.6/Compat/src/Compat.jl:497\u001b[22m\u001b[22m",
      " [62] \u001b[1minvokelatest\u001b[22m\u001b[22m\u001b[1m(\u001b[22m\u001b[22m::Function, ::Array{Whirl2d.ConstrainedSoln{Array{Array{Float64,2},1},Array{Array{Float64,2},1}},1}, ::Vararg{Array{Whirl2d.ConstrainedSoln{Array{Array{Float64,2},1},Array{Array{Float64,2},1}},1},N} where N\u001b[1m)\u001b[22m\u001b[22m at \u001b[1m/Users/jeff/.julia/v0.6/Compat/src/Compat.jl:496\u001b[22m\u001b[22m",
      " [63] \u001b[1mexecute_request\u001b[22m\u001b[22m\u001b[1m(\u001b[22m\u001b[22m::Any, ::Any\u001b[1m)\u001b[22m\u001b[22m at \u001b[1m/Users/jeff/.julia/v0.6/IJulia/src/execute_request.jl:182\u001b[22m\u001b[22m",
      " [64] \u001b[1m(::Compat.#inner#16)\u001b[22m\u001b[22m\u001b[1m(\u001b[22m\u001b[22m\u001b[1m)\u001b[22m\u001b[22m at \u001b[1m/Users/jeff/.julia/v0.6/Compat/src/Compat.jl:496\u001b[22m\u001b[22m",
      " [65] \u001b[1meventloop\u001b[22m\u001b[22m\u001b[1m(\u001b[22m\u001b[22m::ZMQ.Socket\u001b[1m)\u001b[22m\u001b[22m at \u001b[1m/Users/jeff/.julia/v0.6/IJulia/src/eventloop.jl:8\u001b[22m\u001b[22m",
      " [66] \u001b[1m(::IJulia.##14#17)\u001b[22m\u001b[22m\u001b[1m(\u001b[22m\u001b[22m\u001b[1m)\u001b[22m\u001b[22m at \u001b[1m./task.jl:335\u001b[22m\u001b[22m"
     ]
    }
   ],
   "source": [
    "s = NavierStokes.TwoLevelBodySoln(dom)\n",
    "h = [s]\n",
    "#TimeMarching.ifherk!(s,tparams,ops)"
   ]
  },
  {
   "cell_type": "markdown",
   "metadata": {},
   "source": [
    "### Advance the solution"
   ]
  },
  {
   "cell_type": "code",
   "execution_count": 12,
   "metadata": {},
   "outputs": [
    {
     "ename": "LoadError",
     "evalue": "\u001b[91mMethodError: no method matching string(::Expr)\nThe applicable method may be too new: running in world age 2754, while current world is 23230.\u001b[0m\nClosest candidates are:\n  string(::Any...) at strings/io.jl:120 (method too new to be called from this world context.)\n  string(\u001b[91m::BigInt\u001b[39m) at gmp.jl:568 (method too new to be called from this world context.)\n  string(\u001b[91m::BigFloat\u001b[39m) at mpfr.jl:885 (method too new to be called from this world context.)\n  ...\u001b[39m",
     "output_type": "error",
     "traceback": [
      "\u001b[91mMethodError: no method matching string(::Expr)\nThe applicable method may be too new: running in world age 2754, while current world is 23230.\u001b[0m\nClosest candidates are:\n  string(::Any...) at strings/io.jl:120 (method too new to be called from this world context.)\n  string(\u001b[91m::BigInt\u001b[39m) at gmp.jl:568 (method too new to be called from this world context.)\n  string(\u001b[91m::BigFloat\u001b[39m) at mpfr.jl:885 (method too new to be called from this world context.)\n  ...\u001b[39m",
      "",
      "Stacktrace:",
      " [1] \u001b[1mtypeinf_ext\u001b[22m\u001b[22m\u001b[1m(\u001b[22m\u001b[22m::Core.MethodInstance, ::UInt64\u001b[1m)\u001b[22m\u001b[22m at \u001b[1m./inference.jl:2612\u001b[22m\u001b[22m",
      " [2] \u001b[1minclude_string\u001b[22m\u001b[22m\u001b[1m(\u001b[22m\u001b[22m::String, ::String\u001b[1m)\u001b[22m\u001b[22m at \u001b[1m./loading.jl:515\u001b[22m\u001b[22m"
     ]
    }
   ],
   "source": [
    "@time for i = 1:6*nT\n",
    "    s = TimeMarching.ifherk!(s,tparams,ops)\n",
    "    push!(h,s)\n",
    "end\n",
    "s"
   ]
  },
  {
   "cell_type": "markdown",
   "metadata": {},
   "source": [
    "### Evaluate the fields of the solution history"
   ]
  },
  {
   "cell_type": "code",
   "execution_count": 13,
   "metadata": {},
   "outputs": [
    {
     "ename": "LoadError",
     "evalue": "\u001b[91mUndefVarError: gops not defined\u001b[39m",
     "output_type": "error",
     "traceback": [
      "\u001b[91mUndefVarError: gops not defined\u001b[39m",
      "",
      "Stacktrace:",
      " [1] \u001b[1minclude_string\u001b[22m\u001b[22m\u001b[1m(\u001b[22m\u001b[22m::String, ::String\u001b[1m)\u001b[22m\u001b[22m at \u001b[1m./loading.jl:515\u001b[22m\u001b[22m"
     ]
    }
   ],
   "source": [
    "@time f = NavierStokes.evaluateFields.(h,dom.grid,gops);\n",
    "t = map(x -> x.t, f);\n",
    "ω = map(x -> x.ω, f);\n",
    "ψ = map(x -> x.ψ, f);\n",
    "ux = map(x -> x.ux, f);\n",
    "uy = map(x -> x.uy, f);"
   ]
  },
  {
   "cell_type": "markdown",
   "metadata": {},
   "source": [
    "#### Average over the last period"
   ]
  },
  {
   "cell_type": "code",
   "execution_count": 14,
   "metadata": {},
   "outputs": [
    {
     "ename": "LoadError",
     "evalue": "\u001b[91mUndefVarError: ψ not defined\u001b[39m",
     "output_type": "error",
     "traceback": [
      "\u001b[91mUndefVarError: ψ not defined\u001b[39m",
      "",
      "Stacktrace:",
      " [1] \u001b[1minclude_string\u001b[22m\u001b[22m\u001b[1m(\u001b[22m\u001b[22m::String, ::String\u001b[1m)\u001b[22m\u001b[22m at \u001b[1m./loading.jl:515\u001b[22m\u001b[22m"
     ]
    }
   ],
   "source": [
    "ψavg = NavierStokes.average(ψ, length(f)-nT+1:length(f));\n",
    "ωavg = NavierStokes.average(ω, length(f)-nT+1:length(f));"
   ]
  },
  {
   "cell_type": "markdown",
   "metadata": {},
   "source": [
    "### Plot the solution"
   ]
  },
  {
   "cell_type": "markdown",
   "metadata": {},
   "source": [
    "#### Level 1 solution"
   ]
  },
  {
   "cell_type": "code",
   "execution_count": 15,
   "metadata": {},
   "outputs": [
    {
     "ename": "LoadError",
     "evalue": "\u001b[91mUndefVarError: ω not defined\u001b[39m",
     "output_type": "error",
     "traceback": [
      "\u001b[91mUndefVarError: ω not defined\u001b[39m",
      "",
      "Stacktrace:",
      " [1] \u001b[1minclude_string\u001b[22m\u001b[22m\u001b[1m(\u001b[22m\u001b[22m::String, ::String\u001b[1m)\u001b[22m\u001b[22m at \u001b[1m./loading.jl:515\u001b[22m\u001b[22m"
     ]
    }
   ],
   "source": [
    "contour(x,y,transpose(ω[end][1]),linspace(-5,5,30))\n",
    "for j = 1:dom.nbody\n",
    "    xpt = [dom.body[j].x[i][1] for i = 1:dom.body[j].N]\n",
    "    ypt = [dom.body[j].x[i][2] for i = 1:dom.body[j].N]\n",
    "    fill(xpt,ypt,color=\"k\",zorder=2)\n",
    "end\n",
    "axis(\"scaled\")"
   ]
  },
  {
   "cell_type": "code",
   "execution_count": 16,
   "metadata": {},
   "outputs": [
    {
     "ename": "LoadError",
     "evalue": "\u001b[91mUndefVarError: ψ not defined\u001b[39m",
     "output_type": "error",
     "traceback": [
      "\u001b[91mUndefVarError: ψ not defined\u001b[39m",
      "",
      "Stacktrace:",
      " [1] \u001b[1minclude_string\u001b[22m\u001b[22m\u001b[1m(\u001b[22m\u001b[22m::String, ::String\u001b[1m)\u001b[22m\u001b[22m at \u001b[1m./loading.jl:515\u001b[22m\u001b[22m"
     ]
    }
   ],
   "source": [
    "contour(x,y,transpose(ψ[end][1]),31)\n",
    "for j = 1:dom.nbody\n",
    "    xpt = [dom.body[j].x[i][1] for i = 1:dom.body[j].N]\n",
    "    ypt = [dom.body[j].x[i][2] for i = 1:dom.body[j].N]\n",
    "    fill(xpt,ypt,color=\"k\",zorder=2)\n",
    "end\n",
    "axis(\"scaled\")"
   ]
  },
  {
   "cell_type": "markdown",
   "metadata": {},
   "source": [
    "#### Level 2 solution"
   ]
  },
  {
   "cell_type": "code",
   "execution_count": 17,
   "metadata": {},
   "outputs": [
    {
     "ename": "LoadError",
     "evalue": "\u001b[91mUndefVarError: ω not defined\u001b[39m",
     "output_type": "error",
     "traceback": [
      "\u001b[91mUndefVarError: ω not defined\u001b[39m",
      "",
      "Stacktrace:",
      " [1] \u001b[1minclude_string\u001b[22m\u001b[22m\u001b[1m(\u001b[22m\u001b[22m::String, ::String\u001b[1m)\u001b[22m\u001b[22m at \u001b[1m./loading.jl:515\u001b[22m\u001b[22m"
     ]
    }
   ],
   "source": [
    "contour(x,y,transpose(ω[end][2]),linspace(-5,5,30))\n",
    "for j = 1:dom.nbody\n",
    "    xpt = [dom.body[j].x[i][1] for i = 1:dom.body[j].N]\n",
    "    ypt = [dom.body[j].x[i][2] for i = 1:dom.body[j].N]\n",
    "    fill(xpt,ypt,color=\"k\",zorder=2)\n",
    "end\n",
    "axis(\"scaled\")"
   ]
  },
  {
   "cell_type": "code",
   "execution_count": 18,
   "metadata": {},
   "outputs": [
    {
     "ename": "LoadError",
     "evalue": "\u001b[91mUndefVarError: ψ not defined\u001b[39m",
     "output_type": "error",
     "traceback": [
      "\u001b[91mUndefVarError: ψ not defined\u001b[39m",
      "",
      "Stacktrace:",
      " [1] \u001b[1minclude_string\u001b[22m\u001b[22m\u001b[1m(\u001b[22m\u001b[22m::String, ::String\u001b[1m)\u001b[22m\u001b[22m at \u001b[1m./loading.jl:515\u001b[22m\u001b[22m"
     ]
    }
   ],
   "source": [
    "contour(x,y,transpose(ψ[end][2]),31)\n",
    "for j = 1:dom.nbody\n",
    "    xpt = [dom.body[j].x[i][1] for i = 1:dom.body[j].N]\n",
    "    ypt = [dom.body[j].x[i][2] for i = 1:dom.body[j].N]\n",
    "    fill(xpt,ypt,color=\"k\",zorder=2)\n",
    "end\n",
    "axis(\"scaled\")"
   ]
  },
  {
   "cell_type": "markdown",
   "metadata": {},
   "source": [
    "#### Level 2 mean solution"
   ]
  },
  {
   "cell_type": "code",
   "execution_count": 19,
   "metadata": {},
   "outputs": [
    {
     "ename": "LoadError",
     "evalue": "\u001b[91mUndefVarError: ψavg not defined\u001b[39m",
     "output_type": "error",
     "traceback": [
      "\u001b[91mUndefVarError: ψavg not defined\u001b[39m",
      "",
      "Stacktrace:",
      " [1] \u001b[1minclude_string\u001b[22m\u001b[22m\u001b[1m(\u001b[22m\u001b[22m::String, ::String\u001b[1m)\u001b[22m\u001b[22m at \u001b[1m./loading.jl:515\u001b[22m\u001b[22m"
     ]
    }
   ],
   "source": [
    "contour(x,y,ψavg[2],linspace(-0.5,0.5,31))\n",
    "for j = 1:dom.nbody\n",
    "    xpt = [dom.body[j].x[i][1] for i = 1:dom.body[j].N]\n",
    "    ypt = [dom.body[j].x[i][2] for i = 1:dom.body[j].N]\n",
    "    fill(xpt,ypt,color=\"k\",zorder=2)\n",
    "end\n",
    "axis(\"scaled\")"
   ]
  },
  {
   "cell_type": "code",
   "execution_count": 20,
   "metadata": {},
   "outputs": [
    {
     "ename": "LoadError",
     "evalue": "\u001b[91mUndefVarError: ωavg not defined\u001b[39m",
     "output_type": "error",
     "traceback": [
      "\u001b[91mUndefVarError: ωavg not defined\u001b[39m",
      "",
      "Stacktrace:",
      " [1] \u001b[1minclude_string\u001b[22m\u001b[22m\u001b[1m(\u001b[22m\u001b[22m::String, ::String\u001b[1m)\u001b[22m\u001b[22m at \u001b[1m./loading.jl:515\u001b[22m\u001b[22m"
     ]
    }
   ],
   "source": [
    "contour(x,y,ωavg[2],linspace(-5,5,30))\n",
    "for j = 1:dom.nbody\n",
    "    xpt = [dom.body[j].x[i][1] for i = 1:dom.body[j].N]\n",
    "    ypt = [dom.body[j].x[i][2] for i = 1:dom.body[j].N]\n",
    "    fill(xpt,ypt,color=\"k\",zorder=2)\n",
    "end\n",
    "axis(\"scaled\")"
   ]
  },
  {
   "cell_type": "markdown",
   "metadata": {},
   "source": [
    "### Sample the computed solution"
   ]
  },
  {
   "cell_type": "code",
   "execution_count": 21,
   "metadata": {},
   "outputs": [],
   "source": [
    "using Interpolations"
   ]
  },
  {
   "cell_type": "code",
   "execution_count": 22,
   "metadata": {},
   "outputs": [
    {
     "ename": "LoadError",
     "evalue": "\u001b[91mMethodError: no method matching convert(::Type{AssertionError}, ::String)\u001b[0m\nClosest candidates are:\n  convert(\u001b[91m::Type{Any}\u001b[39m, ::ANY) at essentials.jl:28\n  convert(::Type{T}, \u001b[91m::T\u001b[39m) where T at essentials.jl:29\u001b[39m",
     "output_type": "error",
     "traceback": [
      "\u001b[91mMethodError: no method matching convert(::Type{AssertionError}, ::String)\u001b[0m\nClosest candidates are:\n  convert(\u001b[91m::Type{Any}\u001b[39m, ::ANY) at essentials.jl:28\n  convert(::Type{T}, \u001b[91m::T\u001b[39m) where T at essentials.jl:29\u001b[39m",
      "",
      "Stacktrace:",
      " [1] \u001b[1m(::Type{T})\u001b[22m\u001b[22m\u001b[1m(\u001b[22m\u001b[22m::Any\u001b[1m)\u001b[22m\u001b[22m at \u001b[1m./coreimg.jl:14\u001b[22m\u001b[22m",
      " [2] \u001b[1mupdate_valid_age!\u001b[22m\u001b[22m\u001b[1m(\u001b[22m\u001b[22m::UInt64, ::UInt64, ::Core.Inference.InferenceState\u001b[1m)\u001b[22m\u001b[22m at \u001b[1m./inference.jl:2363\u001b[22m\u001b[22m",
      " [3] \u001b[1madd_backedge\u001b[22m\u001b[22m\u001b[1m(\u001b[22m\u001b[22m::Core.Inference.InferenceState, ::Core.Inference.InferenceState, ::Int64\u001b[1m)\u001b[22m\u001b[22m at \u001b[1m./inference.jl:2448\u001b[22m\u001b[22m",
      " [4] \u001b[1mtypeinf_frame\u001b[22m\u001b[22m\u001b[1m(\u001b[22m\u001b[22m::Core.MethodInstance, ::Core.Inference.InferenceState, ::Bool, ::Bool, ::Core.Inference.InferenceParams\u001b[1m)\u001b[22m\u001b[22m at \u001b[1m./inference.jl:2492\u001b[22m\u001b[22m",
      " [5] \u001b[1mtypeinf_edge\u001b[22m\u001b[22m\u001b[1m(\u001b[22m\u001b[22m::Method, ::Any, ::SimpleVector, ::Core.Inference.InferenceState\u001b[1m)\u001b[22m\u001b[22m at \u001b[1m./inference.jl:2517\u001b[22m\u001b[22m",
      " [6] \u001b[1mabstract_call_gf_by_type\u001b[22m\u001b[22m\u001b[1m(\u001b[22m\u001b[22m::Any, ::Any, ::Core.Inference.InferenceState\u001b[1m)\u001b[22m\u001b[22m at \u001b[1m./inference.jl:1401\u001b[22m\u001b[22m",
      " [7] \u001b[1mabstract_eval_call\u001b[22m\u001b[22m\u001b[1m(\u001b[22m\u001b[22m::Expr, ::Array{Any,1}, ::Core.Inference.InferenceState\u001b[1m)\u001b[22m\u001b[22m at \u001b[1m./inference.jl:1907\u001b[22m\u001b[22m",
      " [8] \u001b[1mabstract_eval\u001b[22m\u001b[22m\u001b[1m(\u001b[22m\u001b[22m::Any, ::Array{Any,1}, ::Core.Inference.InferenceState\u001b[1m)\u001b[22m\u001b[22m at \u001b[1m./inference.jl:1935\u001b[22m\u001b[22m",
      " [9] \u001b[1mcopy!\u001b[22m\u001b[22m\u001b[1m(\u001b[22m\u001b[22m::Array{Any,1}, ::Core.Inference.Generator{Array{Any,1},Core.Inference.##189#190{Array{Any,1},Core.Inference.InferenceState}}\u001b[1m)\u001b[22m\u001b[22m at \u001b[1m./abstractarray.jl:572\u001b[22m\u001b[22m",
      " [10] \u001b[1mabstract_eval_call\u001b[22m\u001b[22m\u001b[1m(\u001b[22m\u001b[22m::Expr, ::Array{Any,1}, ::Core.Inference.InferenceState\u001b[1m)\u001b[22m\u001b[22m at \u001b[1m./inference.jl:1886\u001b[22m\u001b[22m",
      " [11] \u001b[1mabstract_eval\u001b[22m\u001b[22m\u001b[1m(\u001b[22m\u001b[22m::Any, ::Array{Any,1}, ::Core.Inference.InferenceState\u001b[1m)\u001b[22m\u001b[22m at \u001b[1m./inference.jl:1935\u001b[22m\u001b[22m",
      " [12] \u001b[1mtypeinf_frame\u001b[22m\u001b[22m\u001b[1m(\u001b[22m\u001b[22m::Core.Inference.InferenceState\u001b[1m)\u001b[22m\u001b[22m at \u001b[1m./inference.jl:2778\u001b[22m\u001b[22m",
      " [13] \u001b[1mtypeinf_loop\u001b[22m\u001b[22m\u001b[1m(\u001b[22m\u001b[22m::Core.Inference.InferenceState\u001b[1m)\u001b[22m\u001b[22m at \u001b[1m./inference.jl:2624\u001b[22m\u001b[22m",
      " [14] \u001b[1mtypeinf_frame\u001b[22m\u001b[22m\u001b[1m(\u001b[22m\u001b[22m::Core.MethodInstance, ::Core.Inference.InferenceState, ::Bool, ::Bool, ::Core.Inference.InferenceParams\u001b[1m)\u001b[22m\u001b[22m at \u001b[1m./inference.jl:2494\u001b[22m\u001b[22m",
      " [15] \u001b[1mtypeinf_edge\u001b[22m\u001b[22m\u001b[1m(\u001b[22m\u001b[22m::Method, ::Any, ::SimpleVector, ::Core.Inference.InferenceState\u001b[1m)\u001b[22m\u001b[22m at \u001b[1m./inference.jl:2517\u001b[22m\u001b[22m",
      " [16] \u001b[1mabstract_call_gf_by_type\u001b[22m\u001b[22m\u001b[1m(\u001b[22m\u001b[22m::Any, ::Any, ::Core.Inference.InferenceState\u001b[1m)\u001b[22m\u001b[22m at \u001b[1m./inference.jl:1401\u001b[22m\u001b[22m",
      " [17] \u001b[1mabstract_call\u001b[22m\u001b[22m\u001b[1m(\u001b[22m\u001b[22m::Any, ::Array{Any,1}, ::Array{Any,1}, ::Array{Any,1}, ::Core.Inference.InferenceState\u001b[1m)\u001b[22m\u001b[22m at \u001b[1m./inference.jl:1882\u001b[22m\u001b[22m",
      " [18] \u001b[1mabstract_eval_call\u001b[22m\u001b[22m\u001b[1m(\u001b[22m\u001b[22m::Expr, ::Array{Any,1}, ::Core.Inference.InferenceState\u001b[1m)\u001b[22m\u001b[22m at \u001b[1m./inference.jl:1912\u001b[22m\u001b[22m",
      " [19] \u001b[1mabstract_eval\u001b[22m\u001b[22m\u001b[1m(\u001b[22m\u001b[22m::Any, ::Array{Any,1}, ::Core.Inference.InferenceState\u001b[1m)\u001b[22m\u001b[22m at \u001b[1m./inference.jl:1935\u001b[22m\u001b[22m",
      " [20] \u001b[1mtypeinf_frame\u001b[22m\u001b[22m\u001b[1m(\u001b[22m\u001b[22m::Core.Inference.InferenceState\u001b[1m)\u001b[22m\u001b[22m at \u001b[1m./inference.jl:2778\u001b[22m\u001b[22m",
      " [21] \u001b[1mtypeinf_loop\u001b[22m\u001b[22m\u001b[1m(\u001b[22m\u001b[22m::Core.Inference.InferenceState\u001b[1m)\u001b[22m\u001b[22m at \u001b[1m./inference.jl:2624\u001b[22m\u001b[22m",
      " [22] \u001b[1mtypeinf_frame\u001b[22m\u001b[22m\u001b[1m(\u001b[22m\u001b[22m::Core.MethodInstance, ::Core.Inference.InferenceState, ::Bool, ::Bool, ::Core.Inference.InferenceParams\u001b[1m)\u001b[22m\u001b[22m at \u001b[1m./inference.jl:2494\u001b[22m\u001b[22m",
      " [23] \u001b[1mtypeinf_edge\u001b[22m\u001b[22m\u001b[1m(\u001b[22m\u001b[22m::Method, ::Any, ::SimpleVector, ::Core.Inference.InferenceState\u001b[1m)\u001b[22m\u001b[22m at \u001b[1m./inference.jl:2517\u001b[22m\u001b[22m",
      " [24] \u001b[1mabstract_call_gf_by_type\u001b[22m\u001b[22m\u001b[1m(\u001b[22m\u001b[22m::Any, ::Any, ::Core.Inference.InferenceState\u001b[1m)\u001b[22m\u001b[22m at \u001b[1m./inference.jl:1401\u001b[22m\u001b[22m",
      " [25] \u001b[1mabstract_call\u001b[22m\u001b[22m\u001b[1m(\u001b[22m\u001b[22m::Any, ::Array{Any,1}, ::Array{Any,1}, ::Array{Any,1}, ::Core.Inference.InferenceState\u001b[1m)\u001b[22m\u001b[22m at \u001b[1m./inference.jl:1882\u001b[22m\u001b[22m",
      " [26] \u001b[1mabstract_eval_call\u001b[22m\u001b[22m\u001b[1m(\u001b[22m\u001b[22m::Expr, ::Array{Any,1}, ::Core.Inference.InferenceState\u001b[1m)\u001b[22m\u001b[22m at \u001b[1m./inference.jl:1912\u001b[22m\u001b[22m",
      " [27] \u001b[1mabstract_eval\u001b[22m\u001b[22m\u001b[1m(\u001b[22m\u001b[22m::Any, ::Array{Any,1}, ::Core.Inference.InferenceState\u001b[1m)\u001b[22m\u001b[22m at \u001b[1m./inference.jl:1935\u001b[22m\u001b[22m",
      " [28] \u001b[1mcopy!\u001b[22m\u001b[22m\u001b[1m(\u001b[22m\u001b[22m::Array{Any,1}, ::Core.Inference.Generator{Array{Any,1},Core.Inference.##189#190{Array{Any,1},Core.Inference.InferenceState}}\u001b[1m)\u001b[22m\u001b[22m at \u001b[1m./abstractarray.jl:572\u001b[22m\u001b[22m",
      " [29] \u001b[1mabstract_eval_call\u001b[22m\u001b[22m\u001b[1m(\u001b[22m\u001b[22m::Expr, ::Array{Any,1}, ::Core.Inference.InferenceState\u001b[1m)\u001b[22m\u001b[22m at \u001b[1m./inference.jl:1886\u001b[22m\u001b[22m",
      " [30] \u001b[1mabstract_eval\u001b[22m\u001b[22m\u001b[1m(\u001b[22m\u001b[22m::Any, ::Array{Any,1}, ::Core.Inference.InferenceState\u001b[1m)\u001b[22m\u001b[22m at \u001b[1m./inference.jl:1935\u001b[22m\u001b[22m",
      " [31] \u001b[1mtypeinf_frame\u001b[22m\u001b[22m\u001b[1m(\u001b[22m\u001b[22m::Core.Inference.InferenceState\u001b[1m)\u001b[22m\u001b[22m at \u001b[1m./inference.jl:2778\u001b[22m\u001b[22m",
      " [32] \u001b[1mtypeinf_loop\u001b[22m\u001b[22m\u001b[1m(\u001b[22m\u001b[22m::Core.Inference.InferenceState\u001b[1m)\u001b[22m\u001b[22m at \u001b[1m./inference.jl:2624\u001b[22m\u001b[22m",
      " [33] \u001b[1mtypeinf_frame\u001b[22m\u001b[22m\u001b[1m(\u001b[22m\u001b[22m::Core.MethodInstance, ::Core.Inference.InferenceState, ::Bool, ::Bool, ::Core.Inference.InferenceParams\u001b[1m)\u001b[22m\u001b[22m at \u001b[1m./inference.jl:2494\u001b[22m\u001b[22m",
      " [34] \u001b[1mtypeinf_edge\u001b[22m\u001b[22m\u001b[1m(\u001b[22m\u001b[22m::Method, ::Any, ::SimpleVector, ::Core.Inference.InferenceState\u001b[1m)\u001b[22m\u001b[22m at \u001b[1m./inference.jl:2517\u001b[22m\u001b[22m",
      " [35] \u001b[1mabstract_call_gf_by_type\u001b[22m\u001b[22m\u001b[1m(\u001b[22m\u001b[22m::Any, ::Any, ::Core.Inference.InferenceState\u001b[1m)\u001b[22m\u001b[22m at \u001b[1m./inference.jl:1401\u001b[22m\u001b[22m",
      " [36] \u001b[1mabstract_call\u001b[22m\u001b[22m\u001b[1m(\u001b[22m\u001b[22m::Any, ::Array{Any,1}, ::Array{Any,1}, ::Array{Any,1}, ::Core.Inference.InferenceState\u001b[1m)\u001b[22m\u001b[22m at \u001b[1m./inference.jl:1882\u001b[22m\u001b[22m",
      " [37] \u001b[1mabstract_eval_call\u001b[22m\u001b[22m\u001b[1m(\u001b[22m\u001b[22m::Expr, ::Array{Any,1}, ::Core.Inference.InferenceState\u001b[1m)\u001b[22m\u001b[22m at \u001b[1m./inference.jl:1912\u001b[22m\u001b[22m",
      " [38] \u001b[1mabstract_eval\u001b[22m\u001b[22m\u001b[1m(\u001b[22m\u001b[22m::Any, ::Array{Any,1}, ::Core.Inference.InferenceState\u001b[1m)\u001b[22m\u001b[22m at \u001b[1m./inference.jl:1935\u001b[22m\u001b[22m",
      " [39] \u001b[1mtypeinf_frame\u001b[22m\u001b[22m\u001b[1m(\u001b[22m\u001b[22m::Core.Inference.InferenceState\u001b[1m)\u001b[22m\u001b[22m at \u001b[1m./inference.jl:2778\u001b[22m\u001b[22m",
      " [40] \u001b[1mtypeinf_loop\u001b[22m\u001b[22m\u001b[1m(\u001b[22m\u001b[22m::Core.Inference.InferenceState\u001b[1m)\u001b[22m\u001b[22m at \u001b[1m./inference.jl:2624\u001b[22m\u001b[22m",
      " [41] \u001b[1mtypeinf_frame\u001b[22m\u001b[22m\u001b[1m(\u001b[22m\u001b[22m::Core.MethodInstance, ::Core.Inference.InferenceState, ::Bool, ::Bool, ::Core.Inference.InferenceParams\u001b[1m)\u001b[22m\u001b[22m at \u001b[1m./inference.jl:2494\u001b[22m\u001b[22m",
      " [42] \u001b[1mtypeinf_edge\u001b[22m\u001b[22m\u001b[1m(\u001b[22m\u001b[22m::Method, ::Any, ::SimpleVector, ::Core.Inference.InferenceState\u001b[1m)\u001b[22m\u001b[22m at \u001b[1m./inference.jl:2517\u001b[22m\u001b[22m",
      " [43] \u001b[1mabstract_call_gf_by_type\u001b[22m\u001b[22m\u001b[1m(\u001b[22m\u001b[22m::Any, ::Any, ::Core.Inference.InferenceState\u001b[1m)\u001b[22m\u001b[22m at \u001b[1m./inference.jl:1401\u001b[22m\u001b[22m",
      " [44] \u001b[1mabstract_call\u001b[22m\u001b[22m\u001b[1m(\u001b[22m\u001b[22m::Any, ::Array{Any,1}, ::Array{Any,1}, ::Array{Any,1}, ::Core.Inference.InferenceState\u001b[1m)\u001b[22m\u001b[22m at \u001b[1m./inference.jl:1882\u001b[22m\u001b[22m",
      " [45] \u001b[1mabstract_eval_call\u001b[22m\u001b[22m\u001b[1m(\u001b[22m\u001b[22m::Expr, ::Array{Any,1}, ::Core.Inference.InferenceState\u001b[1m)\u001b[22m\u001b[22m at \u001b[1m./inference.jl:1912\u001b[22m\u001b[22m",
      " [46] \u001b[1mabstract_eval\u001b[22m\u001b[22m\u001b[1m(\u001b[22m\u001b[22m::Any, ::Array{Any,1}, ::Core.Inference.InferenceState\u001b[1m)\u001b[22m\u001b[22m at \u001b[1m./inference.jl:1935\u001b[22m\u001b[22m",
      " [47] \u001b[1mcopy!\u001b[22m\u001b[22m\u001b[1m(\u001b[22m\u001b[22m::Array{Any,1}, ::Core.Inference.Generator{Array{Any,1},Core.Inference.##189#190{Array{Any,1},Core.Inference.InferenceState}}\u001b[1m)\u001b[22m\u001b[22m at \u001b[1m./abstractarray.jl:572\u001b[22m\u001b[22m",
      " [48] \u001b[1mabstract_eval_call\u001b[22m\u001b[22m\u001b[1m(\u001b[22m\u001b[22m::Expr, ::Array{Any,1}, ::Core.Inference.InferenceState\u001b[1m)\u001b[22m\u001b[22m at \u001b[1m./inference.jl:1886\u001b[22m\u001b[22m",
      " [49] \u001b[1mabstract_eval\u001b[22m\u001b[22m\u001b[1m(\u001b[22m\u001b[22m::Any, ::Array{Any,1}, ::Core.Inference.InferenceState\u001b[1m)\u001b[22m\u001b[22m at \u001b[1m./inference.jl:1935\u001b[22m\u001b[22m",
      " [50] \u001b[1mabstract_interpret\u001b[22m\u001b[22m\u001b[1m(\u001b[22m\u001b[22m::Any, ::Array{Any,1}, ::Core.Inference.InferenceState\u001b[1m)\u001b[22m\u001b[22m at \u001b[1m./inference.jl:2061\u001b[22m\u001b[22m",
      " [51] \u001b[1mtypeinf_frame\u001b[22m\u001b[22m\u001b[1m(\u001b[22m\u001b[22m::Core.Inference.InferenceState\u001b[1m)\u001b[22m\u001b[22m at \u001b[1m./inference.jl:2725\u001b[22m\u001b[22m",
      " [52] \u001b[1mtypeinf_loop\u001b[22m\u001b[22m\u001b[1m(\u001b[22m\u001b[22m::Core.Inference.InferenceState\u001b[1m)\u001b[22m\u001b[22m at \u001b[1m./inference.jl:2624\u001b[22m\u001b[22m",
      " [53] \u001b[1mtypeinf_frame\u001b[22m\u001b[22m\u001b[1m(\u001b[22m\u001b[22m::Core.MethodInstance, ::Core.Inference.InferenceState, ::Bool, ::Bool, ::Core.Inference.InferenceParams\u001b[1m)\u001b[22m\u001b[22m at \u001b[1m./inference.jl:2494\u001b[22m\u001b[22m",
      " [54] \u001b[1mtypeinf_edge\u001b[22m\u001b[22m\u001b[1m(\u001b[22m\u001b[22m::Method, ::Any, ::SimpleVector, ::Core.Inference.InferenceState\u001b[1m)\u001b[22m\u001b[22m at \u001b[1m./inference.jl:2517\u001b[22m\u001b[22m",
      " [55] \u001b[1mabstract_call_gf_by_type\u001b[22m\u001b[22m\u001b[1m(\u001b[22m\u001b[22m::Any, ::Any, ::Core.Inference.InferenceState\u001b[1m)\u001b[22m\u001b[22m at \u001b[1m./inference.jl:1401\u001b[22m\u001b[22m",
      " [56] \u001b[1mabstract_call\u001b[22m\u001b[22m\u001b[1m(\u001b[22m\u001b[22m::Any, ::Tuple{}, ::Array{Any,1}, ::Array{Any,1}, ::Core.Inference.InferenceState\u001b[1m)\u001b[22m\u001b[22m at \u001b[1m./inference.jl:1882\u001b[22m\u001b[22m",
      " [57] \u001b[1mabstract_apply\u001b[22m\u001b[22m\u001b[1m(\u001b[22m\u001b[22m::Any, ::Array{Any,1}, ::Array{Any,1}, ::Array{Any,1}, ::Core.Inference.InferenceState\u001b[1m)\u001b[22m\u001b[22m at \u001b[1m./inference.jl:1541\u001b[22m\u001b[22m",
      " [58] \u001b[1mabstract_call\u001b[22m\u001b[22m\u001b[1m(\u001b[22m\u001b[22m::Any, ::Array{Any,1}, ::Array{Any,1}, ::Array{Any,1}, ::Core.Inference.InferenceState\u001b[1m)\u001b[22m\u001b[22m at \u001b[1m./inference.jl:1669\u001b[22m\u001b[22m",
      " [59] \u001b[1mabstract_eval_call\u001b[22m\u001b[22m\u001b[1m(\u001b[22m\u001b[22m::Expr, ::Array{Any,1}, ::Core.Inference.InferenceState\u001b[1m)\u001b[22m\u001b[22m at \u001b[1m./inference.jl:1912\u001b[22m\u001b[22m",
      " [60] \u001b[1mabstract_eval\u001b[22m\u001b[22m\u001b[1m(\u001b[22m\u001b[22m::Any, ::Array{Any,1}, ::Core.Inference.InferenceState\u001b[1m)\u001b[22m\u001b[22m at \u001b[1m./inference.jl:1935\u001b[22m\u001b[22m",
      " [61] \u001b[1mtypeinf_frame\u001b[22m\u001b[22m\u001b[1m(\u001b[22m\u001b[22m::Core.Inference.InferenceState\u001b[1m)\u001b[22m\u001b[22m at \u001b[1m./inference.jl:2778\u001b[22m\u001b[22m",
      " [62] \u001b[1mtypeinf_loop\u001b[22m\u001b[22m\u001b[1m(\u001b[22m\u001b[22m::Core.Inference.InferenceState\u001b[1m)\u001b[22m\u001b[22m at \u001b[1m./inference.jl:2624\u001b[22m\u001b[22m",
      " [63] \u001b[1mtypeinf_frame\u001b[22m\u001b[22m\u001b[1m(\u001b[22m\u001b[22m::Core.MethodInstance, ::Core.Inference.InferenceState, ::Bool, ::Bool, ::Core.Inference.InferenceParams\u001b[1m)\u001b[22m\u001b[22m at \u001b[1m./inference.jl:2494\u001b[22m\u001b[22m",
      " [64] \u001b[1mtypeinf_edge\u001b[22m\u001b[22m\u001b[1m(\u001b[22m\u001b[22m::Method, ::Any, ::SimpleVector, ::Core.Inference.InferenceState\u001b[1m)\u001b[22m\u001b[22m at \u001b[1m./inference.jl:2517\u001b[22m\u001b[22m",
      " [65] \u001b[1mabstract_call_gf_by_type\u001b[22m\u001b[22m\u001b[1m(\u001b[22m\u001b[22m::Any, ::Any, ::Core.Inference.InferenceState\u001b[1m)\u001b[22m\u001b[22m at \u001b[1m./inference.jl:1401\u001b[22m\u001b[22m",
      " [66] \u001b[1mabstract_call\u001b[22m\u001b[22m\u001b[1m(\u001b[22m\u001b[22m::Any, ::Array{Any,1}, ::Array{Any,1}, ::Array{Any,1}, ::Core.Inference.InferenceState\u001b[1m)\u001b[22m\u001b[22m at \u001b[1m./inference.jl:1882\u001b[22m\u001b[22m",
      " [67] \u001b[1mabstract_eval_call\u001b[22m\u001b[22m\u001b[1m(\u001b[22m\u001b[22m::Expr, ::Array{Any,1}, ::Core.Inference.InferenceState\u001b[1m)\u001b[22m\u001b[22m at \u001b[1m./inference.jl:1912\u001b[22m\u001b[22m",
      " [68] \u001b[1mabstract_eval\u001b[22m\u001b[22m\u001b[1m(\u001b[22m\u001b[22m::Any, ::Array{Any,1}, ::Core.Inference.InferenceState\u001b[1m)\u001b[22m\u001b[22m at \u001b[1m./inference.jl:1935\u001b[22m\u001b[22m",
      " [69] \u001b[1mtypeinf_frame\u001b[22m\u001b[22m\u001b[1m(\u001b[22m\u001b[22m::Core.Inference.InferenceState\u001b[1m)\u001b[22m\u001b[22m at \u001b[1m./inference.jl:2778\u001b[22m\u001b[22m",
      " [70] \u001b[1mtypeinf_loop\u001b[22m\u001b[22m\u001b[1m(\u001b[22m\u001b[22m::Core.Inference.InferenceState\u001b[1m)\u001b[22m\u001b[22m at \u001b[1m./inference.jl:2624\u001b[22m\u001b[22m",
      " [71] \u001b[1mtypeinf_frame\u001b[22m\u001b[22m\u001b[1m(\u001b[22m\u001b[22m::Core.MethodInstance, ::Core.Inference.InferenceState, ::Bool, ::Bool, ::Core.Inference.InferenceParams\u001b[1m)\u001b[22m\u001b[22m at \u001b[1m./inference.jl:2494\u001b[22m\u001b[22m",
      " [72] \u001b[1mtypeinf_edge\u001b[22m\u001b[22m\u001b[1m(\u001b[22m\u001b[22m::Method, ::Any, ::SimpleVector, ::Core.Inference.InferenceState\u001b[1m)\u001b[22m\u001b[22m at \u001b[1m./inference.jl:2517\u001b[22m\u001b[22m",
      " [73] \u001b[1mabstract_call_gf_by_type\u001b[22m\u001b[22m\u001b[1m(\u001b[22m\u001b[22m::Any, ::Any, ::Core.Inference.InferenceState\u001b[1m)\u001b[22m\u001b[22m at \u001b[1m./inference.jl:1401\u001b[22m\u001b[22m",
      " [74] \u001b[1mabstract_call\u001b[22m\u001b[22m\u001b[1m(\u001b[22m\u001b[22m::Any, ::Tuple{}, ::Array{Any,1}, ::Array{Any,1}, ::Core.Inference.InferenceState\u001b[1m)\u001b[22m\u001b[22m at \u001b[1m./inference.jl:1882\u001b[22m\u001b[22m",
      " [75] \u001b[1mabstract_apply\u001b[22m\u001b[22m\u001b[1m(\u001b[22m\u001b[22m::Any, ::Array{Any,1}, ::Array{Any,1}, ::Array{Any,1}, ::Core.Inference.InferenceState\u001b[1m)\u001b[22m\u001b[22m at \u001b[1m./inference.jl:1541\u001b[22m\u001b[22m",
      " [76] \u001b[1mabstract_call\u001b[22m\u001b[22m\u001b[1m(\u001b[22m\u001b[22m::Any, ::Array{Any,1}, ::Array{Any,1}, ::Array{Any,1}, ::Core.Inference.InferenceState\u001b[1m)\u001b[22m\u001b[22m at \u001b[1m./inference.jl:1669\u001b[22m\u001b[22m",
      " [77] \u001b[1mabstract_eval_call\u001b[22m\u001b[22m\u001b[1m(\u001b[22m\u001b[22m::Expr, ::Array{Any,1}, ::Core.Inference.InferenceState\u001b[1m)\u001b[22m\u001b[22m at \u001b[1m./inference.jl:1912\u001b[22m\u001b[22m",
      " [78] \u001b[1mabstract_eval\u001b[22m\u001b[22m\u001b[1m(\u001b[22m\u001b[22m::Any, ::Array{Any,1}, ::Core.Inference.InferenceState\u001b[1m)\u001b[22m\u001b[22m at \u001b[1m./inference.jl:1935\u001b[22m\u001b[22m",
      " [79] \u001b[1mtypeinf_frame\u001b[22m\u001b[22m\u001b[1m(\u001b[22m\u001b[22m::Core.Inference.InferenceState\u001b[1m)\u001b[22m\u001b[22m at \u001b[1m./inference.jl:2778\u001b[22m\u001b[22m",
      " [80] \u001b[1mtypeinf_loop\u001b[22m\u001b[22m\u001b[1m(\u001b[22m\u001b[22m::Core.Inference.InferenceState\u001b[1m)\u001b[22m\u001b[22m at \u001b[1m./inference.jl:2624\u001b[22m\u001b[22m",
      " [81] \u001b[1mtypeinf_frame\u001b[22m\u001b[22m\u001b[1m(\u001b[22m\u001b[22m::Core.MethodInstance, ::Core.Inference.InferenceState, ::Bool, ::Bool, ::Core.Inference.InferenceParams\u001b[1m)\u001b[22m\u001b[22m at \u001b[1m./inference.jl:2494\u001b[22m\u001b[22m",
      " [82] \u001b[1mtypeinf_edge\u001b[22m\u001b[22m\u001b[1m(\u001b[22m\u001b[22m::Method, ::Any, ::SimpleVector, ::Core.Inference.InferenceState\u001b[1m)\u001b[22m\u001b[22m at \u001b[1m./inference.jl:2517\u001b[22m\u001b[22m",
      " [83] \u001b[1mabstract_call_gf_by_type\u001b[22m\u001b[22m\u001b[1m(\u001b[22m\u001b[22m::Any, ::Any, ::Core.Inference.InferenceState\u001b[1m)\u001b[22m\u001b[22m at \u001b[1m./inference.jl:1401\u001b[22m\u001b[22m",
      " [84] \u001b[1mabstract_call\u001b[22m\u001b[22m\u001b[1m(\u001b[22m\u001b[22m::Any, ::Array{Any,1}, ::Array{Any,1}, ::Array{Any,1}, ::Core.Inference.InferenceState\u001b[1m)\u001b[22m\u001b[22m at \u001b[1m./inference.jl:1882\u001b[22m\u001b[22m",
      " [85] \u001b[1mabstract_eval_call\u001b[22m\u001b[22m\u001b[1m(\u001b[22m\u001b[22m::Expr, ::Array{Any,1}, ::Core.Inference.InferenceState\u001b[1m)\u001b[22m\u001b[22m at \u001b[1m./inference.jl:1912\u001b[22m\u001b[22m",
      " [86] \u001b[1mabstract_eval\u001b[22m\u001b[22m\u001b[1m(\u001b[22m\u001b[22m::Any, ::Array{Any,1}, ::Core.Inference.InferenceState\u001b[1m)\u001b[22m\u001b[22m at \u001b[1m./inference.jl:1935\u001b[22m\u001b[22m",
      " [87] \u001b[1mtypeinf_frame\u001b[22m\u001b[22m\u001b[1m(\u001b[22m\u001b[22m::Core.Inference.InferenceState\u001b[1m)\u001b[22m\u001b[22m at \u001b[1m./inference.jl:2778\u001b[22m\u001b[22m",
      " [88] \u001b[1mtypeinf_loop\u001b[22m\u001b[22m\u001b[1m(\u001b[22m\u001b[22m::Core.Inference.InferenceState\u001b[1m)\u001b[22m\u001b[22m at \u001b[1m./inference.jl:2624\u001b[22m\u001b[22m",
      " [89] \u001b[1mtypeinf_frame\u001b[22m\u001b[22m\u001b[1m(\u001b[22m\u001b[22m::Core.MethodInstance, ::Core.Inference.InferenceState, ::Bool, ::Bool, ::Core.Inference.InferenceParams\u001b[1m)\u001b[22m\u001b[22m at \u001b[1m./inference.jl:2494\u001b[22m\u001b[22m",
      " [90] \u001b[1mtypeinf_edge\u001b[22m\u001b[22m\u001b[1m(\u001b[22m\u001b[22m::Method, ::Any, ::SimpleVector, ::Core.Inference.InferenceState\u001b[1m)\u001b[22m\u001b[22m at \u001b[1m./inference.jl:2517\u001b[22m\u001b[22m",
      " [91] \u001b[1mabstract_call_gf_by_type\u001b[22m\u001b[22m\u001b[1m(\u001b[22m\u001b[22m::Any, ::Any, ::Core.Inference.InferenceState\u001b[1m)\u001b[22m\u001b[22m at \u001b[1m./inference.jl:1401\u001b[22m\u001b[22m",
      " [92] \u001b[1mabstract_call\u001b[22m\u001b[22m\u001b[1m(\u001b[22m\u001b[22m::Any, ::Array{Any,1}, ::Array{Any,1}, ::Array{Any,1}, ::Core.Inference.InferenceState\u001b[1m)\u001b[22m\u001b[22m at \u001b[1m./inference.jl:1882\u001b[22m\u001b[22m",
      " [93] \u001b[1mabstract_eval_call\u001b[22m\u001b[22m\u001b[1m(\u001b[22m\u001b[22m::Expr, ::Array{Any,1}, ::Core.Inference.InferenceState\u001b[1m)\u001b[22m\u001b[22m at \u001b[1m./inference.jl:1912\u001b[22m\u001b[22m",
      " [94] \u001b[1mabstract_eval\u001b[22m\u001b[22m\u001b[1m(\u001b[22m\u001b[22m::Any, ::Array{Any,1}, ::Core.Inference.InferenceState\u001b[1m)\u001b[22m\u001b[22m at \u001b[1m./inference.jl:1935\u001b[22m\u001b[22m",
      " [95] \u001b[1mcopy!\u001b[22m\u001b[22m\u001b[1m(\u001b[22m\u001b[22m::Array{Any,1}, ::Core.Inference.Generator{Array{Any,1},Core.Inference.##189#190{Array{Any,1},Core.Inference.InferenceState}}\u001b[1m)\u001b[22m\u001b[22m at \u001b[1m./abstractarray.jl:572\u001b[22m\u001b[22m",
      " [96] \u001b[1mabstract_eval_call\u001b[22m\u001b[22m\u001b[1m(\u001b[22m\u001b[22m::Expr, ::Array{Any,1}, ::Core.Inference.InferenceState\u001b[1m)\u001b[22m\u001b[22m at \u001b[1m./inference.jl:1886\u001b[22m\u001b[22m",
      " [97] \u001b[1mabstract_eval\u001b[22m\u001b[22m\u001b[1m(\u001b[22m\u001b[22m::Any, ::Array{Any,1}, ::Core.Inference.InferenceState\u001b[1m)\u001b[22m\u001b[22m at \u001b[1m./inference.jl:1935\u001b[22m\u001b[22m",
      " [98] \u001b[1mcopy!\u001b[22m\u001b[22m\u001b[1m(\u001b[22m\u001b[22m::Array{Any,1}, ::Core.Inference.Generator{Array{Any,1},Core.Inference.##189#190{Array{Any,1},Core.Inference.InferenceState}}\u001b[1m)\u001b[22m\u001b[22m at \u001b[1m./abstractarray.jl:572\u001b[22m\u001b[22m",
      " [99] \u001b[1mabstract_eval_call\u001b[22m\u001b[22m\u001b[1m(\u001b[22m\u001b[22m::Expr, ::Array{Any,1}, ::Core.Inference.InferenceState\u001b[1m)\u001b[22m\u001b[22m at \u001b[1m./inference.jl:1886\u001b[22m\u001b[22m",
      " [100] \u001b[1mabstract_eval\u001b[22m\u001b[22m\u001b[1m(\u001b[22m\u001b[22m::Any, ::Array{Any,1}, ::Core.Inference.InferenceState\u001b[1m)\u001b[22m\u001b[22m at \u001b[1m./inference.jl:1935\u001b[22m\u001b[22m",
      " [101] \u001b[1mtypeinf_frame\u001b[22m\u001b[22m\u001b[1m(\u001b[22m\u001b[22m::Core.Inference.InferenceState\u001b[1m)\u001b[22m\u001b[22m at \u001b[1m./inference.jl:2778\u001b[22m\u001b[22m",
      " [102] \u001b[1mtypeinf_loop\u001b[22m\u001b[22m\u001b[1m(\u001b[22m\u001b[22m::Core.Inference.InferenceState\u001b[1m)\u001b[22m\u001b[22m at \u001b[1m./inference.jl:2624\u001b[22m\u001b[22m",
      " [103] \u001b[1mtypeinf_frame\u001b[22m\u001b[22m\u001b[1m(\u001b[22m\u001b[22m::Core.MethodInstance, ::Core.Inference.InferenceState, ::Bool, ::Bool, ::Core.Inference.InferenceParams\u001b[1m)\u001b[22m\u001b[22m at \u001b[1m./inference.jl:2494\u001b[22m\u001b[22m",
      " [104] \u001b[1mtypeinf_edge\u001b[22m\u001b[22m\u001b[1m(\u001b[22m\u001b[22m::Method, ::Any, ::SimpleVector, ::Core.Inference.InferenceState\u001b[1m)\u001b[22m\u001b[22m at \u001b[1m./inference.jl:2517\u001b[22m\u001b[22m",
      " [105] \u001b[1mabstract_call_gf_by_type\u001b[22m\u001b[22m\u001b[1m(\u001b[22m\u001b[22m::Any, ::Any, ::Core.Inference.InferenceState\u001b[1m)\u001b[22m\u001b[22m at \u001b[1m./inference.jl:1401\u001b[22m\u001b[22m",
      " [106] \u001b[1mabstract_call\u001b[22m\u001b[22m\u001b[1m(\u001b[22m\u001b[22m::Any, ::Tuple{}, ::Array{Any,1}, ::Array{Any,1}, ::Core.Inference.InferenceState\u001b[1m)\u001b[22m\u001b[22m at \u001b[1m./inference.jl:1882\u001b[22m\u001b[22m",
      " [107] \u001b[1mabstract_apply\u001b[22m\u001b[22m\u001b[1m(\u001b[22m\u001b[22m::Any, ::Array{Any,1}, ::Array{Any,1}, ::Array{Any,1}, ::Core.Inference.InferenceState\u001b[1m)\u001b[22m\u001b[22m at \u001b[1m./inference.jl:1541\u001b[22m\u001b[22m",
      " [108] \u001b[1mabstract_call\u001b[22m\u001b[22m\u001b[1m(\u001b[22m\u001b[22m::Any, ::Array{Any,1}, ::Array{Any,1}, ::Array{Any,1}, ::Core.Inference.InferenceState\u001b[1m)\u001b[22m\u001b[22m at \u001b[1m./inference.jl:1669\u001b[22m\u001b[22m",
      " [109] \u001b[1mabstract_eval_call\u001b[22m\u001b[22m\u001b[1m(\u001b[22m\u001b[22m::Expr, ::Array{Any,1}, ::Core.Inference.InferenceState\u001b[1m)\u001b[22m\u001b[22m at \u001b[1m./inference.jl:1912\u001b[22m\u001b[22m",
      " [110] \u001b[1mabstract_eval\u001b[22m\u001b[22m\u001b[1m(\u001b[22m\u001b[22m::Any, ::Array{Any,1}, ::Core.Inference.InferenceState\u001b[1m)\u001b[22m\u001b[22m at \u001b[1m./inference.jl:1935\u001b[22m\u001b[22m",
      " [111] \u001b[1mabstract_interpret\u001b[22m\u001b[22m\u001b[1m(\u001b[22m\u001b[22m::Any, ::Array{Any,1}, ::Core.Inference.InferenceState\u001b[1m)\u001b[22m\u001b[22m at \u001b[1m./inference.jl:2061\u001b[22m\u001b[22m",
      " [112] \u001b[1mtypeinf_frame\u001b[22m\u001b[22m\u001b[1m(\u001b[22m\u001b[22m::Core.Inference.InferenceState\u001b[1m)\u001b[22m\u001b[22m at \u001b[1m./inference.jl:2725\u001b[22m\u001b[22m",
      " [113] \u001b[1mtypeinf_loop\u001b[22m\u001b[22m\u001b[1m(\u001b[22m\u001b[22m::Core.Inference.InferenceState\u001b[1m)\u001b[22m\u001b[22m at \u001b[1m./inference.jl:2624\u001b[22m\u001b[22m",
      " [114] \u001b[1mtypeinf_frame\u001b[22m\u001b[22m\u001b[1m(\u001b[22m\u001b[22m::Core.MethodInstance, ::Core.Inference.InferenceState, ::Bool, ::Bool, ::Core.Inference.InferenceParams\u001b[1m)\u001b[22m\u001b[22m at \u001b[1m./inference.jl:2494\u001b[22m\u001b[22m",
      " [115] \u001b[1mtypeinf_edge\u001b[22m\u001b[22m\u001b[1m(\u001b[22m\u001b[22m::Method, ::Any, ::SimpleVector, ::Core.Inference.InferenceState\u001b[1m)\u001b[22m\u001b[22m at \u001b[1m./inference.jl:2517\u001b[22m\u001b[22m",
      " [116] \u001b[1mabstract_call_gf_by_type\u001b[22m\u001b[22m\u001b[1m(\u001b[22m\u001b[22m::Any, ::Any, ::Core.Inference.InferenceState\u001b[1m)\u001b[22m\u001b[22m at \u001b[1m./inference.jl:1401\u001b[22m\u001b[22m",
      " [117] \u001b[1mabstract_call\u001b[22m\u001b[22m\u001b[1m(\u001b[22m\u001b[22m::Any, ::Array{Any,1}, ::Array{Any,1}, ::Array{Any,1}, ::Core.Inference.InferenceState\u001b[1m)\u001b[22m\u001b[22m at \u001b[1m./inference.jl:1882\u001b[22m\u001b[22m",
      " [118] \u001b[1mabstract_eval_call\u001b[22m\u001b[22m\u001b[1m(\u001b[22m\u001b[22m::Expr, ::Array{Any,1}, ::Core.Inference.InferenceState\u001b[1m)\u001b[22m\u001b[22m at \u001b[1m./inference.jl:1912\u001b[22m\u001b[22m",
      " [119] \u001b[1mabstract_eval\u001b[22m\u001b[22m\u001b[1m(\u001b[22m\u001b[22m::Any, ::Array{Any,1}, ::Core.Inference.InferenceState\u001b[1m)\u001b[22m\u001b[22m at \u001b[1m./inference.jl:1935\u001b[22m\u001b[22m",
      " [120] \u001b[1mtypeinf_frame\u001b[22m\u001b[22m\u001b[1m(\u001b[22m\u001b[22m::Core.Inference.InferenceState\u001b[1m)\u001b[22m\u001b[22m at \u001b[1m./inference.jl:2778\u001b[22m\u001b[22m",
      " [121] \u001b[1mtypeinf_loop\u001b[22m\u001b[22m\u001b[1m(\u001b[22m\u001b[22m::Core.Inference.InferenceState\u001b[1m)\u001b[22m\u001b[22m at \u001b[1m./inference.jl:2624\u001b[22m\u001b[22m",
      " [122] \u001b[1mtypeinf_frame\u001b[22m\u001b[22m\u001b[1m(\u001b[22m\u001b[22m::Core.MethodInstance, ::Core.Inference.InferenceState, ::Bool, ::Bool, ::Core.Inference.InferenceParams\u001b[1m)\u001b[22m\u001b[22m at \u001b[1m./inference.jl:2494\u001b[22m\u001b[22m",
      " [123] \u001b[1mtypeinf_edge\u001b[22m\u001b[22m\u001b[1m(\u001b[22m\u001b[22m::Method, ::Any, ::SimpleVector, ::Core.Inference.InferenceState\u001b[1m)\u001b[22m\u001b[22m at \u001b[1m./inference.jl:2517\u001b[22m\u001b[22m",
      " [124] \u001b[1mabstract_call_gf_by_type\u001b[22m\u001b[22m\u001b[1m(\u001b[22m\u001b[22m::Any, ::Any, ::Core.Inference.InferenceState\u001b[1m)\u001b[22m\u001b[22m at \u001b[1m./inference.jl:1401\u001b[22m\u001b[22m",
      " [125] \u001b[1mabstract_call\u001b[22m\u001b[22m\u001b[1m(\u001b[22m\u001b[22m::Any, ::Array{Any,1}, ::Array{Any,1}, ::Array{Any,1}, ::Core.Inference.InferenceState\u001b[1m)\u001b[22m\u001b[22m at \u001b[1m./inference.jl:1882\u001b[22m\u001b[22m",
      " [126] \u001b[1mabstract_eval_call\u001b[22m\u001b[22m\u001b[1m(\u001b[22m\u001b[22m::Expr, ::Array{Any,1}, ::Core.Inference.InferenceState\u001b[1m)\u001b[22m\u001b[22m at \u001b[1m./inference.jl:1912\u001b[22m\u001b[22m",
      " [127] \u001b[1mabstract_eval\u001b[22m\u001b[22m\u001b[1m(\u001b[22m\u001b[22m::Any, ::Array{Any,1}, ::Core.Inference.InferenceState\u001b[1m)\u001b[22m\u001b[22m at \u001b[1m./inference.jl:1935\u001b[22m\u001b[22m",
      " [128] \u001b[1mtypeinf_frame\u001b[22m\u001b[22m\u001b[1m(\u001b[22m\u001b[22m::Core.Inference.InferenceState\u001b[1m)\u001b[22m\u001b[22m at \u001b[1m./inference.jl:2778\u001b[22m\u001b[22m",
      " [129] \u001b[1mtypeinf_loop\u001b[22m\u001b[22m\u001b[1m(\u001b[22m\u001b[22m::Core.Inference.InferenceState\u001b[1m)\u001b[22m\u001b[22m at \u001b[1m./inference.jl:2624\u001b[22m\u001b[22m",
      " [130] \u001b[1mtypeinf_frame\u001b[22m\u001b[22m\u001b[1m(\u001b[22m\u001b[22m::Core.MethodInstance, ::Core.Inference.InferenceState, ::Bool, ::Bool, ::Core.Inference.InferenceParams\u001b[1m)\u001b[22m\u001b[22m at \u001b[1m./inference.jl:2494\u001b[22m\u001b[22m",
      " [131] \u001b[1mtypeinf_edge\u001b[22m\u001b[22m\u001b[1m(\u001b[22m\u001b[22m::Method, ::Any, ::SimpleVector, ::Core.Inference.InferenceState\u001b[1m)\u001b[22m\u001b[22m at \u001b[1m./inference.jl:2517\u001b[22m\u001b[22m",
      " [132] \u001b[1mabstract_call_gf_by_type\u001b[22m\u001b[22m\u001b[1m(\u001b[22m\u001b[22m::Any, ::Any, ::Core.Inference.InferenceState\u001b[1m)\u001b[22m\u001b[22m at \u001b[1m./inference.jl:1401\u001b[22m\u001b[22m",
      " [133] \u001b[1mabstract_call\u001b[22m\u001b[22m\u001b[1m(\u001b[22m\u001b[22m::Any, ::Array{Any,1}, ::Array{Any,1}, ::Array{Any,1}, ::Core.Inference.InferenceState\u001b[1m)\u001b[22m\u001b[22m at \u001b[1m./inference.jl:1882\u001b[22m\u001b[22m",
      " [134] \u001b[1mabstract_eval_call\u001b[22m\u001b[22m\u001b[1m(\u001b[22m\u001b[22m::Expr, ::Array{Any,1}, ::Core.Inference.InferenceState\u001b[1m)\u001b[22m\u001b[22m at \u001b[1m./inference.jl:1912\u001b[22m\u001b[22m",
      " [135] \u001b[1mabstract_eval\u001b[22m\u001b[22m\u001b[1m(\u001b[22m\u001b[22m::Any, ::Array{Any,1}, ::Core.Inference.InferenceState\u001b[1m)\u001b[22m\u001b[22m at \u001b[1m./inference.jl:1935\u001b[22m\u001b[22m",
      " [136] \u001b[1mabstract_interpret\u001b[22m\u001b[22m\u001b[1m(\u001b[22m\u001b[22m::Any, ::Array{Any,1}, ::Core.Inference.InferenceState\u001b[1m)\u001b[22m\u001b[22m at \u001b[1m./inference.jl:2061\u001b[22m\u001b[22m",
      " [137] \u001b[1mtypeinf_frame\u001b[22m\u001b[22m\u001b[1m(\u001b[22m\u001b[22m::Core.Inference.InferenceState\u001b[1m)\u001b[22m\u001b[22m at \u001b[1m./inference.jl:2725\u001b[22m\u001b[22m",
      " [138] \u001b[1mtypeinf_loop\u001b[22m\u001b[22m\u001b[1m(\u001b[22m\u001b[22m::Core.Inference.InferenceState\u001b[1m)\u001b[22m\u001b[22m at \u001b[1m./inference.jl:2624\u001b[22m\u001b[22m",
      " [139] \u001b[1mtypeinf_ext\u001b[22m\u001b[22m\u001b[1m(\u001b[22m\u001b[22m::Core.MethodInstance, ::UInt64\u001b[1m)\u001b[22m\u001b[22m at \u001b[1m./inference.jl:2610\u001b[22m\u001b[22m",
      " [140] \u001b[1minclude_string\u001b[22m\u001b[22m\u001b[1m(\u001b[22m\u001b[22m::String, ::String\u001b[1m)\u001b[22m\u001b[22m at \u001b[1m./loading.jl:515\u001b[22m\u001b[22m"
     ]
    }
   ],
   "source": [
    "xsamp = [2.0,1.5]\n",
    "ysamp = [0.0,1.5]\n",
    "ψsamp = [Float64[] for x in xsamp]\n",
    "uxsamp = [Float64[] for x in xsamp]\n",
    "uysamp = [Float64[] for x in xsamp]\n",
    "tsamp = Float64[]\n",
    "for i = 1:length(h)\n",
    "    ψf = ϵ*ψ[i][1]+ϵ^2*ψ[i][2]\n",
    "    uxf = ϵ*ux[i][1]+ϵ^2*ux[i][2]\n",
    "    uyf = ϵ*uy[i][1]+ϵ^2*uy[i][2]\n",
    "    ψitp = interpolate((Grids.xcell(dom.grid),Grids.ycell(dom.grid)),ψf*Δx,Gridded(Linear()))\n",
    "    uxitp = interpolate((Grids.xfacex(dom.grid),Grids.yfacex(dom.grid)),uxf,Gridded(Linear()))\n",
    "    uyitp = interpolate((Grids.xfacey(dom.grid),Grids.yfacey(dom.grid)),uyf,Gridded(Linear()))    \n",
    "    for j = 1:length(xsamp)\n",
    "        push!(ψsamp[j],ψitp[xsamp[j],ysamp[j]])\n",
    "        push!(uxsamp[j],uxitp[xsamp[j],ysamp[j]])\n",
    "        push!(uysamp[j],uyitp[xsamp[j],ysamp[j]])\n",
    "    end\n",
    "end"
   ]
  },
  {
   "cell_type": "code",
   "execution_count": 23,
   "metadata": {},
   "outputs": [],
   "source": [
    "include(joinpath(Pkg.dir(\"whirl2d\"), \"src/Streaming.jl\"))\n",
    "import Streaming"
   ]
  },
  {
   "cell_type": "code",
   "execution_count": 24,
   "metadata": {},
   "outputs": [
    {
     "ename": "LoadError",
     "evalue": "\u001b[91mMethodError: no method matching Streaming.Params(::Float64, ::Int64)\u001b[0m\nClosest candidates are:\n  Streaming.Params(::Any, ::Any, \u001b[91m::Any\u001b[39m, \u001b[91m::Any\u001b[39m, \u001b[91m::Any\u001b[39m, \u001b[91m::Any\u001b[39m, \u001b[91m::Any\u001b[39m, \u001b[91m::Any\u001b[39m, \u001b[91m::Any\u001b[39m, \u001b[91m::Any\u001b[39m, \u001b[91m::Any\u001b[39m) at /Users/jeff/.julia/v0.6/whirl2d/src/Streaming.jl:18\n  Streaming.Params(::Float64, \u001b[91m::Float64\u001b[39m) at /Users/jeff/.julia/v0.6/whirl2d/src/Streaming.jl:32\n  Streaming.Params(::Float64, \u001b[91m::Float64\u001b[39m, \u001b[91m::Complex{Float64}\u001b[39m, \u001b[91m::Complex{Float64}\u001b[39m, \u001b[91m::Complex{Float64}\u001b[39m, \u001b[91m::Complex{Float64}\u001b[39m, \u001b[91m::Complex{Float64}\u001b[39m, \u001b[91m::Function\u001b[39m, \u001b[91m::Function\u001b[39m, \u001b[91m::Function\u001b[39m, \u001b[91m::Complex{Float64}\u001b[39m) at /Users/jeff/.julia/v0.6/whirl2d/src/Streaming.jl:18\u001b[39m",
     "output_type": "error",
     "traceback": [
      "\u001b[91mMethodError: no method matching Streaming.Params(::Float64, ::Int64)\u001b[0m\nClosest candidates are:\n  Streaming.Params(::Any, ::Any, \u001b[91m::Any\u001b[39m, \u001b[91m::Any\u001b[39m, \u001b[91m::Any\u001b[39m, \u001b[91m::Any\u001b[39m, \u001b[91m::Any\u001b[39m, \u001b[91m::Any\u001b[39m, \u001b[91m::Any\u001b[39m, \u001b[91m::Any\u001b[39m, \u001b[91m::Any\u001b[39m) at /Users/jeff/.julia/v0.6/whirl2d/src/Streaming.jl:18\n  Streaming.Params(::Float64, \u001b[91m::Float64\u001b[39m) at /Users/jeff/.julia/v0.6/whirl2d/src/Streaming.jl:32\n  Streaming.Params(::Float64, \u001b[91m::Float64\u001b[39m, \u001b[91m::Complex{Float64}\u001b[39m, \u001b[91m::Complex{Float64}\u001b[39m, \u001b[91m::Complex{Float64}\u001b[39m, \u001b[91m::Complex{Float64}\u001b[39m, \u001b[91m::Complex{Float64}\u001b[39m, \u001b[91m::Function\u001b[39m, \u001b[91m::Function\u001b[39m, \u001b[91m::Function\u001b[39m, \u001b[91m::Complex{Float64}\u001b[39m) at /Users/jeff/.julia/v0.6/whirl2d/src/Streaming.jl:18\u001b[39m",
      "",
      "Stacktrace:",
      " [1] \u001b[1minclude_string\u001b[22m\u001b[22m\u001b[1m(\u001b[22m\u001b[22m::String, ::String\u001b[1m)\u001b[22m\u001b[22m at \u001b[1m./loading.jl:515\u001b[22m\u001b[22m"
     ]
    }
   ],
   "source": [
    "p = let Re = Re, ϵ = ϵ   # use the values of these set above\n",
    "      Streaming.Params(ϵ,Re)\n",
    "end\n",
    "g, r = let xmin = -6.0,\n",
    "      xmax = 6.0,\n",
    "      N = 301,\n",
    "      x = [xmin + (j-1)*(xmax-xmin)/(N-1) for i=1:N, j=1:N],\n",
    "      y = [xmin + (i-1)*(xmax-xmin)/(N-1) for i=1:N, j=1:N],\n",
    "      Nᵣ = 500,\n",
    "      rmax = √2*xmax\n",
    "      Streaming.Grid(x,y), collect(linspace(1,rmax,Nᵣ))\n",
    "end"
   ]
  },
  {
   "cell_type": "code",
   "execution_count": 25,
   "metadata": {},
   "outputs": [
    {
     "ename": "LoadError",
     "evalue": "\u001b[91mUndefVarError: p not defined\u001b[39m",
     "output_type": "error",
     "traceback": [
      "\u001b[91mUndefVarError: p not defined\u001b[39m",
      "",
      "Stacktrace:",
      " [1] \u001b[1minclude_string\u001b[22m\u001b[22m\u001b[1m(\u001b[22m\u001b[22m::String, ::String\u001b[1m)\u001b[22m\u001b[22m at \u001b[1m./loading.jl:515\u001b[22m\u001b[22m"
     ]
    }
   ],
   "source": [
    "s₁ = Streaming.FirstOrder(p,r)\n",
    "s̄₂ = Streaming.SecondOrderMean(p,r)\n",
    "s₂ = Streaming.SecondOrder(p,r)"
   ]
  },
  {
   "cell_type": "code",
   "execution_count": 26,
   "metadata": {},
   "outputs": [
    {
     "ename": "LoadError",
     "evalue": "\u001b[91mUndefVarError: p not defined\u001b[39m",
     "output_type": "error",
     "traceback": [
      "\u001b[91mUndefVarError: p not defined\u001b[39m",
      "",
      "Stacktrace:",
      " [1] \u001b[1minclude_string\u001b[22m\u001b[22m\u001b[1m(\u001b[22m\u001b[22m::String, ::String\u001b[1m)\u001b[22m\u001b[22m at \u001b[1m./loading.jl:515\u001b[22m\u001b[22m"
     ]
    }
   ],
   "source": [
    "tex = 0.0\n",
    "sfull = Streaming.Evaluate(tex,p,g,s₁,s̄₂,s₂)"
   ]
  },
  {
   "cell_type": "code",
   "execution_count": 27,
   "metadata": {},
   "outputs": [
    {
     "ename": "LoadError",
     "evalue": "\u001b[91mUndefVarError: g not defined\u001b[39m",
     "output_type": "error",
     "traceback": [
      "\u001b[91mUndefVarError: g not defined\u001b[39m",
      "",
      "Stacktrace:",
      " [1] \u001b[1minclude_string\u001b[22m\u001b[22m\u001b[1m(\u001b[22m\u001b[22m::String, ::String\u001b[1m)\u001b[22m\u001b[22m at \u001b[1m./loading.jl:515\u001b[22m\u001b[22m"
     ]
    }
   ],
   "source": [
    "contour(g.x,g.y,sfull.ω,linspace(-1,1,30))\n",
    "R = 1.0\n",
    "zc = R*exp.(im*linspace(0,2π,100))\n",
    "fill(real(zc),imag(zc),color=\"k\",zorder=2)\n",
    "axis(\"scaled\")\n",
    "xlim(0,maximum(g.x))\n",
    "ylim(0,maximum(g.y))"
   ]
  },
  {
   "cell_type": "markdown",
   "metadata": {},
   "source": [
    "### Sample the history at a few points"
   ]
  },
  {
   "cell_type": "code",
   "execution_count": 28,
   "metadata": {},
   "outputs": [
    {
     "data": {
      "text/plain": [
       "1-dimensional evaluation grid\n"
      ]
     },
     "execution_count": 28,
     "metadata": {},
     "output_type": "execute_result"
    }
   ],
   "source": [
    "gsamp = Streaming.Grid(xsamp,ysamp)"
   ]
  },
  {
   "cell_type": "markdown",
   "metadata": {},
   "source": [
    "#### Set the time range over which to evaluate"
   ]
  },
  {
   "cell_type": "code",
   "execution_count": 29,
   "metadata": {},
   "outputs": [
    {
     "data": {
      "text/plain": [
       "0.0:0.15707963267948966:125.66370614359172"
      ]
     },
     "execution_count": 29,
     "metadata": {},
     "output_type": "execute_result"
    }
   ],
   "source": [
    "tr = let t₀ = 0.0,\n",
    "    t₁ = 20.0*2π,\n",
    "    Δt = 2π/40\n",
    "    t₀:Δt:t₁\n",
    "end"
   ]
  },
  {
   "cell_type": "markdown",
   "metadata": {},
   "source": [
    "#### Evaluate the exact solution at sample points over selected time range"
   ]
  },
  {
   "cell_type": "code",
   "execution_count": 30,
   "metadata": {},
   "outputs": [
    {
     "ename": "LoadError",
     "evalue": "\u001b[91mUndefVarError: p not defined\u001b[39m",
     "output_type": "error",
     "traceback": [
      "\u001b[91mUndefVarError: p not defined\u001b[39m",
      "",
      "Stacktrace:",
      " [1] \u001b[1minclude_string\u001b[22m\u001b[22m\u001b[1m(\u001b[22m\u001b[22m::String, ::String\u001b[1m)\u001b[22m\u001b[22m at \u001b[1m./loading.jl:515\u001b[22m\u001b[22m"
     ]
    }
   ],
   "source": [
    "hex = Streaming.Evaluate(tr,p,gsamp,s₁,s̄₂,s₂);\n",
    "uxex, uyex = Streaming.cartesian(hex,gsamp);"
   ]
  },
  {
   "cell_type": "markdown",
   "metadata": {},
   "source": [
    "#### Compare the exact solution with the computed solution"
   ]
  },
  {
   "cell_type": "code",
   "execution_count": 31,
   "metadata": {},
   "outputs": [
    {
     "ename": "LoadError",
     "evalue": "\u001b[91mtype #hex has no field t\u001b[39m",
     "output_type": "error",
     "traceback": [
      "\u001b[91mtype #hex has no field t\u001b[39m",
      "",
      "Stacktrace:",
      " [1] \u001b[1minclude_string\u001b[22m\u001b[22m\u001b[1m(\u001b[22m\u001b[22m::String, ::String\u001b[1m)\u001b[22m\u001b[22m at \u001b[1m./loading.jl:515\u001b[22m\u001b[22m"
     ]
    }
   ],
   "source": [
    "isamp = 2  # which sample point is being plotted\n",
    "plot(hex.t,uxex[isamp],t,uxsamp[isamp])\n",
    "title(\"Comparison between exact solution and computed solution at sample point\")\n",
    "legend([\"Exact solution\",\"Computed solution\"])"
   ]
  },
  {
   "cell_type": "code",
   "execution_count": null,
   "metadata": {},
   "outputs": [],
   "source": []
  }
 ],
 "metadata": {
  "kernelspec": {
   "display_name": "Julia 0.6.0",
   "language": "julia",
   "name": "julia-0.6"
  },
  "language_info": {
   "file_extension": ".jl",
   "mimetype": "application/julia",
   "name": "julia",
   "version": "0.6.0"
  }
 },
 "nbformat": 4,
 "nbformat_minor": 2
}
