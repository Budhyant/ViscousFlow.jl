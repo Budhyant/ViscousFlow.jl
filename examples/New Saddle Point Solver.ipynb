{
 "cells": [
  {
   "cell_type": "code",
   "execution_count": 1,
   "metadata": {},
   "outputs": [],
   "source": [
    "using Revise"
   ]
  },
  {
   "cell_type": "code",
   "execution_count": 1,
   "metadata": {},
   "outputs": [],
   "source": [
    "#using LinearMaps"
   ]
  },
  {
   "cell_type": "code",
   "execution_count": 2,
   "metadata": {},
   "outputs": [],
   "source": [
    "using LinearAlgebra\n",
    "import LinearAlgebra: ldiv!, mul!, *, \\"
   ]
  },
  {
   "cell_type": "code",
   "execution_count": 2,
   "metadata": {},
   "outputs": [],
   "source": [
    "using ViscousFlow"
   ]
  },
  {
   "cell_type": "code",
   "execution_count": 2,
   "metadata": {},
   "outputs": [],
   "source": [
    "using Plots\n",
    "pyplot()\n",
    "clibrary(:colorbrewer)\n",
    "default(grid = false)"
   ]
  },
  {
   "cell_type": "markdown",
   "metadata": {},
   "source": [
    "## New functions"
   ]
  },
  {
   "cell_type": "code",
   "execution_count": 5,
   "metadata": {},
   "outputs": [],
   "source": [
    "struct SaddleSystem{T,Ns,Nc}\n",
    "    A :: LinearMap{T}\n",
    "    B₂ :: LinearMap{T}\n",
    "    B₁ᵀ :: LinearMap{T}\n",
    "    C :: LinearMap{T}\n",
    "    A⁻¹ :: LinearMap{T}\n",
    "    A⁻¹B₁ᵀf :: Vector{T}\n",
    "    B₂A⁻¹r₁ :: Vector{T}\n",
    "    _u_buf :: Vector{T}\n",
    "    _f_buf :: Vector{T}\n",
    "    S :: LinearMap{T}\n",
    "    S⁻¹ :: LinearMap{T}\n",
    "end"
   ]
  },
  {
   "cell_type": "code",
   "execution_count": 6,
   "metadata": {},
   "outputs": [
    {
     "data": {
      "text/plain": [
       "SaddleSystem"
      ]
     },
     "execution_count": 6,
     "metadata": {},
     "output_type": "execute_result"
    }
   ],
   "source": [
    "function SaddleSystem(A::LinearMap{T},B₂::LinearMap{T},B₁ᵀ::LinearMap{T},C::LinearMap{T},\n",
    "                      A⁻¹::LinearMap{T}) where {T}\n",
    "    \n",
    "    ns, nc = _check_sizes(A,B₂,B₁ᵀ,C)\n",
    "    \n",
    "    S = C - B₂*A⁻¹*B₁ᵀ\n",
    "    #S = LinearMap{Float64}(x -> C*x - B₂*(A⁻¹*(B₁ᵀ*x)),length(f));\n",
    "    Sfact = factorize(Matrix(S))\n",
    "    S⁻¹ = LinearMap{T}(x -> Sfact\\x,nc)\n",
    "    \n",
    "    return SaddleSystem{T,ns,nc}(A,B₂,B₁ᵀ,C,A⁻¹,zeros(T,ns),zeros(T,nc),zeros(T,ns),zeros(T,nc),S,S⁻¹)\n",
    "end"
   ]
  },
  {
   "cell_type": "code",
   "execution_count": 7,
   "metadata": {},
   "outputs": [
    {
     "data": {
      "text/plain": [
       "_check_sizes (generic function with 1 method)"
      ]
     },
     "execution_count": 7,
     "metadata": {},
     "output_type": "execute_result"
    }
   ],
   "source": [
    "function _check_sizes(A,B₂,B₁ᵀ,C)\n",
    "    mA, nA = size(A)\n",
    "    mB1, nB1 = size(B₁ᵀ)\n",
    "    mB2, nB2 = size(B₂)\n",
    "    mC, nC = size(C)\n",
    "    \n",
    "    # check compatibility of sizes\n",
    "    mA == nA  || error(\"A is not square\")\n",
    "    mA == mB1 || error(\"Incompatible number of rows in A and B₁ᵀ\")\n",
    "    nA == nB2 || error(\"Incompatible number of columns in A and B₂\")\n",
    "    mC == mB2 || error(\"Incompatible number of rows in C and B₂\")\n",
    "    nC == nB1 || error(\"Incompatible number of columns in C and B₁ᵀ\")\n",
    "    \n",
    "    ns = nA\n",
    "    nc = nB1\n",
    "    \n",
    "    return ns, nc\n",
    "end"
   ]
  },
  {
   "cell_type": "markdown",
   "metadata": {},
   "source": [
    "### Constructors"
   ]
  },
  {
   "cell_type": "code",
   "execution_count": 111,
   "metadata": {},
   "outputs": [
    {
     "data": {
      "text/plain": [
       "SaddleSystem"
      ]
     },
     "execution_count": 111,
     "metadata": {},
     "output_type": "execute_result"
    }
   ],
   "source": [
    "\"\"\"\n",
    "    SaddleSystem\n",
    "\n",
    "Construct a saddle-point system operator from the constituent operator blocks. The resulting object can be used\n",
    "with `*` and `\\` to multiply and solve. The saddle-point problem has the form\n",
    "\n",
    "``\n",
    "\\\\begin{bmatrix}A & B_1^T \\\\\\\\ B_2 & C \\\\end{bmatrix} \\\\begin{pmatrix} u \\\\\\\\ f \\\\end{pmatrix} = \\\\begin{pmatrix} r_1 \\\\\\\\ r_2 \\\\end{pmatrix}\n",
    "``\n",
    "\n",
    "### Constructors\n",
    "- `SaddleSystem(A::AbstractMatrix,B₂::AbstractMatrix,B₁ᵀ::AbstractMatrix,C::AbstractMatrix)`.\n",
    "Blocks are given as matrices. Must have consistent sizes to stack appropriately.\n",
    "- `SaddleSystem(A,B₂,B₁ᵀ,C,u,f)`.\n",
    "Operators `A`, `B₂`, `B₁ᵀ`, `C` are given in various forms, including matrices, functions, and function-like objects.\n",
    "`u` and `f` are examples of the data types in the corresponding solution and right-hand side vectors.\n",
    "The entries `A` and `B₂` must be able to act upon `u` (either by multiplication or as a function) and `B₁ᵀ` and `C` must be able to act on `f`\n",
    "(either by multiplication or as a function).\n",
    "- `SaddleSystem(A,B₂,B₁ᵀ)` or `SaddleSystem(A,B₂,B₁ᵀ,u,f)`.\n",
    "The `C` block is omitted and assumed to be zero.\n",
    "\"\"\"\n",
    "function SaddleSystem(A::AbstractMatrix{T},B₂::AbstractMatrix{T},B₁ᵀ::AbstractMatrix{T},\n",
    "                      C::AbstractMatrix{T}) where {T}\n",
    "    \n",
    "    Afact = factorize(A)\n",
    "    Ainv = LinearMap{T}(x -> Afact\\x,size(A,1))\n",
    "    \n",
    "    return SaddleSystem(LinearMap{T}(A),LinearMap{T}(B₂),LinearMap{T}(B₁ᵀ),\n",
    "                        LinearMap{T}(C),Ainv)\n",
    "end"
   ]
  },
  {
   "cell_type": "code",
   "execution_count": 112,
   "metadata": {},
   "outputs": [
    {
     "name": "stdout",
     "output_type": "stream",
     "text": [
      "search: \u001b[0m\u001b[1mS\u001b[22m\u001b[0m\u001b[1ma\u001b[22m\u001b[0m\u001b[1md\u001b[22m\u001b[0m\u001b[1md\u001b[22m\u001b[0m\u001b[1ml\u001b[22m\u001b[0m\u001b[1me\u001b[22m\u001b[0m\u001b[1mS\u001b[22m\u001b[0m\u001b[1my\u001b[22m\u001b[0m\u001b[1ms\u001b[22m\u001b[0m\u001b[1mt\u001b[22m\u001b[0m\u001b[1me\u001b[22m\u001b[0m\u001b[1mm\u001b[22m \u001b[0m\u001b[1mS\u001b[22m\u001b[0m\u001b[1ma\u001b[22m\u001b[0m\u001b[1md\u001b[22m\u001b[0m\u001b[1md\u001b[22m\u001b[0m\u001b[1ml\u001b[22m\u001b[0m\u001b[1me\u001b[22mPoint\u001b[0m\u001b[1mS\u001b[22m\u001b[0m\u001b[1my\u001b[22m\u001b[0m\u001b[1ms\u001b[22m\u001b[0m\u001b[1mt\u001b[22m\u001b[0m\u001b[1me\u001b[22m\u001b[0m\u001b[1mm\u001b[22ms\n",
      "\n"
     ]
    },
    {
     "data": {
      "text/latex": [
       "\\begin{verbatim}\n",
       "SaddleSystem\n",
       "\\end{verbatim}\n",
       "Construct a saddle-point system operator from the constituent operator blocks. The resulting object can be used with \\texttt{*} and `` to multiply and solve. The saddle-point problem has the form\n",
       "\n",
       "$\\begin{bmatrix}A & B_1^T \\\\ B_2 & C \\end{bmatrix} \\begin{pmatrix} u \\\\ f \\end{pmatrix} = \\begin{pmatrix} r_1 \\\\ r_2 \\end{pmatrix}$\n",
       "\n",
       "\\subsubsection{Constructors}\n",
       "\\begin{itemize}\n",
       "\\item \\texttt{SaddleSystem(A::AbstractMatrix,B₂::AbstractMatrix,B₁ᵀ::AbstractMatrix,C::AbstractMatrix)}.\n",
       "\n",
       "\\end{itemize}\n",
       "Blocks are given as matrices. Must have consistent sizes to stack appropriately.\n",
       "\n",
       "\\begin{itemize}\n",
       "\\item \\texttt{SaddleSystem(A,B₂,B₁ᵀ,C,u,f)}.\n",
       "\n",
       "\\end{itemize}\n",
       "Operators \\texttt{A}, \\texttt{B₂}, \\texttt{B₁ᵀ}, \\texttt{C} are given in various forms, including matrices, functions, and function-like objects. \\texttt{u} and \\texttt{f} are examples of the data types in the corresponding solution and right-hand side vectors. The entries \\texttt{A} and \\texttt{B₂} must be able to act upon \\texttt{u} (either by multiplication or as a function) and \\texttt{B₁ᵀ} and \\texttt{C} must be able to act on \\texttt{f} (either by multiplication or as a function).\n",
       "\n",
       "\\begin{itemize}\n",
       "\\item \\texttt{SaddleSystem(A,B₂,B₁ᵀ)} or \\texttt{SaddleSystem(A,B₂,B₁ᵀ,u,f)}.\n",
       "\n",
       "\\end{itemize}\n",
       "The \\texttt{C} block is omitted and assumed to be zero.\n",
       "\n"
      ],
      "text/markdown": [
       "```\n",
       "SaddleSystem\n",
       "```\n",
       "\n",
       "Construct a saddle-point system operator from the constituent operator blocks. The resulting object can be used with `*` and `` to multiply and solve. The saddle-point problem has the form\n",
       "\n",
       "$\\begin{bmatrix}A & B_1^T \\\\ B_2 & C \\end{bmatrix} \\begin{pmatrix} u \\\\ f \\end{pmatrix} = \\begin{pmatrix} r_1 \\\\ r_2 \\end{pmatrix}$\n",
       "\n",
       "### Constructors\n",
       "\n",
       "  * `SaddleSystem(A::AbstractMatrix,B₂::AbstractMatrix,B₁ᵀ::AbstractMatrix,C::AbstractMatrix)`.\n",
       "\n",
       "Blocks are given as matrices. Must have consistent sizes to stack appropriately.\n",
       "\n",
       "  * `SaddleSystem(A,B₂,B₁ᵀ,C,u,f)`.\n",
       "\n",
       "Operators `A`, `B₂`, `B₁ᵀ`, `C` are given in various forms, including matrices, functions, and function-like objects. `u` and `f` are examples of the data types in the corresponding solution and right-hand side vectors. The entries `A` and `B₂` must be able to act upon `u` (either by multiplication or as a function) and `B₁ᵀ` and `C` must be able to act on `f` (either by multiplication or as a function).\n",
       "\n",
       "  * `SaddleSystem(A,B₂,B₁ᵀ)` or `SaddleSystem(A,B₂,B₁ᵀ,u,f)`.\n",
       "\n",
       "The `C` block is omitted and assumed to be zero.\n"
      ],
      "text/plain": [
       "\u001b[36m  SaddleSystem\u001b[39m\n",
       "\n",
       "  Construct a saddle-point system operator from the constituent operator\n",
       "  blocks. The resulting object can be used with \u001b[36m*\u001b[39m and `` to multiply and\n",
       "  solve. The saddle-point problem has the form\n",
       "\n",
       "  \u001b[35m\\begin{bmatrix}A & B_1^T \\\\ B_2 & C \\end{bmatrix} \\begin{pmatrix} u \\\\ f\n",
       "  \\end{pmatrix} = \\begin{pmatrix} r_1 \\\\ r_2 \\end{pmatrix}\u001b[39m\n",
       "\n",
       "\u001b[1m  Constructors\u001b[22m\n",
       "\u001b[1m  ––––––––––––––\u001b[22m\n",
       "\n",
       "    •   \n",
       "      \u001b[36mSaddleSystem(A::AbstractMatrix,B₂::AbstractMatrix,B₁ᵀ::AbstractMatrix,C::AbstractMatrix)\u001b[39m.\n",
       "\n",
       "  Blocks are given as matrices. Must have consistent sizes to stack\n",
       "  appropriately.\n",
       "\n",
       "    •    \u001b[36mSaddleSystem(A,B₂,B₁ᵀ,C,u,f)\u001b[39m.\n",
       "\n",
       "  Operators \u001b[36mA\u001b[39m, \u001b[36mB₂\u001b[39m, \u001b[36mB₁ᵀ\u001b[39m, \u001b[36mC\u001b[39m are given in various forms, including matrices,\n",
       "  functions, and function-like objects. \u001b[36mu\u001b[39m and \u001b[36mf\u001b[39m are examples of the data types\n",
       "  in the corresponding solution and right-hand side vectors. The entries \u001b[36mA\u001b[39m and\n",
       "  \u001b[36mB₂\u001b[39m must be able to act upon \u001b[36mu\u001b[39m (either by multiplication or as a function)\n",
       "  and \u001b[36mB₁ᵀ\u001b[39m and \u001b[36mC\u001b[39m must be able to act on \u001b[36mf\u001b[39m (either by multiplication or as a\n",
       "  function).\n",
       "\n",
       "    •    \u001b[36mSaddleSystem(A,B₂,B₁ᵀ)\u001b[39m or \u001b[36mSaddleSystem(A,B₂,B₁ᵀ,u,f)\u001b[39m.\n",
       "\n",
       "  The \u001b[36mC\u001b[39m block is omitted and assumed to be zero."
      ]
     },
     "execution_count": 112,
     "metadata": {},
     "output_type": "execute_result"
    }
   ],
   "source": [
    "?SaddleSystem"
   ]
  },
  {
   "cell_type": "code",
   "execution_count": 9,
   "metadata": {},
   "outputs": [
    {
     "data": {
      "text/plain": [
       "SaddleSystem"
      ]
     },
     "execution_count": 9,
     "metadata": {},
     "output_type": "execute_result"
    }
   ],
   "source": [
    "# For cases in which C is zero, no need to pass along the argument\n",
    "SaddleSystem(A::AbstractMatrix{T},B₂::AbstractMatrix{T},B₁ᵀ::AbstractMatrix{T}) where {T} = \n",
    "        SaddleSystem(A,B₂,B₁ᵀ,zeros(T,size(B₂,1),size(B₁ᵀ,2)))"
   ]
  },
  {
   "cell_type": "code",
   "execution_count": 10,
   "metadata": {},
   "outputs": [
    {
     "data": {
      "text/plain": [
       "SaddleSystem"
      ]
     },
     "execution_count": 10,
     "metadata": {},
     "output_type": "execute_result"
    }
   ],
   "source": [
    "# This version should take in functions or function-like objects that act upon given\n",
    "# data types u and f. Should transform them into operators that act on abstract vectors\n",
    "# of the same size\n",
    "# There should already be an \\ operator associated with A\n",
    "function SaddleSystem(A,B₂,B₁ᵀ,C,u::TU,f::TF;eltype=Float64) where {TU,TF}\n",
    "    \n",
    "    return SaddleSystem(linear_map(A,u,eltype=eltype),linear_map(B₂,u,f,eltype=eltype),\n",
    "                        linear_map(B₁ᵀ,f,u,eltype=eltype),\n",
    "                        linear_map(C,f,eltype=eltype),\n",
    "                        linear_inverse_map(A,u,eltype=eltype))\n",
    "end"
   ]
  },
  {
   "cell_type": "code",
   "execution_count": 166,
   "metadata": {},
   "outputs": [
    {
     "data": {
      "text/plain": [
       "SaddleSystem"
      ]
     },
     "execution_count": 166,
     "metadata": {},
     "output_type": "execute_result"
    }
   ],
   "source": [
    "SaddleSystem(A,B₂,B₁ᵀ,u::TU,f::TF;eltype=Float64) where {TU,TF} = SaddleSystem(A,B₂,B₁ᵀ,zeros(eltype,length(f),length(f)),u,f,eltype=eltype)"
   ]
  },
  {
   "cell_type": "markdown",
   "metadata": {},
   "source": [
    "Use cases:\n",
    "- All operators are matrices and u and f are vectors.\n",
    "- Operators are functions or function-like objects, and u and f are wrappers for vectors\n",
    "- A is itself a SaddleSystem (but the rest of the operators are functions or matrices) and u is a tuple.\n",
    "\n",
    "Should transform any type of `u` and `f` into a pair of vectors."
   ]
  },
  {
   "cell_type": "code",
   "execution_count": 230,
   "metadata": {},
   "outputs": [
    {
     "name": "stdout",
     "output_type": "stream",
     "text": [
      "(5, (3, 4, [3, 2]))\n",
      "[2, 3]\n",
      "[5, 3, 4, 3, 2][2, 3]\n"
     ]
    }
   ],
   "source": [
    "test_args4((5,(3,4,[3,2])),[2,3])"
   ]
  },
  {
   "cell_type": "code",
   "execution_count": 245,
   "metadata": {},
   "outputs": [],
   "source": [
    "v1, v2 = test_args4((w,w),(w,f));"
   ]
  },
  {
   "cell_type": "code",
   "execution_count": 253,
   "metadata": {},
   "outputs": [],
   "source": [
    "v = Iterators.flatten((w,(w,f)));"
   ]
  },
  {
   "cell_type": "code",
   "execution_count": 256,
   "metadata": {},
   "outputs": [
    {
     "data": {
      "text/plain": [
       "false"
      ]
     },
     "execution_count": 256,
     "metadata": {},
     "output_type": "execute_result"
    }
   ],
   "source": [
    "typeof((1,2)) <: AbstractArray"
   ]
  },
  {
   "cell_type": "markdown",
   "metadata": {},
   "source": [
    "### Arithmetic operations"
   ]
  },
  {
   "cell_type": "code",
   "execution_count": 12,
   "metadata": {},
   "outputs": [
    {
     "data": {
      "text/plain": [
       "mul! (generic function with 196 methods)"
      ]
     },
     "execution_count": 12,
     "metadata": {},
     "output_type": "execute_result"
    }
   ],
   "source": [
    "function mul!(output::Tuple{AbstractVector{T},AbstractVector{T}},sys::SaddleSystem{T,Ns,Nc},input::Tuple{AbstractVector{T},AbstractVector{T}}) where {T,Ns,Nc}\n",
    "    u,f = input \n",
    "    r₁,r₂ = output\n",
    "    length(u) == length(r₁) == Ns || error(\"Incompatible number of elements\")\n",
    "    length(f) == length(r₂) == Nc || error(\"Incompatible number of elements\")\n",
    "    \n",
    "    r₁ .= sys.A*u + sys.B₁ᵀ*f\n",
    "    r₂ .= sys.B₂*u + sys.C*f\n",
    "    return output\n",
    "end"
   ]
  },
  {
   "cell_type": "code",
   "execution_count": 13,
   "metadata": {},
   "outputs": [
    {
     "data": {
      "text/plain": [
       "mul! (generic function with 197 methods)"
      ]
     },
     "execution_count": 13,
     "metadata": {},
     "output_type": "execute_result"
    }
   ],
   "source": [
    "function mul!(sol::Tuple{TU,TF},sys::SaddleSystem,rhs::Tuple{TU,TF}) where {T,Ns,Nc,TU,TF}\n",
    "    u, f = sol\n",
    "    r₁, r₂ = rhs\n",
    "    return mul!((_unwrap_vec(u),_unwrap_vec(f)),sys,(_unwrap_vec(r₁),_unwrap_vec(r₂)))\n",
    "end"
   ]
  },
  {
   "cell_type": "code",
   "execution_count": 14,
   "metadata": {},
   "outputs": [
    {
     "data": {
      "text/plain": [
       "* (generic function with 497 methods)"
      ]
     },
     "execution_count": 14,
     "metadata": {},
     "output_type": "execute_result"
    }
   ],
   "source": [
    "function (*)(sys::SaddleSystem,input::Tuple)\n",
    "    u, f = input\n",
    "    output = (similar(u),similar(f))\n",
    "    mul!(output,sys,input)\n",
    "    return output \n",
    "end"
   ]
  },
  {
   "cell_type": "code",
   "execution_count": 15,
   "metadata": {},
   "outputs": [
    {
     "data": {
      "text/plain": [
       "mul! (generic function with 198 methods)"
      ]
     },
     "execution_count": 15,
     "metadata": {},
     "output_type": "execute_result"
    }
   ],
   "source": [
    "# Routine for accepting vector inputs, parsing it into Ns and Nc parts\n",
    "function mul!(sol::AbstractVector{T},sys::SaddleSystem{T,Ns,Nc},rhs::AbstractVector{T}) where {T,Ns,Nc}\n",
    "    mul!(_split_vector(sol,Ns,Nc),sys,_split_vector(rhs,Ns,Nc))\n",
    "    return sol\n",
    "end"
   ]
  },
  {
   "cell_type": "code",
   "execution_count": 16,
   "metadata": {},
   "outputs": [
    {
     "data": {
      "text/plain": [
       "* (generic function with 498 methods)"
      ]
     },
     "execution_count": 16,
     "metadata": {},
     "output_type": "execute_result"
    }
   ],
   "source": [
    "function (*)(sys::SaddleSystem,input::AbstractVector)\n",
    "    output = similar(input)\n",
    "    mul!(output,sys,input)\n",
    "    return output \n",
    "end"
   ]
  },
  {
   "cell_type": "code",
   "execution_count": 17,
   "metadata": {},
   "outputs": [
    {
     "data": {
      "text/plain": [
       "ldiv! (generic function with 125 methods)"
      ]
     },
     "execution_count": 17,
     "metadata": {},
     "output_type": "execute_result"
    }
   ],
   "source": [
    "function ldiv!(sol::Tuple{AbstractVector{T},AbstractVector{T}},sys::SaddleSystem{T,Ns,Nc},rhs::Tuple{AbstractVector{T},AbstractVector{T}}) where {T,Ns,Nc}\n",
    "    \n",
    "    N = Ns+Nc\n",
    "    u,f = sol #_split_vector(sol,Ns,Nc)\n",
    "    r₁,r₂ = rhs #_split_vector(rhs,Ns,Nc)\n",
    "    length(u) == length(r₁) == Ns || error(\"Incompatible number of elements\")\n",
    "    length(f) == length(r₂) == Nc || error(\"Incompatible number of elements\")\n",
    "\n",
    "    u .= sys.A⁻¹*r₁\n",
    "\n",
    "    sys.B₂A⁻¹r₁ .= sys.B₂*u\n",
    "    sys._f_buf .= r₂\n",
    "    sys._f_buf .-= sys.B₂A⁻¹r₁\n",
    "    \n",
    "    if Nc > 0\n",
    "        f .= sys.S⁻¹*sys._f_buf\n",
    "        #f .= sys.P(f)\n",
    "    end\n",
    "    sys.A⁻¹B₁ᵀf .= sys.A⁻¹*sys.B₁ᵀ*f\n",
    "    u .-= sys.A⁻¹B₁ᵀf\n",
    "    \n",
    "    return sol\n",
    "end"
   ]
  },
  {
   "cell_type": "code",
   "execution_count": 18,
   "metadata": {},
   "outputs": [
    {
     "data": {
      "text/plain": [
       "ldiv! (generic function with 126 methods)"
      ]
     },
     "execution_count": 18,
     "metadata": {},
     "output_type": "execute_result"
    }
   ],
   "source": [
    "function ldiv!(sol::Tuple{TU,TF},sys::SaddleSystem,rhs::Tuple{TU,TF}) where {T,Ns,Nc,TU,TF}\n",
    "    u, f = sol\n",
    "    r₁, r₂ = rhs\n",
    "    return ldiv!((_unwrap_vec(u),_unwrap_vec(f)),sys,(_unwrap_vec(r₁),_unwrap_vec(r₂)))\n",
    "end"
   ]
  },
  {
   "cell_type": "code",
   "execution_count": 19,
   "metadata": {},
   "outputs": [
    {
     "data": {
      "text/plain": [
       "\\ (generic function with 191 methods)"
      ]
     },
     "execution_count": 19,
     "metadata": {},
     "output_type": "execute_result"
    }
   ],
   "source": [
    "function (\\)(sys::SaddleSystem,input::Tuple) where {T,Ns,Nc}\n",
    "    u, f = input\n",
    "    sol = (similar(u),similar(f))\n",
    "    ldiv!(sol,sys,input)\n",
    "    return sol\n",
    "end"
   ]
  },
  {
   "cell_type": "code",
   "execution_count": 20,
   "metadata": {},
   "outputs": [
    {
     "data": {
      "text/plain": [
       "ldiv! (generic function with 127 methods)"
      ]
     },
     "execution_count": 20,
     "metadata": {},
     "output_type": "execute_result"
    }
   ],
   "source": [
    "# Routine for accepting vector inputs, parsing it into Ns and Nc parts\n",
    "function ldiv!(sol::AbstractVector{T},sys::SaddleSystem{T,Ns,Nc},rhs::AbstractVector{T}) where {T,Ns,Nc}\n",
    "    ldiv!(_split_vector(sol,Ns,Nc),sys,_split_vector(rhs,Ns,Nc))\n",
    "    return sol\n",
    "end"
   ]
  },
  {
   "cell_type": "code",
   "execution_count": 21,
   "metadata": {},
   "outputs": [
    {
     "data": {
      "text/plain": [
       "\\ (generic function with 192 methods)"
      ]
     },
     "execution_count": 21,
     "metadata": {},
     "output_type": "execute_result"
    }
   ],
   "source": [
    "function (\\)(sys::SaddleSystem,input::AbstractVector)\n",
    "    sol = similar(input)\n",
    "    ldiv!(sol,sys,input)\n",
    "    return sol \n",
    "end"
   ]
  },
  {
   "cell_type": "markdown",
   "metadata": {},
   "source": [
    "### Auxiliary routines"
   ]
  },
  {
   "cell_type": "code",
   "execution_count": 22,
   "metadata": {},
   "outputs": [
    {
     "data": {
      "text/plain": [
       "_split_vector (generic function with 1 method)"
      ]
     },
     "execution_count": 22,
     "metadata": {},
     "output_type": "execute_result"
    }
   ],
   "source": [
    "# vector -> tuple\n",
    "function _split_vector(x,Ns,Nc)\n",
    "    return view(x,1:Ns), view(x,Ns+1:Ns+Nc)\n",
    "end"
   ]
  },
  {
   "cell_type": "code",
   "execution_count": 164,
   "metadata": {},
   "outputs": [
    {
     "data": {
      "text/plain": [
       "linear_map (generic function with 5 methods)"
      ]
     },
     "execution_count": 164,
     "metadata": {},
     "output_type": "execute_result"
    }
   ],
   "source": [
    "# for a given function of function-like object A, which acts upon data of type u\n",
    "# and returns data of type f\n",
    "# return a LinearMap that acts upon a vector form of u\n",
    "linear_map(A,u,f;eltype=Float64) = _linear_map(A,u,f,eltype)\n",
    "linear_map(A,u;eltype=Float64) = _linear_map(A,u,eltype)\n",
    "linear_map(A::AbstractMatrix{T},u::AbstractVector{T};eltype=Float64) where {T} = LinearMap{eltype}(A)\n",
    "linear_map(A::SaddleSystem{T,Ns,Nc},::Any;eltype=Float64) where {T,Ns,Nc} = LinearMap{T}(x->A*x,Ns+Nc)"
   ]
  },
  {
   "cell_type": "code",
   "execution_count": 163,
   "metadata": {},
   "outputs": [
    {
     "data": {
      "text/plain": [
       "linear_inverse_map (generic function with 2 methods)"
      ]
     },
     "execution_count": 163,
     "metadata": {},
     "output_type": "execute_result"
    }
   ],
   "source": [
    "function linear_inverse_map(A,input;eltype=Float64)\n",
    "    hasmethod(\\,Tuple{typeof(A),typeof(input)}) || error(\"No such backslash operator exists\")\n",
    "    return LinearMap{eltype}(_create_vec_backslash(A,input),length(input))\n",
    "end\n",
    "linear_inverse_map(A::SaddleSystem{T,Ns,Nc},::Any;eltype=Float64) where {T,Ns,Nc} = LinearMap{T}(x->A\\x,Ns+Nc)"
   ]
  },
  {
   "cell_type": "code",
   "execution_count": 25,
   "metadata": {},
   "outputs": [
    {
     "data": {
      "text/plain": [
       "_linear_map (generic function with 2 methods)"
      ]
     },
     "execution_count": 25,
     "metadata": {},
     "output_type": "execute_result"
    }
   ],
   "source": [
    "_linear_map(A,input,output,eltype) = LinearMap{eltype}(_create_fcn(A,input),length(output),length(input))\n",
    "_linear_map(A,input,eltype) = LinearMap{eltype}(_create_fcn(A,input),length(input))"
   ]
  },
  {
   "cell_type": "code",
   "execution_count": 26,
   "metadata": {},
   "outputs": [
    {
     "data": {
      "text/plain": [
       "_create_fcn (generic function with 1 method)"
      ]
     },
     "execution_count": 26,
     "metadata": {},
     "output_type": "execute_result"
    }
   ],
   "source": [
    "function _create_fcn(A,input)\n",
    "    if hasmethod(*,Tuple{typeof(A),typeof(input)})\n",
    "        fcn = _create_vec_multiplication(A,input)\n",
    "    elseif hasmethod(A,Tuple{typeof(input)})\n",
    "        fcn = _create_vec_function(A,input)\n",
    "    end\n",
    "    return fcn\n",
    "end"
   ]
  },
  {
   "cell_type": "code",
   "execution_count": 27,
   "metadata": {},
   "outputs": [
    {
     "data": {
      "text/plain": [
       "_create_vec_backslash (generic function with 1 method)"
      ]
     },
     "execution_count": 27,
     "metadata": {},
     "output_type": "execute_result"
    }
   ],
   "source": [
    "_create_vec_multiplication(A,u::TU) where {TU} = (x -> vec(A*_wrap_vec(x,u)))\n",
    "_create_vec_function(A,u::TU) where {TU} = (x -> vec(A(_wrap_vec(x,u))))\n",
    "_create_vec_backslash(A,u::TU) where {TU} = (x -> vec(A\\_wrap_vec(x,u)))"
   ]
  },
  {
   "cell_type": "code",
   "execution_count": 28,
   "metadata": {},
   "outputs": [
    {
     "data": {
      "text/plain": [
       "_wrap_vec (generic function with 4 methods)"
      ]
     },
     "execution_count": 28,
     "metadata": {},
     "output_type": "execute_result"
    }
   ],
   "source": [
    "_wrap_vec(x::Vector{T},u::TU) where {T,TU} = TU(reshape(x,size(u)...))\n",
    "_wrap_vec(x::Base.ReshapedArray,u::TU) where {TU} = parent(x)\n",
    "_wrap_vec(x::AbstractVector{T},u::TU) where {T,TU} = x\n",
    "_wrap_vec(x,u::TU) where {TU <: Tuple} = x"
   ]
  },
  {
   "cell_type": "code",
   "execution_count": 29,
   "metadata": {},
   "outputs": [
    {
     "data": {
      "text/plain": [
       "_unwrap_vec (generic function with 2 methods)"
      ]
     },
     "execution_count": 29,
     "metadata": {},
     "output_type": "execute_result"
    }
   ],
   "source": [
    "_unwrap_vec(x) = vec(x)\n",
    "_unwrap_vec(x::Tuple) = x"
   ]
  },
  {
   "cell_type": "code",
   "execution_count": null,
   "metadata": {},
   "outputs": [],
   "source": []
  },
  {
   "cell_type": "markdown",
   "metadata": {},
   "source": [
    "## Test of unconstrained systems"
   ]
  },
  {
   "cell_type": "code",
   "execution_count": 2,
   "metadata": {},
   "outputs": [
    {
     "name": "stdout",
     "output_type": "stream",
     "text": [
      "\u001b[32m\u001b[1m   Testing\u001b[22m\u001b[39m ViscousFlow\n",
      "\u001b[32m\u001b[1m Resolving\u001b[22m\u001b[39m package versions...\n",
      "Test Summary:        | Pass  Total\n",
      "Saddle-Point Systems |   16     16\n",
      "\u001b[32m\u001b[1m   Testing\u001b[22m\u001b[39m ViscousFlow tests passed \n"
     ]
    }
   ],
   "source": [
    "using Pkg\n",
    "pkg\"test ViscousFlow\""
   ]
  },
  {
   "cell_type": "code",
   "execution_count": 128,
   "metadata": {},
   "outputs": [],
   "source": [
    "using LinearMaps"
   ]
  },
  {
   "cell_type": "code",
   "execution_count": 138,
   "metadata": {},
   "outputs": [
    {
     "data": {
      "text/plain": [
       "LinearMaps.FunctionMap{Float64}(#11, 5, 0; ismutating=false, issymmetric=false, ishermitian=false, isposdef=false)"
      ]
     },
     "execution_count": 138,
     "metadata": {},
     "output_type": "execute_result"
    }
   ],
   "source": [
    "Lnull = LinearMap(x -> typeof(w)(),5,0)"
   ]
  },
  {
   "cell_type": "code",
   "execution_count": 139,
   "metadata": {},
   "outputs": [
    {
     "data": {
      "text/plain": [
       "Nodes{Dual,130,130,Float64} data\n",
       "Printing in grid orientation (lower left is (1,1))\n",
       "130×130 Array{Float64,2}:\n",
       " 0.0  0.0  0.0  0.0  0.0  0.0  0.0  0.0  …  0.0  0.0  0.0  0.0  0.0  0.0  0.0\n",
       " 0.0  0.0  0.0  0.0  0.0  0.0  0.0  0.0     0.0  0.0  0.0  0.0  0.0  0.0  0.0\n",
       " 0.0  0.0  0.0  0.0  0.0  0.0  0.0  0.0     0.0  0.0  0.0  0.0  0.0  0.0  0.0\n",
       " 0.0  0.0  0.0  0.0  0.0  0.0  0.0  0.0     0.0  0.0  0.0  0.0  0.0  0.0  0.0\n",
       " 0.0  0.0  0.0  0.0  0.0  0.0  0.0  0.0     0.0  0.0  0.0  0.0  0.0  0.0  0.0\n",
       " 0.0  0.0  0.0  0.0  0.0  0.0  0.0  0.0  …  0.0  0.0  0.0  0.0  0.0  0.0  0.0\n",
       " 0.0  0.0  0.0  0.0  0.0  0.0  0.0  0.0     0.0  0.0  0.0  0.0  0.0  0.0  0.0\n",
       " 0.0  0.0  0.0  0.0  0.0  0.0  0.0  0.0     0.0  0.0  0.0  0.0  0.0  0.0  0.0\n",
       " 0.0  0.0  0.0  0.0  0.0  0.0  0.0  0.0     0.0  0.0  0.0  0.0  0.0  0.0  0.0\n",
       " 0.0  0.0  0.0  0.0  0.0  0.0  0.0  0.0     0.0  0.0  0.0  0.0  0.0  0.0  0.0\n",
       " 0.0  0.0  0.0  0.0  0.0  0.0  0.0  0.0  …  0.0  0.0  0.0  0.0  0.0  0.0  0.0\n",
       " 0.0  0.0  0.0  0.0  0.0  0.0  0.0  0.0     0.0  0.0  0.0  0.0  0.0  0.0  0.0\n",
       " 0.0  0.0  0.0  0.0  0.0  0.0  0.0  0.0     0.0  0.0  0.0  0.0  0.0  0.0  0.0\n",
       " ⋮                        ⋮              ⋱            ⋮                      \n",
       " 0.0  0.0  0.0  0.0  0.0  0.0  0.0  0.0     0.0  0.0  0.0  0.0  0.0  0.0  0.0\n",
       " 0.0  0.0  0.0  0.0  0.0  0.0  0.0  0.0     0.0  0.0  0.0  0.0  0.0  0.0  0.0\n",
       " 0.0  0.0  0.0  0.0  0.0  0.0  0.0  0.0  …  0.0  0.0  0.0  0.0  0.0  0.0  0.0\n",
       " 0.0  0.0  0.0  0.0  0.0  0.0  0.0  0.0     0.0  0.0  0.0  0.0  0.0  0.0  0.0\n",
       " 0.0  0.0  0.0  0.0  0.0  0.0  0.0  0.0     0.0  0.0  0.0  0.0  0.0  0.0  0.0\n",
       " 0.0  0.0  0.0  0.0  0.0  0.0  0.0  0.0     0.0  0.0  0.0  0.0  0.0  0.0  0.0\n",
       " 0.0  0.0  0.0  0.0  0.0  0.0  0.0  0.0     0.0  0.0  0.0  0.0  0.0  0.0  0.0\n",
       " 0.0  0.0  0.0  0.0  0.0  0.0  0.0  0.0  …  0.0  0.0  0.0  0.0  0.0  0.0  0.0\n",
       " 0.0  0.0  0.0  0.0  0.0  0.0  0.0  0.0     0.0  0.0  0.0  0.0  0.0  0.0  0.0\n",
       " 0.0  0.0  0.0  0.0  0.0  0.0  0.0  0.0     0.0  0.0  0.0  0.0  0.0  0.0  0.0\n",
       " 0.0  0.0  0.0  0.0  0.0  0.0  0.0  0.0     0.0  0.0  0.0  0.0  0.0  0.0  0.0\n",
       " 0.0  0.0  0.0  0.0  0.0  0.0  0.0  0.0     0.0  0.0  0.0  0.0  0.0  0.0  0.0"
      ]
     },
     "execution_count": 139,
     "metadata": {},
     "output_type": "execute_result"
    }
   ],
   "source": [
    "Lnull*[]"
   ]
  },
  {
   "cell_type": "code",
   "execution_count": 125,
   "metadata": {},
   "outputs": [
    {
     "data": {
      "text/plain": [
       "testarg (generic function with 2 methods)"
      ]
     },
     "execution_count": 125,
     "metadata": {},
     "output_type": "execute_result"
    }
   ],
   "source": [
    "function testarg(x::Union{Some{T},Nothing}) where {T}\n",
    "    x != nothing ? println(x) : nothing\n",
    "end"
   ]
  },
  {
   "cell_type": "code",
   "execution_count": 126,
   "metadata": {},
   "outputs": [],
   "source": [
    "testarg(rf)"
   ]
  },
  {
   "cell_type": "markdown",
   "metadata": {},
   "source": [
    "### Test on matrices"
   ]
  },
  {
   "cell_type": "code",
   "execution_count": 35,
   "metadata": {},
   "outputs": [],
   "source": [
    "A1 = Float64[1 2; 2 1]\n",
    "B2 = Float64[2 3;-1 -1]\n",
    "B1 = Float64[2 3;-1 -1]'\n",
    "C = Matrix{Float64}(undef,2,2)\n",
    "C.= [5 -2; 3 -4];"
   ]
  },
  {
   "cell_type": "code",
   "execution_count": 36,
   "metadata": {},
   "outputs": [],
   "source": [
    "A = SaddleSystem(A1,B2,B1,C);"
   ]
  },
  {
   "cell_type": "code",
   "execution_count": 37,
   "metadata": {},
   "outputs": [],
   "source": [
    "rhs = ([1.0,2.0],[3.0,4.0]);\n",
    "sol = (zeros(2),zeros(2));"
   ]
  },
  {
   "cell_type": "code",
   "execution_count": 7,
   "metadata": {},
   "outputs": [],
   "source": [
    "using LinearAlgebra"
   ]
  },
  {
   "cell_type": "code",
   "execution_count": 44,
   "metadata": {},
   "outputs": [
    {
     "data": {
      "text/plain": [
       "0.0"
      ]
     },
     "execution_count": 44,
     "metadata": {},
     "output_type": "execute_result"
    }
   ],
   "source": [
    "norm((A*sol2)[2]-rhs[2])"
   ]
  },
  {
   "cell_type": "code",
   "execution_count": 38,
   "metadata": {},
   "outputs": [
    {
     "name": "stdout",
     "output_type": "stream",
     "text": [
      "  0.000032 seconds (20 allocations: 912 bytes)\n"
     ]
    },
    {
     "data": {
      "text/plain": [
       "([-4.440892098500626e-16, -0.35714285714285704], [0.6428571428571431, -0.42857142857142827])"
      ]
     },
     "execution_count": 38,
     "metadata": {},
     "output_type": "execute_result"
    }
   ],
   "source": [
    "@time ldiv!(sol,A,rhs)"
   ]
  },
  {
   "cell_type": "code",
   "execution_count": 39,
   "metadata": {},
   "outputs": [
    {
     "name": "stdout",
     "output_type": "stream",
     "text": [
      "  0.000033 seconds (23 allocations: 1.109 KiB)\n"
     ]
    },
    {
     "data": {
      "text/plain": [
       "([-4.440892098500626e-16, -0.35714285714285704], [0.6428571428571431, -0.42857142857142827])"
      ]
     },
     "execution_count": 39,
     "metadata": {},
     "output_type": "execute_result"
    }
   ],
   "source": [
    "@time sol2 = A\\rhs"
   ]
  },
  {
   "cell_type": "code",
   "execution_count": 51,
   "metadata": {},
   "outputs": [
    {
     "name": "stdout",
     "output_type": "stream",
     "text": [
      "\u001b[32m\u001b[1m   Testing\u001b[22m\u001b[39m ViscousFlow\n",
      "\u001b[32m\u001b[1m Resolving\u001b[22m\u001b[39m package versions...\n",
      "Test Summary:        | Pass  Total\n",
      "Saddle-Point Systems |    6      6\n",
      "\u001b[32m\u001b[1m   Testing\u001b[22m\u001b[39m ViscousFlow tests passed \n"
     ]
    }
   ],
   "source": [
    "using Pkg\n",
    "pkg\"test ViscousFlow\""
   ]
  },
  {
   "cell_type": "markdown",
   "metadata": {},
   "source": [
    "#### Test with vector inputs/outputs"
   ]
  },
  {
   "cell_type": "code",
   "execution_count": 12,
   "metadata": {},
   "outputs": [],
   "source": [
    "rhs1, rhs2 = rhs\n",
    "rhsvec = [rhs1;rhs2]\n",
    "solvec = similar(rhsvec);"
   ]
  },
  {
   "cell_type": "code",
   "execution_count": 13,
   "metadata": {},
   "outputs": [],
   "source": [
    "solvec = A\\rhsvec;"
   ]
  },
  {
   "cell_type": "code",
   "execution_count": 14,
   "metadata": {},
   "outputs": [
    {
     "data": {
      "text/plain": [
       "4-element Array{Float64,1}:\n",
       " 0.9999999999999999\n",
       " 1.9999999999999998\n",
       " 3.0               \n",
       " 4.0               "
      ]
     },
     "execution_count": 14,
     "metadata": {},
     "output_type": "execute_result"
    }
   ],
   "source": [
    "A*solvec"
   ]
  },
  {
   "cell_type": "markdown",
   "metadata": {},
   "source": [
    "### Test on ViscousFlow operators"
   ]
  },
  {
   "cell_type": "code",
   "execution_count": 17,
   "metadata": {},
   "outputs": [],
   "source": [
    "nx = 130; ny = 130;\n",
    "Lx = 2.0;\n",
    "dx = Lx/(nx-2);\n",
    "w = Nodes(Dual,(nx,ny));\n",
    "u = similar(w);"
   ]
  },
  {
   "cell_type": "code",
   "execution_count": 18,
   "metadata": {},
   "outputs": [],
   "source": [
    "wvec = vec(w);"
   ]
  },
  {
   "cell_type": "code",
   "execution_count": 19,
   "metadata": {},
   "outputs": [
    {
     "data": {
      "text/plain": [
       "Discrete Laplacian (and inverse) on a (nx = 130, ny = 130) grid acting on Float64 data with spacing 1.0"
      ]
     },
     "execution_count": 19,
     "metadata": {},
     "output_type": "execute_result"
    }
   ],
   "source": [
    "L = plan_laplacian(size(w),with_inverse=true)"
   ]
  },
  {
   "cell_type": "code",
   "execution_count": 20,
   "metadata": {},
   "outputs": [],
   "source": [
    "w .= rand(size(w)...);"
   ]
  },
  {
   "cell_type": "code",
   "execution_count": 21,
   "metadata": {},
   "outputs": [],
   "source": [
    "uvec = zeros(length(w));"
   ]
  },
  {
   "cell_type": "code",
   "execution_count": 46,
   "metadata": {},
   "outputs": [
    {
     "name": "stdout",
     "output_type": "stream",
     "text": [
      "  0.002282 seconds (2.47 k allocations: 151.332 KiB)\n"
     ]
    }
   ],
   "source": [
    "@time _wrap_vec(wvec,w);"
   ]
  },
  {
   "cell_type": "code",
   "execution_count": 257,
   "metadata": {},
   "outputs": [],
   "source": [
    "Lop = linear_map(L,w);"
   ]
  },
  {
   "cell_type": "code",
   "execution_count": 49,
   "metadata": {},
   "outputs": [
    {
     "name": "stdout",
     "output_type": "stream",
     "text": [
      "  0.000128 seconds (8 allocations: 132.344 KiB)\n"
     ]
    }
   ],
   "source": [
    "@time u = L*w;"
   ]
  },
  {
   "cell_type": "code",
   "execution_count": 51,
   "metadata": {},
   "outputs": [
    {
     "name": "stdout",
     "output_type": "stream",
     "text": [
      "  0.000130 seconds (9 allocations: 132.391 KiB)\n"
     ]
    }
   ],
   "source": [
    "@time uvec = Lop*wvec;"
   ]
  },
  {
   "cell_type": "code",
   "execution_count": 52,
   "metadata": {},
   "outputs": [
    {
     "data": {
      "text/plain": [
       "true"
      ]
     },
     "execution_count": 52,
     "metadata": {},
     "output_type": "execute_result"
    }
   ],
   "source": [
    "_wrap_vec(uvec,u) == u"
   ]
  },
  {
   "cell_type": "code",
   "execution_count": 53,
   "metadata": {},
   "outputs": [],
   "source": [
    "Linv = linear_inverse_map(L,w);"
   ]
  },
  {
   "cell_type": "code",
   "execution_count": 56,
   "metadata": {},
   "outputs": [
    {
     "name": "stdout",
     "output_type": "stream",
     "text": [
      "  0.001007 seconds (9 allocations: 132.391 KiB)\n"
     ]
    }
   ],
   "source": [
    "@time yvec = Linv*wvec;"
   ]
  },
  {
   "cell_type": "code",
   "execution_count": 55,
   "metadata": {},
   "outputs": [
    {
     "name": "stdout",
     "output_type": "stream",
     "text": [
      "  0.001261 seconds (70 allocations: 139.250 KiB)\n"
     ]
    }
   ],
   "source": [
    "@time y = L\\w;"
   ]
  },
  {
   "cell_type": "code",
   "execution_count": 57,
   "metadata": {},
   "outputs": [
    {
     "data": {
      "text/plain": [
       "true"
      ]
     },
     "execution_count": 57,
     "metadata": {},
     "output_type": "execute_result"
    }
   ],
   "source": [
    "_wrap_vec(yvec,y) == y"
   ]
  },
  {
   "cell_type": "code",
   "execution_count": 89,
   "metadata": {},
   "outputs": [],
   "source": [
    "n = 128;\n",
    "θ = range(0,stop=2π,length=n+1);\n",
    "R = 0.5;\n",
    "xb = 1.0 .+ R*cos.(θ[1:n])\n",
    "yb = 1.0 .+ R*sin.(θ[1:n])\n",
    "ds = (2π/n)*R;\n",
    "X = VectorData(xb,yb);\n",
    "f = ScalarData(X);"
   ]
  },
  {
   "cell_type": "code",
   "execution_count": 59,
   "metadata": {},
   "outputs": [],
   "source": [
    "fvec = vec(f);"
   ]
  },
  {
   "cell_type": "code",
   "execution_count": 23,
   "metadata": {},
   "outputs": [],
   "source": [
    "E = Regularize(X,dx;issymmetric=true)\n",
    "Hmat,Emat = RegularizationMatrix(E,f,w);"
   ]
  },
  {
   "cell_type": "code",
   "execution_count": 61,
   "metadata": {},
   "outputs": [],
   "source": [
    "f[10] = 1.0;"
   ]
  },
  {
   "cell_type": "code",
   "execution_count": 62,
   "metadata": {},
   "outputs": [],
   "source": [
    "Hop = linear_map(Hmat,f,w);"
   ]
  },
  {
   "cell_type": "code",
   "execution_count": 63,
   "metadata": {},
   "outputs": [
    {
     "name": "stdout",
     "output_type": "stream",
     "text": [
      "  0.200185 seconds (1.12 M allocations: 53.199 MiB, 10.72% gc time)\n"
     ]
    }
   ],
   "source": [
    "@time y = Hmat*f;"
   ]
  },
  {
   "cell_type": "code",
   "execution_count": 64,
   "metadata": {},
   "outputs": [
    {
     "name": "stdout",
     "output_type": "stream",
     "text": [
      "  0.016583 seconds (31.83 k allocations: 1.899 MiB)\n"
     ]
    }
   ],
   "source": [
    "@time yvec = Hop*fvec;"
   ]
  },
  {
   "cell_type": "code",
   "execution_count": 65,
   "metadata": {},
   "outputs": [
    {
     "data": {
      "text/plain": [
       "true"
      ]
     },
     "execution_count": 65,
     "metadata": {},
     "output_type": "execute_result"
    }
   ],
   "source": [
    "_wrap_vec(yvec,y) == y"
   ]
  },
  {
   "cell_type": "code",
   "execution_count": 66,
   "metadata": {},
   "outputs": [],
   "source": [
    "Eop = linear_map(Emat,w,f);"
   ]
  },
  {
   "cell_type": "code",
   "execution_count": 67,
   "metadata": {},
   "outputs": [
    {
     "name": "stdout",
     "output_type": "stream",
     "text": [
      "  0.021927 seconds (54.80 k allocations: 2.857 MiB)\n"
     ]
    }
   ],
   "source": [
    "@time g = Emat*w;"
   ]
  },
  {
   "cell_type": "code",
   "execution_count": 68,
   "metadata": {},
   "outputs": [
    {
     "name": "stdout",
     "output_type": "stream",
     "text": [
      "  0.006511 seconds (9.90 k allocations: 553.807 KiB)\n"
     ]
    }
   ],
   "source": [
    "@time gvec = Eop*vec(w);"
   ]
  },
  {
   "cell_type": "code",
   "execution_count": 69,
   "metadata": {},
   "outputs": [
    {
     "data": {
      "text/plain": [
       "true"
      ]
     },
     "execution_count": 69,
     "metadata": {},
     "output_type": "execute_result"
    }
   ],
   "source": [
    "_wrap_vec(gvec,g) == g"
   ]
  },
  {
   "cell_type": "code",
   "execution_count": 81,
   "metadata": {},
   "outputs": [
    {
     "name": "stdout",
     "output_type": "stream",
     "text": [
      "  0.240449 seconds (4.19 k allocations: 67.353 MiB, 23.47% gc time)\n"
     ]
    }
   ],
   "source": [
    "@time A = SaddleSystem(L,Emat,Hmat,w,f);"
   ]
  },
  {
   "cell_type": "code",
   "execution_count": 82,
   "metadata": {},
   "outputs": [
    {
     "name": "stdout",
     "output_type": "stream",
     "text": [
      "  0.001330 seconds (34 allocations: 533.844 KiB)\n"
     ]
    }
   ],
   "source": [
    "@time A.S*vec(f);"
   ]
  },
  {
   "cell_type": "code",
   "execution_count": 83,
   "metadata": {},
   "outputs": [
    {
     "name": "stdout",
     "output_type": "stream",
     "text": [
      "  0.000046 seconds (5 allocations: 1.297 KiB)\n"
     ]
    }
   ],
   "source": [
    "@time A.S⁻¹*vec(f);"
   ]
  },
  {
   "cell_type": "code",
   "execution_count": 84,
   "metadata": {},
   "outputs": [],
   "source": [
    "sol = (vec(zero(w)),vec(zero(f)));"
   ]
  },
  {
   "cell_type": "code",
   "execution_count": 85,
   "metadata": {},
   "outputs": [],
   "source": [
    "rhs = (vec(w),vec(f));"
   ]
  },
  {
   "cell_type": "code",
   "execution_count": 86,
   "metadata": {},
   "outputs": [
    {
     "name": "stdout",
     "output_type": "stream",
     "text": [
      "  0.001909 seconds (39 allocations: 663.719 KiB)\n"
     ]
    }
   ],
   "source": [
    "@time ldiv!(sol,A,rhs);"
   ]
  },
  {
   "cell_type": "code",
   "execution_count": 90,
   "metadata": {},
   "outputs": [],
   "source": [
    "ψb = ScalarData(X);\n",
    "w = Nodes(Dual,(nx,ny));\n",
    "ψb .= -(xb .- 1);\n",
    "f .= ones(Float64,n)*ds;\n",
    "ψ = Nodes(Dual,w);"
   ]
  },
  {
   "cell_type": "code",
   "execution_count": 88,
   "metadata": {},
   "outputs": [
    {
     "name": "stdout",
     "output_type": "stream",
     "text": [
      "  0.002734 seconds (44 allocations: 663.906 KiB)\n"
     ]
    }
   ],
   "source": [
    "sol2 = (zero(w),zero(f));\n",
    "@time ldiv!(sol2,A,(w,ψb));"
   ]
  },
  {
   "cell_type": "code",
   "execution_count": 96,
   "metadata": {},
   "outputs": [
    {
     "name": "stdout",
     "output_type": "stream",
     "text": [
      "  0.002229 seconds (53 allocations: 797.344 KiB)\n"
     ]
    }
   ],
   "source": [
    "@time ψ,f = A\\(w,ψb);"
   ]
  },
  {
   "cell_type": "code",
   "execution_count": 62,
   "metadata": {},
   "outputs": [
    {
     "data": {
      "text/plain": [
       "true"
      ]
     },
     "execution_count": 62,
     "metadata": {},
     "output_type": "execute_result"
    }
   ],
   "source": [
    "sol2[1]==ψ"
   ]
  },
  {
   "cell_type": "code",
   "execution_count": 29,
   "metadata": {},
   "outputs": [
    {
     "data": {
      "image/png": "[encoded data removed]"
     },
     "execution_count": 29,
     "metadata": {},
     "output_type": "execute_result"
    }
   ],
   "source": [
    "xg,yg = coordinates(ψ,dx=dx)\n",
    "plot(xg,yg,ψ)\n",
    "plot!(xb,yb,xlim=(-Inf,Inf),ylim=(-Inf,Inf),fillcolor=:black,fillrange=0,fillalpha=0.25,linecolor=:black)"
   ]
  },
  {
   "cell_type": "code",
   "execution_count": 92,
   "metadata": {},
   "outputs": [
    {
     "name": "stdout",
     "output_type": "stream",
     "text": [
      "  0.000582 seconds (35 allocations: 533.797 KiB)\n"
     ]
    }
   ],
   "source": [
    "rhs2 = (similar(w),similar(f));\n",
    "@time rhs2 = A*sol2;"
   ]
  },
  {
   "cell_type": "code",
   "execution_count": 93,
   "metadata": {},
   "outputs": [
    {
     "data": {
      "text/plain": [
       "3.901939054546046e-15"
      ]
     },
     "execution_count": 93,
     "metadata": {},
     "output_type": "execute_result"
    }
   ],
   "source": [
    "norm(rhs2[2]-ψb)"
   ]
  },
  {
   "cell_type": "code",
   "execution_count": 99,
   "metadata": {},
   "outputs": [
    {
     "data": {
      "image/png": "[encoded data removed]"
     },
     "execution_count": 99,
     "metadata": {},
     "output_type": "execute_result"
    }
   ],
   "source": [
    "plot(θ[1:n],f)\n",
    "plot!(θ[1:n],-2*cos.(θ[1:n])*ds)"
   ]
  },
  {
   "cell_type": "code",
   "execution_count": 101,
   "metadata": {},
   "outputs": [
    {
     "data": {
      "text/plain": [
       "0.41462740654806"
      ]
     },
     "execution_count": 101,
     "metadata": {},
     "output_type": "execute_result"
    }
   ],
   "source": [
    "norm(f/ds+2*cos.(θ[1:n]))"
   ]
  },
  {
   "cell_type": "code",
   "execution_count": 102,
   "metadata": {},
   "outputs": [
    {
     "name": "stdout",
     "output_type": "stream",
     "text": [
      "\u001b[32m\u001b[1m   Testing\u001b[22m\u001b[39m ViscousFlow\n",
      "\u001b[32m\u001b[1m Resolving\u001b[22m\u001b[39m package versions...\n",
      "Test Summary:        | Pass  Total\n",
      "Saddle-Point Systems |   16     16\n",
      "\u001b[32m\u001b[1m   Testing\u001b[22m\u001b[39m ViscousFlow tests passed \n"
     ]
    }
   ],
   "source": [
    "pkg\"test ViscousFlow\""
   ]
  },
  {
   "cell_type": "markdown",
   "metadata": {},
   "source": [
    "### Saddle system of a saddle system"
   ]
  },
  {
   "cell_type": "code",
   "execution_count": 64,
   "metadata": {},
   "outputs": [],
   "source": [
    "A1 = Float64[1 2; 2 1]\n",
    "B21 = Float64[2 3];\n",
    "B11 = B21';\n",
    "C1 = Matrix{Float64}(undef,1,1)\n",
    "C1.= 5\n",
    "\n",
    "B22 = Float64[-1 -1 3];\n",
    "B12 = Float64[-1 -1 -2]';\n",
    "C2 = Matrix{Float64}(undef,1,1)\n",
    "C2.= -4;"
   ]
  },
  {
   "cell_type": "code",
   "execution_count": 65,
   "metadata": {},
   "outputs": [],
   "source": [
    "rhs11 = [1.0,2.0];\n",
    "rhs12 = Vector{Float64}(undef,1)\n",
    "rhs12 .= 3.0;\n",
    "#rhs1 = (rhs11,rhs12)\n",
    "rhs1 = [rhs11;rhs12];\n",
    "\n",
    "rhs2 = Vector{Float64}(undef,1)\n",
    "rhs2 .= 4.0;\n",
    "\n",
    "#sol = ((zero(rhs11),zero(rhs12)),zero(rhs2))\n",
    "rhs = (rhs1,rhs2);\n",
    "sol = (zero(rhs1),zero(rhs2));"
   ]
  },
  {
   "cell_type": "code",
   "execution_count": 66,
   "metadata": {},
   "outputs": [],
   "source": [
    "A = SaddleSystem(A1,B21,B11,C1);"
   ]
  },
  {
   "cell_type": "code",
   "execution_count": 67,
   "metadata": {},
   "outputs": [],
   "source": [
    "Abig = SaddleSystem(A,B22,B12,C2,rhs1,rhs2);"
   ]
  },
  {
   "cell_type": "code",
   "execution_count": 68,
   "metadata": {},
   "outputs": [
    {
     "data": {
      "text/plain": [
       "([-4.440892098500626e-16, -0.3571428571428571, 0.6428571428571432], [-0.4285714285714282])"
      ]
     },
     "execution_count": 68,
     "metadata": {},
     "output_type": "execute_result"
    }
   ],
   "source": [
    "sol = Abig\\rhs"
   ]
  },
  {
   "cell_type": "code",
   "execution_count": 70,
   "metadata": {},
   "outputs": [
    {
     "data": {
      "text/plain": [
       "([1.0, 1.9999999999999998, 3.0000000000000004], [4.0])"
      ]
     },
     "execution_count": 70,
     "metadata": {},
     "output_type": "execute_result"
    }
   ],
   "source": [
    "out = Abig*sol"
   ]
  },
  {
   "cell_type": "code",
   "execution_count": 75,
   "metadata": {},
   "outputs": [
    {
     "data": {
      "text/plain": [
       "4.965068306494546e-16"
      ]
     },
     "execution_count": 75,
     "metadata": {},
     "output_type": "execute_result"
    }
   ],
   "source": [
    "norm(out[1]-rhs1)"
   ]
  },
  {
   "cell_type": "markdown",
   "metadata": {},
   "source": [
    "#### Pass in as tuples of tuples"
   ]
  },
  {
   "cell_type": "code",
   "execution_count": 152,
   "metadata": {},
   "outputs": [
    {
     "data": {
      "text/plain": [
       "(([0.0, 0.0], [0.0]), [0.0])"
      ]
     },
     "execution_count": 152,
     "metadata": {},
     "output_type": "execute_result"
    }
   ],
   "source": [
    "rhs11 = [1.0,2.0];\n",
    "rhs12 = Vector{Float64}(undef,1)\n",
    "rhs12 .= 3.0\n",
    "rhs1 = (rhs11,rhs12)\n",
    "\n",
    "rhs2 = Vector{Float64}(undef,1)\n",
    "rhs2 .= 4.0;\n",
    "\n",
    "rhs = (rhs1,rhs2)\n",
    "\n",
    "sol = ((zero(rhs11),zero(rhs12)),zero(rhs2))"
   ]
  },
  {
   "cell_type": "code",
   "execution_count": 154,
   "metadata": {},
   "outputs": [],
   "source": [
    "A = SaddleSystem(A1,B21,B11,C1);"
   ]
  },
  {
   "cell_type": "code",
   "execution_count": 162,
   "metadata": {},
   "outputs": [
    {
     "ename": "ErrorException",
     "evalue": "syntax: \"...\" expression outside call",
     "output_type": "error",
     "traceback": [
      "syntax: \"...\" expression outside call",
      "",
      "Stacktrace:",
      " [1] top-level scope at /Users/jeff/.julia/packages/IJulia/F1GUo/src/kernel.jl:52"
     ]
    }
   ],
   "source": [
    "x -> x..."
   ]
  },
  {
   "cell_type": "code",
   "execution_count": 155,
   "metadata": {},
   "outputs": [
    {
     "name": "stdout",
     "output_type": "stream",
     "text": [
      "here 1\n"
     ]
    },
    {
     "ename": "UndefVarError",
     "evalue": "UndefVarError: fcn not defined",
     "output_type": "error",
     "traceback": [
      "UndefVarError: fcn not defined",
      "",
      "Stacktrace:",
      " [1] _create_fcn at ./In[26]:7 [inlined]",
      " [2] _linear_map(::Array{Float64,2}, ::Tuple{Array{Float64,1},Array{Float64,1}}, ::Array{Float64,1}, ::Type) at ./In[25]:1",
      " [3] #linear_map#67 at ./In[147]:4 [inlined]",
      " [4] (::getfield(Main, Symbol(\"#kw##linear_map\")))(::NamedTuple{(:eltype,),Tuple{DataType}}, ::typeof(linear_map), ::Array{Float64,2}, ::Tuple{Array{Float64,1},Array{Float64,1}}, ::Array{Float64,1}) at ./none:0",
      " [5] #SaddleSystem#7(::Type, ::Type{SaddleSystem}, ::SaddleSystem{Float64,2,1}, ::Array{Float64,2}, ::Adjoint{Float64,Array{Float64,2}}, ::Array{Float64,2}, ::Tuple{Array{Float64,1},Array{Float64,1}}, ::Array{Float64,1}) at ./In[10]:7",
      " [6] SaddleSystem(::SaddleSystem{Float64,2,1}, ::Array{Float64,2}, ::Adjoint{Float64,Array{Float64,2}}, ::Array{Float64,2}, ::Tuple{Array{Float64,1},Array{Float64,1}}, ::Array{Float64,1}) at ./In[10]:7",
      " [7] top-level scope at In[155]:1"
     ]
    }
   ],
   "source": [
    "Abig = SaddleSystem(A,B22,B12,C2,rhs1,rhs2);"
   ]
  },
  {
   "cell_type": "code",
   "execution_count": 351,
   "metadata": {},
   "outputs": [
    {
     "ename": "UndefVarError",
     "evalue": "UndefVarError: fcn not defined",
     "output_type": "error",
     "traceback": [
      "UndefVarError: fcn not defined",
      "",
      "Stacktrace:",
      " [1] _create_fcn at ./In[15]:7 [inlined]",
      " [2] _linear_map(::Array{Float64,2}, ::Tuple{Array{Float64,1},Array{Float64,1}}, ::Type) at ./In[14]:2",
      " [3] #linear_map#8 at ./In[13]:5 [inlined]",
      " [4] linear_map(::Array{Float64,2}, ::Tuple{Array{Float64,1},Array{Float64,1}}) at ./In[13]:5",
      " [5] top-level scope at In[351]:1"
     ]
    }
   ],
   "source": [
    "linear_map(B22,rhs1)"
   ]
  },
  {
   "cell_type": "code",
   "execution_count": 353,
   "metadata": {},
   "outputs": [
    {
     "data": {
      "text/plain": [
       "([1.0, 2.0], [3.0])"
      ]
     },
     "execution_count": 353,
     "metadata": {},
     "output_type": "execute_result"
    }
   ],
   "source": [
    "rhs1"
   ]
  },
  {
   "cell_type": "code",
   "execution_count": 352,
   "metadata": {},
   "outputs": [
    {
     "data": {
      "text/plain": [
       "1×3 Array{Float64,2}:\n",
       " -1.0  -1.0  3.0"
      ]
     },
     "execution_count": 352,
     "metadata": {},
     "output_type": "execute_result"
    }
   ],
   "source": [
    "B22"
   ]
  },
  {
   "cell_type": "code",
   "execution_count": null,
   "metadata": {},
   "outputs": [],
   "source": [
    "function tuple_to_vec(x::Tuple)\n",
    "    \n",
    "end"
   ]
  },
  {
   "cell_type": "code",
   "execution_count": 355,
   "metadata": {},
   "outputs": [],
   "source": [
    "x1 = rand(456)\n",
    "x2 = rand(543);"
   ]
  },
  {
   "cell_type": "code",
   "execution_count": 356,
   "metadata": {},
   "outputs": [
    {
     "data": {
      "text/plain": [
       "([0.3324135377751545, 0.0637830903880976, 0.05207827662649711, 0.573186766492237, 0.6207517242301448, 0.829538538541734, 0.12178943745390591, 0.478844506511219, 0.43420681511429926, 0.6246309619469748  …  0.12201756154466548, 0.02434998340844996, 0.72667105238494, 0.37302590413474057, 0.9217709542366839, 0.0576457364983225, 0.7077715517705792, 0.5095775140989565, 0.3320877283196395, 0.6922338496082026], [0.8771719858775233, 0.9455817052896689, 0.6811010426407191, 0.44986327330244946, 0.939307956190653, 0.6228116800334988, 0.46701257314879663, 0.3999420626211425, 0.09340186885333912, 0.970951324374415  …  0.768356111373294, 0.6832200904635619, 0.22144365516021147, 0.5973853868795662, 0.07702711794771022, 0.0027832589064189506, 0.07318032463872837, 0.43230150587862615, 0.432005266233209, 0.203806128343333])"
      ]
     },
     "execution_count": 356,
     "metadata": {},
     "output_type": "execute_result"
    }
   ],
   "source": [
    "(x1,x2)"
   ]
  },
  {
   "cell_type": "code",
   "execution_count": 368,
   "metadata": {},
   "outputs": [
    {
     "name": "stdout",
     "output_type": "stream",
     "text": [
      "  0.000023 seconds (16 allocations: 16.656 KiB)\n"
     ]
    }
   ],
   "source": [
    "@time y = collect(Iterators.flatten([x1,x2]));"
   ]
  },
  {
   "cell_type": "code",
   "execution_count": 379,
   "metadata": {},
   "outputs": [
    {
     "name": "stdout",
     "output_type": "stream",
     "text": [
      "  0.000042 seconds (479 allocations: 11.719 KiB)\n"
     ]
    }
   ],
   "source": [
    "@time y = reduce(vcat,(x1,(x1,x2)));"
   ]
  },
  {
   "cell_type": "code",
   "execution_count": 380,
   "metadata": {},
   "outputs": [
    {
     "data": {
      "text/plain": [
       "457-element Array{Any,1}:\n",
       " 0.3324135377751545                                                                                                                                                                                                                                                                                                                                                                                                                                                                                                                                                                                                                                                                                                                                                                                                                               \n",
       " 0.0637830903880976                                                                                                                                                                                                                                                                                                                                                                                                                                                                                                                                                                                                                                                                                                                                                                                                                               \n",
       " 0.05207827662649711                                                                                                                                                                                                                                                                                                                                                                                                                                                                                                                                                                                                                                                                                                                                                                                                                              \n",
       " 0.573186766492237                                                                                                                                                                                                                                                                                                                                                                                                                                                                                                                                                                                                                                                                                                                                                                                                                                \n",
       " 0.6207517242301448                                                                                                                                                                                                                                                                                                                                                                                                                                                                                                                                                                                                                                                                                                                                                                                                                               \n",
       " 0.829538538541734                                                                                                                                                                                                                                                                                                                                                                                                                                                                                                                                                                                                                                                                                                                                                                                                                                \n",
       " 0.12178943745390591                                                                                                                                                                                                                                                                                                                                                                                                                                                                                                                                                                                                                                                                                                                                                                                                                              \n",
       " 0.478844506511219                                                                                                                                                                                                                                                                                                                                                                                                                                                                                                                                                                                                                                                                                                                                                                                                                                \n",
       " 0.43420681511429926                                                                                                                                                                                                                                                                                                                                                                                                                                                                                                                                                                                                                                                                                                                                                                                                                              \n",
       " 0.6246309619469748                                                                                                                                                                                                                                                                                                                                                                                                                                                                                                                                                                                                                                                                                                                                                                                                                               \n",
       " 0.7000723917901479                                                                                                                                                                                                                                                                                                                                                                                                                                                                                                                                                                                                                                                                                                                                                                                                                               \n",
       " 0.4726038671483155                                                                                                                                                                                                                                                                                                                                                                                                                                                                                                                                                                                                                                                                                                                                                                                                                               \n",
       " 0.004840882385947376                                                                                                                                                                                                                                                                                                                                                                                                                                                                                                                                                                                                                                                                                                                                                                                                                             \n",
       " ⋮                                                                                                                                                                                                                                                                                                                                                                                                                                                                                                                                                                                                                                                                                                                                                                                                                                                \n",
       " 0.7235698072777557                                                                                                                                                                                                                                                                                                                                                                                                                                                                                                                                                                                                                                                                                                                                                                                                                               \n",
       " 0.12201756154466548                                                                                                                                                                                                                                                                                                                                                                                                                                                                                                                                                                                                                                                                                                                                                                                                                              \n",
       " 0.02434998340844996                                                                                                                                                                                                                                                                                                                                                                                                                                                                                                                                                                                                                                                                                                                                                                                                                              \n",
       " 0.72667105238494                                                                                                                                                                                                                                                                                                                                                                                                                                                                                                                                                                                                                                                                                                                                                                                                                                 \n",
       " 0.37302590413474057                                                                                                                                                                                                                                                                                                                                                                                                                                                                                                                                                                                                                                                                                                                                                                                                                              \n",
       " 0.9217709542366839                                                                                                                                                                                                                                                                                                                                                                                                                                                                                                                                                                                                                                                                                                                                                                                                                               \n",
       " 0.0576457364983225                                                                                                                                                                                                                                                                                                                                                                                                                                                                                                                                                                                                                                                                                                                                                                                                                               \n",
       " 0.7077715517705792                                                                                                                                                                                                                                                                                                                                                                                                                                                                                                                                                                                                                                                                                                                                                                                                                               \n",
       " 0.5095775140989565                                                                                                                                                                                                                                                                                                                                                                                                                                                                                                                                                                                                                                                                                                                                                                                                                               \n",
       " 0.3320877283196395                                                                                                                                                                                                                                                                                                                                                                                                                                                                                                                                                                                                                                                                                                                                                                                                                               \n",
       " 0.6922338496082026                                                                                                                                                                                                                                                                                                                                                                                                                                                                                                                                                                                                                                                                                                                                                                                                                               \n",
       "  ([0.3324135377751545, 0.0637830903880976, 0.05207827662649711, 0.573186766492237, 0.6207517242301448, 0.829538538541734, 0.12178943745390591, 0.478844506511219, 0.43420681511429926, 0.6246309619469748  …  0.12201756154466548, 0.02434998340844996, 0.72667105238494, 0.37302590413474057, 0.9217709542366839, 0.0576457364983225, 0.7077715517705792, 0.5095775140989565, 0.3320877283196395, 0.6922338496082026], [0.8771719858775233, 0.9455817052896689, 0.6811010426407191, 0.44986327330244946, 0.939307956190653, 0.6228116800334988, 0.46701257314879663, 0.3999420626211425, 0.09340186885333912, 0.970951324374415  …  0.768356111373294, 0.6832200904635619, 0.22144365516021147, 0.5973853868795662, 0.07702711794771022, 0.0027832589064189506, 0.07318032463872837, 0.43230150587862615, 0.432005266233209, 0.203806128343333])"
      ]
     },
     "execution_count": 380,
     "metadata": {},
     "output_type": "execute_result"
    }
   ],
   "source": []
  },
  {
   "cell_type": "code",
   "execution_count": null,
   "metadata": {},
   "outputs": [],
   "source": []
  }
 ],
 "metadata": {
  "kernelspec": {
   "display_name": "Julia 1.2.0",
   "language": "julia",
   "name": "julia-1.2"
  },
  "language_info": {
   "file_extension": ".jl",
   "mimetype": "application/julia",
   "name": "julia",
   "version": "1.2.0"
  }
 },
 "nbformat": 4,
 "nbformat_minor": 2
}
