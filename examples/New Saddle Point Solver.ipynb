{
 "cells": [
  {
   "cell_type": "code",
   "execution_count": 1,
   "metadata": {},
   "outputs": [],
   "source": [
    "using Revise"
   ]
  },
  {
   "cell_type": "code",
   "execution_count": 2,
   "metadata": {},
   "outputs": [],
   "source": [
    "using ViscousFlow"
   ]
  },
  {
   "cell_type": "code",
   "execution_count": 3,
   "metadata": {},
   "outputs": [],
   "source": [
    "using LinearAlgebra"
   ]
  },
  {
   "cell_type": "code",
   "execution_count": 82,
   "metadata": {},
   "outputs": [
    {
     "name": "stderr",
     "output_type": "stream",
     "text": [
      "┌ Info: Recompiling stale cache file /Users/jeff/.julia/compiled/v1.2/Plots/ld3vC.ji for Plots [91a5bcdd-55d7-5caf-9e0b-520d859cae80]\n",
      "└ @ Base loading.jl:1240\n",
      "┌ Info: Recompiling stale cache file /Users/jeff/.julia/compiled/v1.2/PyPlot/oatAj.ji for PyPlot [d330b81b-6aea-500a-939a-2ce795aea3ee]\n",
      "└ @ Base loading.jl:1240\n",
      "┌ Warning: /Users/jeff/.julia/packages/Plots/RsO3g/src/Plots.jl/ is not an existing directory, Revise is not watching\n",
      "└ @ Revise /Users/jeff/.julia/packages/Revise/C272c/src/Revise.jl:491\n"
     ]
    }
   ],
   "source": [
    "using Plots\n",
    "pyplot()\n",
    "clibrary(:colorbrewer)\n",
    "default(grid = false)"
   ]
  },
  {
   "cell_type": "code",
   "execution_count": 63,
   "metadata": {},
   "outputs": [
    {
     "name": "stdout",
     "output_type": "stream",
     "text": [
      "\u001b[32m\u001b[1m  Updating\u001b[22m\u001b[39m registry at `~/.julia/registries/General`\n",
      "\u001b[32m\u001b[1m  Updating\u001b[22m\u001b[39m git-repo `https://github.com/JuliaRegistries/General.git`\n",
      "\u001b[?25l\u001b[2K\u001b[?25h\u001b[32m\u001b[1m   Testing\u001b[22m\u001b[39m ViscousFlow\n",
      "\u001b[32m\u001b[1m Resolving\u001b[22m\u001b[39m package versions...\n",
      "Test Summary:        | Pass  Total\n",
      "Saddle-Point Systems |   26     26\n",
      "\u001b[32m\u001b[1m   Testing\u001b[22m\u001b[39m ViscousFlow tests passed \n"
     ]
    }
   ],
   "source": [
    "using Pkg\n",
    "pkg\"test ViscousFlow\""
   ]
  },
  {
   "cell_type": "code",
   "execution_count": 43,
   "metadata": {},
   "outputs": [
    {
     "name": "stdout",
     "output_type": "stream",
     "text": [
      "search: \u001b[0m\u001b[1mS\u001b[22m\u001b[0m\u001b[1ma\u001b[22m\u001b[0m\u001b[1md\u001b[22m\u001b[0m\u001b[1md\u001b[22m\u001b[0m\u001b[1ml\u001b[22m\u001b[0m\u001b[1me\u001b[22m\u001b[0m\u001b[1mS\u001b[22m\u001b[0m\u001b[1my\u001b[22m\u001b[0m\u001b[1ms\u001b[22m\u001b[0m\u001b[1mt\u001b[22m\u001b[0m\u001b[1me\u001b[22m\u001b[0m\u001b[1mm\u001b[22m \u001b[0m\u001b[1mS\u001b[22m\u001b[0m\u001b[1ma\u001b[22m\u001b[0m\u001b[1md\u001b[22m\u001b[0m\u001b[1md\u001b[22m\u001b[0m\u001b[1ml\u001b[22m\u001b[0m\u001b[1me\u001b[22mPoint\u001b[0m\u001b[1mS\u001b[22m\u001b[0m\u001b[1my\u001b[22m\u001b[0m\u001b[1ms\u001b[22m\u001b[0m\u001b[1mt\u001b[22m\u001b[0m\u001b[1me\u001b[22m\u001b[0m\u001b[1mm\u001b[22ms\n",
      "\n"
     ]
    },
    {
     "data": {
      "text/latex": [
       "\\begin{verbatim}\n",
       "SaddleSystem\n",
       "\\end{verbatim}\n",
       "Construct a saddle-point system operator from the constituent operator blocks. The resulting object can be used with \\texttt{*} and `` to multiply and solve. The saddle-point problem has the form\n",
       "\n",
       "$\\begin{bmatrix}A & B_1^T \\\\ B_2 & C \\end{bmatrix} \\begin{pmatrix} u \\\\ f \\end{pmatrix} = \\begin{pmatrix} r_1 \\\\ r_2 \\end{pmatrix}$\n",
       "\n",
       "\\subsubsection{Constructors}\n",
       "\\texttt{SaddleSystem(A::AbstractMatrix,B₂::AbstractMatrix,B₁ᵀ::AbstractMatrix,C::AbstractMatrix[,eltype=Float64])}. Blocks are given as matrices. Must have consistent sizes to stack appropriately. If this is called with \\texttt{SaddleSystem(A,B₂,B₁ᵀ)}, it sets \\texttt{C} to zero automatically.\n",
       "\n",
       "\\texttt{SaddleSystem(A,B₂,B₁ᵀ,C,u,f[,eltype=Float64])}. Operators \\texttt{A}, \\texttt{B₂}, \\texttt{B₁ᵀ}, \\texttt{C} are given in various forms, including matrices, functions, and function-like objects. \\texttt{u} and \\texttt{f} are examples of the data types in the corresponding solution and right-hand side vectors. Guidelines:\n",
       "\n",
       "\\begin{itemize}\n",
       "\\item The entries \\texttt{A} and \\texttt{B₂} must be able to act upon \\texttt{u} (either by multiplication or as a function) and \\texttt{B₁ᵀ} and \\texttt{C} must be able to act on \\texttt{f} (also, either by multiplication or as a function).\n",
       "\n",
       "\n",
       "\\item \\texttt{A} and \\texttt{B₁ᵀ} should return data of type \\texttt{u}, and \\texttt{B₂} and \\texttt{C} should return data of type \\texttt{f}.\n",
       "\n",
       "\n",
       "\\item \\texttt{A} must be invertible and be outfitted with operators `\\texttt{and}ldiv!`.\n",
       "\n",
       "\n",
       "\\item Both \\texttt{u} and \\texttt{f} must be mappable to/from \\texttt{AbstractVector} type. This essentially means that they should be subtypes of \\texttt{AbstractArray}.\n",
       "\n",
       "\\end{itemize}\n",
       "If called as \\texttt{SaddleSystem(A,B₂,B₁ᵀ,u,f)}, the \\texttt{C} block is omitted and assumed to be zero.\n",
       "\n",
       "If called with \\texttt{SaddleSystem(A,u)}, this is equivalent to calling \\texttt{SaddleSystem(A,nothing,nothing,u,[])}, then this reverts to the unconstrained system described by operator \\texttt{A}.\n",
       "\n"
      ],
      "text/markdown": [
       "```\n",
       "SaddleSystem\n",
       "```\n",
       "\n",
       "Construct a saddle-point system operator from the constituent operator blocks. The resulting object can be used with `*` and `` to multiply and solve. The saddle-point problem has the form\n",
       "\n",
       "$\\begin{bmatrix}A & B_1^T \\\\ B_2 & C \\end{bmatrix} \\begin{pmatrix} u \\\\ f \\end{pmatrix} = \\begin{pmatrix} r_1 \\\\ r_2 \\end{pmatrix}$\n",
       "\n",
       "### Constructors\n",
       "\n",
       "`SaddleSystem(A::AbstractMatrix,B₂::AbstractMatrix,B₁ᵀ::AbstractMatrix,C::AbstractMatrix[,eltype=Float64])`. Blocks are given as matrices. Must have consistent sizes to stack appropriately. If this is called with `SaddleSystem(A,B₂,B₁ᵀ)`, it sets `C` to zero automatically.\n",
       "\n",
       "`SaddleSystem(A,B₂,B₁ᵀ,C,u,f[,eltype=Float64])`. Operators `A`, `B₂`, `B₁ᵀ`, `C` are given in various forms, including matrices, functions, and function-like objects. `u` and `f` are examples of the data types in the corresponding solution and right-hand side vectors. Guidelines:\n",
       "\n",
       "  * The entries `A` and `B₂` must be able to act upon `u` (either by multiplication or as a function) and `B₁ᵀ` and `C` must be able to act on `f` (also, either by multiplication or as a function).\n",
       "  * `A` and `B₁ᵀ` should return data of type `u`, and `B₂` and `C` should return data of type `f`.\n",
       "  * `A` must be invertible and be outfitted with operators ``and`ldiv!`.\n",
       "  * Both `u` and `f` must be mappable to/from `AbstractVector` type. This essentially means that they should be subtypes of `AbstractArray`.\n",
       "\n",
       "If called as `SaddleSystem(A,B₂,B₁ᵀ,u,f)`, the `C` block is omitted and assumed to be zero.\n",
       "\n",
       "If called with `SaddleSystem(A,u)`, this is equivalent to calling `SaddleSystem(A,nothing,nothing,u,[])`, then this reverts to the unconstrained system described by operator `A`.\n"
      ],
      "text/plain": [
       "\u001b[36m  SaddleSystem\u001b[39m\n",
       "\n",
       "  Construct a saddle-point system operator from the constituent operator\n",
       "  blocks. The resulting object can be used with \u001b[36m*\u001b[39m and `` to multiply and\n",
       "  solve. The saddle-point problem has the form\n",
       "\n",
       "  \u001b[35m\\begin{bmatrix}A & B_1^T \\\\ B_2 & C \\end{bmatrix} \\begin{pmatrix} u \\\\ f\n",
       "  \\end{pmatrix} = \\begin{pmatrix} r_1 \\\\ r_2 \\end{pmatrix}\u001b[39m\n",
       "\n",
       "\u001b[1m  Constructors\u001b[22m\n",
       "\u001b[1m  ––––––––––––––\u001b[22m\n",
       "\n",
       "  \u001b[36mSaddleSystem(A::AbstractMatrix,B₂::AbstractMatrix,B₁ᵀ::AbstractMatrix,C::AbstractMatrix[,eltype=Float64])\u001b[39m.\n",
       "  Blocks are given as matrices. Must have consistent sizes to stack\n",
       "  appropriately. If this is called with \u001b[36mSaddleSystem(A,B₂,B₁ᵀ)\u001b[39m, it sets \u001b[36mC\u001b[39m to\n",
       "  zero automatically.\n",
       "\n",
       "  \u001b[36mSaddleSystem(A,B₂,B₁ᵀ,C,u,f[,eltype=Float64])\u001b[39m. Operators \u001b[36mA\u001b[39m, \u001b[36mB₂\u001b[39m, \u001b[36mB₁ᵀ\u001b[39m, \u001b[36mC\u001b[39m are\n",
       "  given in various forms, including matrices, functions, and function-like\n",
       "  objects. \u001b[36mu\u001b[39m and \u001b[36mf\u001b[39m are examples of the data types in the corresponding\n",
       "  solution and right-hand side vectors. Guidelines:\n",
       "\n",
       "    •    The entries \u001b[36mA\u001b[39m and \u001b[36mB₂\u001b[39m must be able to act upon \u001b[36mu\u001b[39m (either by\n",
       "        multiplication or as a function) and \u001b[36mB₁ᵀ\u001b[39m and \u001b[36mC\u001b[39m must be able to act\n",
       "        on \u001b[36mf\u001b[39m (also, either by multiplication or as a function).\n",
       "\n",
       "    •    \u001b[36mA\u001b[39m and \u001b[36mB₁ᵀ\u001b[39m should return data of type \u001b[36mu\u001b[39m, and \u001b[36mB₂\u001b[39m and \u001b[36mC\u001b[39m should return\n",
       "        data of type \u001b[36mf\u001b[39m.\n",
       "\n",
       "    •    \u001b[36mA\u001b[39m must be invertible and be outfitted with operators `\u001b[36mand\u001b[39mldiv!`.\n",
       "\n",
       "    •    Both \u001b[36mu\u001b[39m and \u001b[36mf\u001b[39m must be mappable to/from \u001b[36mAbstractVector\u001b[39m type. This\n",
       "        essentially means that they should be subtypes of \u001b[36mAbstractArray\u001b[39m.\n",
       "\n",
       "  If called as \u001b[36mSaddleSystem(A,B₂,B₁ᵀ,u,f)\u001b[39m, the \u001b[36mC\u001b[39m block is omitted and assumed\n",
       "  to be zero.\n",
       "\n",
       "  If called with \u001b[36mSaddleSystem(A,u)\u001b[39m, this is equivalent to calling\n",
       "  \u001b[36mSaddleSystem(A,nothing,nothing,u,[])\u001b[39m, then this reverts to the unconstrained\n",
       "  system described by operator \u001b[36mA\u001b[39m."
      ]
     },
     "execution_count": 43,
     "metadata": {},
     "output_type": "execute_result"
    }
   ],
   "source": [
    "?SaddleSystem"
   ]
  },
  {
   "cell_type": "markdown",
   "metadata": {},
   "source": [
    "### Test on matrices"
   ]
  },
  {
   "cell_type": "code",
   "execution_count": 19,
   "metadata": {},
   "outputs": [],
   "source": [
    "A1 = Float64[1 2; 2 1]\n",
    "B2 = Float64[2 3;-1 -1]\n",
    "B1 = Float64[2 3;-1 -1]'\n",
    "C = Matrix{Float64}(undef,2,2)\n",
    "C.= [5 -2; 3 -4];"
   ]
  },
  {
   "cell_type": "code",
   "execution_count": 20,
   "metadata": {},
   "outputs": [
    {
     "data": {
      "text/plain": [
       "Saddle system with 2 states and 2 constraints and\n",
       "   State vector of type Array{Float64,1}\n",
       "   Constraint vector of type Array{Float64,1}\n",
       "   Elements of type Float64\n"
      ]
     },
     "execution_count": 20,
     "metadata": {},
     "output_type": "execute_result"
    }
   ],
   "source": [
    "A = SaddleSystem(A1,B2,B1,C)"
   ]
  },
  {
   "cell_type": "code",
   "execution_count": 21,
   "metadata": {},
   "outputs": [],
   "source": [
    "rhs = ([1.0,2.0],[3.0,4.0]);\n",
    "sol = (zeros(2),zeros(2));"
   ]
  },
  {
   "cell_type": "code",
   "execution_count": 25,
   "metadata": {},
   "outputs": [
    {
     "name": "stdout",
     "output_type": "stream",
     "text": [
      "  0.000031 seconds (20 allocations: 912 bytes)\n"
     ]
    },
    {
     "data": {
      "text/plain": [
       "([-4.440892098500626e-16, -0.35714285714285704], [0.6428571428571431, -0.42857142857142827])"
      ]
     },
     "execution_count": 25,
     "metadata": {},
     "output_type": "execute_result"
    }
   ],
   "source": [
    "@time ldiv!(sol,A,rhs)"
   ]
  },
  {
   "cell_type": "code",
   "execution_count": 27,
   "metadata": {},
   "outputs": [
    {
     "name": "stdout",
     "output_type": "stream",
     "text": [
      "  0.000035 seconds (23 allocations: 1.109 KiB)\n"
     ]
    },
    {
     "data": {
      "text/plain": [
       "([-4.440892098500626e-16, -0.35714285714285704], [0.6428571428571431, -0.42857142857142827])"
      ]
     },
     "execution_count": 27,
     "metadata": {},
     "output_type": "execute_result"
    }
   ],
   "source": [
    "@time sol2 = A\\rhs"
   ]
  },
  {
   "cell_type": "markdown",
   "metadata": {},
   "source": [
    "#### Test with vector inputs/outputs"
   ]
  },
  {
   "cell_type": "code",
   "execution_count": 28,
   "metadata": {},
   "outputs": [],
   "source": [
    "rhs1, rhs2 = rhs\n",
    "rhsvec = [rhs1;rhs2]\n",
    "solvec = similar(rhsvec);"
   ]
  },
  {
   "cell_type": "code",
   "execution_count": 29,
   "metadata": {},
   "outputs": [],
   "source": [
    "solvec = A\\rhsvec;"
   ]
  },
  {
   "cell_type": "code",
   "execution_count": 30,
   "metadata": {},
   "outputs": [
    {
     "data": {
      "text/plain": [
       "4-element Array{Float64,1}:\n",
       " 0.9999999999999999\n",
       " 1.9999999999999998\n",
       " 3.0               \n",
       " 4.0               "
      ]
     },
     "execution_count": 30,
     "metadata": {},
     "output_type": "execute_result"
    }
   ],
   "source": [
    "A*solvec"
   ]
  },
  {
   "cell_type": "markdown",
   "metadata": {},
   "source": [
    "### Test on ViscousFlow operators"
   ]
  },
  {
   "cell_type": "code",
   "execution_count": 4,
   "metadata": {},
   "outputs": [],
   "source": [
    "nx = 130; ny = 130;\n",
    "Lx = 2.0;\n",
    "dx = Lx/(nx-2);\n",
    "w = Nodes(Dual,(nx,ny));\n",
    "u = similar(w);"
   ]
  },
  {
   "cell_type": "code",
   "execution_count": 5,
   "metadata": {},
   "outputs": [],
   "source": [
    "wvec = vec(w);"
   ]
  },
  {
   "cell_type": "code",
   "execution_count": 6,
   "metadata": {},
   "outputs": [
    {
     "data": {
      "text/plain": [
       "Discrete Laplacian (and inverse) on a (nx = 130, ny = 130) grid acting on Float64 data with spacing 1.0"
      ]
     },
     "execution_count": 6,
     "metadata": {},
     "output_type": "execute_result"
    }
   ],
   "source": [
    "L = plan_laplacian(size(w),with_inverse=true)"
   ]
  },
  {
   "cell_type": "code",
   "execution_count": 7,
   "metadata": {},
   "outputs": [],
   "source": [
    "w .= rand(size(w)...);"
   ]
  },
  {
   "cell_type": "code",
   "execution_count": 8,
   "metadata": {},
   "outputs": [],
   "source": [
    "n = 128;\n",
    "θ = range(0,stop=2π,length=n+1);\n",
    "R = 0.5;\n",
    "xb = 1.0 .+ R*cos.(θ[1:n])\n",
    "yb = 1.0 .+ R*sin.(θ[1:n])\n",
    "ds = (2π/n)*R;\n",
    "X = VectorData(xb,yb);\n",
    "f = ScalarData(X);"
   ]
  },
  {
   "cell_type": "code",
   "execution_count": 17,
   "metadata": {},
   "outputs": [],
   "source": [
    "E = Regularize(X,dx;issymmetric=true)\n",
    "Hmat,Emat = RegularizationMatrix(E,f,w);"
   ]
  },
  {
   "cell_type": "code",
   "execution_count": 36,
   "metadata": {},
   "outputs": [
    {
     "name": "stdout",
     "output_type": "stream",
     "text": [
      "  3.106903 seconds (3.68 k allocations: 67.339 MiB, 0.39% gc time)\n"
     ]
    },
    {
     "data": {
      "text/plain": [
       "Saddle system with 16900 states and 128 constraints and\n",
       "   State vector of type Nodes{Dual,130,130,Float64}\n",
       "   Constraint vector of type ScalarData{128,Float64}\n",
       "   Elements of type Float64\n"
      ]
     },
     "execution_count": 36,
     "metadata": {},
     "output_type": "execute_result"
    }
   ],
   "source": [
    "@time A = SaddleSystem(L,Emat,Hmat,w,f)"
   ]
  },
  {
   "cell_type": "code",
   "execution_count": 37,
   "metadata": {},
   "outputs": [],
   "source": [
    "ψb = ScalarData(X);\n",
    "w = Nodes(Dual,(nx,ny));\n",
    "ψb .= -(xb .- 1);\n",
    "f .= ones(Float64,n)*ds;\n",
    "ψ = Nodes(Dual,w);"
   ]
  },
  {
   "cell_type": "code",
   "execution_count": 38,
   "metadata": {},
   "outputs": [
    {
     "name": "stdout",
     "output_type": "stream",
     "text": [
      "  0.817966 seconds (2.65 M allocations: 128.645 MiB, 15.33% gc time)\n"
     ]
    }
   ],
   "source": [
    "sol2 = (zero(w),zero(f));\n",
    "@time ldiv!(sol2,A,(w,ψb));"
   ]
  },
  {
   "cell_type": "code",
   "execution_count": 40,
   "metadata": {},
   "outputs": [
    {
     "name": "stdout",
     "output_type": "stream",
     "text": [
      "  0.002233 seconds (53 allocations: 797.344 KiB)\n"
     ]
    }
   ],
   "source": [
    "@time ψ,f = A\\(w,ψb);"
   ]
  },
  {
   "cell_type": "code",
   "execution_count": 41,
   "metadata": {},
   "outputs": [
    {
     "data": {
      "text/plain": [
       "true"
      ]
     },
     "execution_count": 41,
     "metadata": {},
     "output_type": "execute_result"
    }
   ],
   "source": [
    "sol2[1]==ψ"
   ]
  },
  {
   "cell_type": "code",
   "execution_count": 29,
   "metadata": {},
   "outputs": [
    {
     "data": {
      "image/png": "[encoded data removed]"
     },
     "execution_count": 29,
     "metadata": {},
     "output_type": "execute_result"
    }
   ],
   "source": [
    "xg,yg = coordinates(ψ,dx=dx)\n",
    "plot(xg,yg,ψ)\n",
    "plot!(xb,yb,xlim=(-Inf,Inf),ylim=(-Inf,Inf),fillcolor=:black,fillrange=0,fillalpha=0.25,linecolor=:black)"
   ]
  },
  {
   "cell_type": "code",
   "execution_count": 99,
   "metadata": {},
   "outputs": [
    {
     "data": {
      "image/png": "[encoded data removed]"
     },
     "execution_count": 99,
     "metadata": {},
     "output_type": "execute_result"
    }
   ],
   "source": [
    "plot(θ[1:n],f)\n",
    "plot!(θ[1:n],-2*cos.(θ[1:n])*ds)"
   ]
  },
  {
   "cell_type": "code",
   "execution_count": 42,
   "metadata": {},
   "outputs": [
    {
     "data": {
      "text/plain": [
       "0.010176487612409175"
      ]
     },
     "execution_count": 42,
     "metadata": {},
     "output_type": "execute_result"
    }
   ],
   "source": [
    "norm(f+2*cos.(θ[1:n])*ds)"
   ]
  },
  {
   "cell_type": "markdown",
   "metadata": {},
   "source": [
    "### ViscousFlow with integrating factor operator"
   ]
  },
  {
   "cell_type": "code",
   "execution_count": 11,
   "metadata": {},
   "outputs": [],
   "source": [
    "Δt = 1.0\n",
    "H = plan_intfact(Δt,w);"
   ]
  },
  {
   "cell_type": "code",
   "execution_count": 13,
   "metadata": {},
   "outputs": [],
   "source": [
    "struct IFOperator\n",
    "    op :: ViscousFlow.Fields.IntFact\n",
    "end"
   ]
  },
  {
   "cell_type": "code",
   "execution_count": 14,
   "metadata": {},
   "outputs": [],
   "source": [
    "import Base: \\, *"
   ]
  },
  {
   "cell_type": "code",
   "execution_count": 15,
   "metadata": {},
   "outputs": [],
   "source": [
    "\\(A::IFOperator,w::Nodes) = A.op*w;\n",
    "*(A::IFOperator,w::Nodes) = w;"
   ]
  },
  {
   "cell_type": "code",
   "execution_count": 18,
   "metadata": {},
   "outputs": [
    {
     "data": {
      "text/plain": [
       "Saddle system with 16900 states and 128 constraints and\n",
       "   State vector of type Nodes{Dual,130,130,Float64}\n",
       "   Constraint vector of type ScalarData{128,Float64}\n",
       "   Elements of type Float64\n"
      ]
     },
     "execution_count": 18,
     "metadata": {},
     "output_type": "execute_result"
    }
   ],
   "source": [
    "A = SaddleSystem(IFOperator(H),Emat,Hmat,w,f)"
   ]
  },
  {
   "cell_type": "code",
   "execution_count": 85,
   "metadata": {},
   "outputs": [
    {
     "name": "stdout",
     "output_type": "stream",
     "text": [
      "  0.002288 seconds (53 allocations: 797.344 KiB)\n"
     ]
    }
   ],
   "source": [
    "ψb = ScalarData(X);\n",
    "w = Nodes(Dual,(nx,ny));\n",
    "ψb .= -(xb .- 1).*(yb .- 1);\n",
    "f .= ones(Float64,n)*ds;\n",
    "ψ = Nodes(Dual,w);\n",
    "@time ψ,f = A\\(w,ψb);"
   ]
  },
  {
   "cell_type": "code",
   "execution_count": 83,
   "metadata": {},
   "outputs": [
    {
     "data": {
      "image/png": "[encoded data removed]"
     },
     "execution_count": 83,
     "metadata": {},
     "output_type": "execute_result"
    }
   ],
   "source": [
    "xg,yg = coordinates(ψ,dx=dx)\n",
    "plot(xg,yg,ψ)\n",
    "plot!(xb,yb,fillcolor=:black,fillrange=0,fillalpha=0.25,linecolor=:black)"
   ]
  },
  {
   "cell_type": "markdown",
   "metadata": {},
   "source": [
    "### ViscousFlow with vector force data"
   ]
  },
  {
   "cell_type": "code",
   "execution_count": 19,
   "metadata": {},
   "outputs": [],
   "source": [
    "fv = VectorData(X);\n",
    "q = Edges(Primal,w);"
   ]
  },
  {
   "cell_type": "code",
   "execution_count": 20,
   "metadata": {},
   "outputs": [],
   "source": [
    "E = Regularize(X,dx;issymmetric=true)\n",
    "Hvmat,Evmat = RegularizationMatrix(E,fv,q);"
   ]
  },
  {
   "cell_type": "code",
   "execution_count": 21,
   "metadata": {},
   "outputs": [],
   "source": [
    "B₁ᵀ(f) = Curl()*(Hvmat*f);"
   ]
  },
  {
   "cell_type": "code",
   "execution_count": 22,
   "metadata": {},
   "outputs": [
    {
     "data": {
      "text/plain": [
       "B₂ (generic function with 1 method)"
      ]
     },
     "execution_count": 22,
     "metadata": {},
     "output_type": "execute_result"
    }
   ],
   "source": [
    "B₂(w) = -(Evmat*(Curl()*(L\\w)))"
   ]
  },
  {
   "cell_type": "code",
   "execution_count": 64,
   "metadata": {},
   "outputs": [],
   "source": [
    "Aop = SaddlePointSystems.linear_map(IFOperator(H),w);"
   ]
  },
  {
   "cell_type": "code",
   "execution_count": 76,
   "metadata": {},
   "outputs": [],
   "source": [
    "Ainvop = SaddlePointSystems.linear_inverse_map(IFOperator(H),w);"
   ]
  },
  {
   "cell_type": "code",
   "execution_count": 83,
   "metadata": {},
   "outputs": [
    {
     "data": {
      "text/plain": [
       "LinearMaps.CompositeMap{Float64,Tuple{LinearMaps.FunctionMap{Float64,getfield(ViscousFlow.SaddlePointSystems, Symbol(\"##60#61\")){typeof(B₁ᵀ),VectorData{128,Float64}},Nothing},LinearMaps.FunctionMap{Float64,getfield(ViscousFlow.SaddlePointSystems, Symbol(\"##62#63\")){IFOperator,Nodes{Dual,130,130,Float64}},Nothing}}}((LinearMaps.FunctionMap{Float64}(#60, 16900, 256; ismutating=false, issymmetric=false, ishermitian=false, isposdef=false), LinearMaps.FunctionMap{Float64}(#62, 16900, 16900; ismutating=false, issymmetric=false, ishermitian=false, isposdef=false)))"
      ]
     },
     "execution_count": 83,
     "metadata": {},
     "output_type": "execute_result"
    }
   ],
   "source": [
    "AB = Ainvop*B1op"
   ]
  },
  {
   "cell_type": "code",
   "execution_count": 84,
   "metadata": {},
   "outputs": [
    {
     "ename": "DimensionMismatch",
     "evalue": "DimensionMismatch(\"mul!\")",
     "output_type": "error",
     "traceback": [
      "DimensionMismatch(\"mul!\")",
      "",
      "Stacktrace:",
      " [1] check_dim_mul at /Users/jeff/.julia/packages/LinearMaps/RjB5x/src/LinearMaps.jl:53 [inlined]",
      " [2] mul!(::ArrayPartition{Float64,Tuple{Array{Float64,1},Array{Float64,1}}}, ::LinearMaps.CompositeMap{Float64,Tuple{LinearMaps.FunctionMap{Float64,getfield(ViscousFlow.SaddlePointSystems, Symbol(\"##60#61\")){typeof(B₁ᵀ),VectorData{128,Float64}},Nothing},LinearMaps.FunctionMap{Float64,getfield(ViscousFlow.SaddlePointSystems, Symbol(\"##62#63\")){IFOperator,Nodes{Dual,130,130,Float64}},Nothing}}}, ::ArrayPartition{Float64,Tuple{ScalarData{128,Float64},ScalarData{128,Float64}}}, ::Bool, ::Bool) at /Users/jeff/.julia/packages/LinearMaps/RjB5x/src/LinearMaps.jl:76 (repeats 2 times)",
      " [3] *(::LinearMaps.CompositeMap{Float64,Tuple{LinearMaps.FunctionMap{Float64,getfield(ViscousFlow.SaddlePointSystems, Symbol(\"##60#61\")){typeof(B₁ᵀ),VectorData{128,Float64}},Nothing},LinearMaps.FunctionMap{Float64,getfield(ViscousFlow.SaddlePointSystems, Symbol(\"##62#63\")){IFOperator,Nodes{Dual,130,130,Float64}},Nothing}}}, ::ArrayPartition{Float64,Tuple{ScalarData{128,Float64},ScalarData{128,Float64}}}) at /Users/jeff/.julia/packages/LinearMaps/RjB5x/src/LinearMaps.jl:73",
      " [4] top-level scope at In[84]:1"
     ]
    }
   ],
   "source": [
    "AB*SaddlePointSystems._unwrap_vec(fv)"
   ]
  },
  {
   "cell_type": "code",
   "execution_count": 86,
   "metadata": {},
   "outputs": [
    {
     "data": {
      "text/plain": [
       "(256,)"
      ]
     },
     "execution_count": 86,
     "metadata": {},
     "output_type": "execute_result"
    }
   ],
   "source": [
    "size(SaddlePointSystems._unwrap_vec(fv))"
   ]
  },
  {
   "cell_type": "code",
   "execution_count": 65,
   "metadata": {},
   "outputs": [],
   "source": [
    "B1op = SaddlePointSystems.linear_map(B₁ᵀ,fv,w);"
   ]
  },
  {
   "cell_type": "code",
   "execution_count": 66,
   "metadata": {},
   "outputs": [],
   "source": [
    "B2op = SaddlePointSystems.linear_map(B₂,w,fv);"
   ]
  },
  {
   "cell_type": "code",
   "execution_count": 95,
   "metadata": {},
   "outputs": [],
   "source": [
    "S = -B2op*Ainvop*B1op;"
   ]
  },
  {
   "cell_type": "code",
   "execution_count": 101,
   "metadata": {},
   "outputs": [],
   "source": [
    "using LinearMaps"
   ]
  },
  {
   "cell_type": "code",
   "execution_count": 102,
   "metadata": {},
   "outputs": [],
   "source": [
    "S = LinearMap{Float64}(x -> B2op*(Ainvop*(B1op*x)),length(fv));"
   ]
  },
  {
   "cell_type": "code",
   "execution_count": 99,
   "metadata": {},
   "outputs": [
    {
     "data": {
      "text/plain": [
       "([-0.0, -0.0, -0.0, -0.0, -0.0, -0.0, -0.0, -0.0, -0.0, -0.0  …  -0.0, -0.0, -0.0, -0.0, -0.0, -0.0, -0.0, -0.0, -0.0, -0.0], [-0.0, -0.0, -0.0, -0.0, -0.0, -0.0, -0.0, -0.0, -0.0, -0.0  …  -0.0, -0.0, -0.0, -0.0, -0.0, -0.0, -0.0, -0.0, -0.0, -0.0])"
      ]
     },
     "execution_count": 99,
     "metadata": {},
     "output_type": "execute_result"
    }
   ],
   "source": [
    "B2op*(Ainvop*(B1op*SaddlePointSystems._unwrap_vec(fv)))"
   ]
  },
  {
   "cell_type": "code",
   "execution_count": 103,
   "metadata": {},
   "outputs": [
    {
     "data": {
      "text/plain": [
       "([-0.0, -0.0, -0.0, -0.0, -0.0, -0.0, -0.0, -0.0, -0.0, -0.0  …  -0.0, -0.0, -0.0, -0.0, -0.0, -0.0, -0.0, -0.0, -0.0, -0.0], [-0.0, -0.0, -0.0, -0.0, -0.0, -0.0, -0.0, -0.0, -0.0, -0.0  …  -0.0, -0.0, -0.0, -0.0, -0.0, -0.0, -0.0, -0.0, -0.0, -0.0])"
      ]
     },
     "execution_count": 103,
     "metadata": {},
     "output_type": "execute_result"
    }
   ],
   "source": [
    "S*SaddlePointSystems._unwrap_vec(fv)"
   ]
  },
  {
   "cell_type": "code",
   "execution_count": 105,
   "metadata": {},
   "outputs": [
    {
     "data": {
      "text/plain": [
       "ScalarData{128,Float64}"
      ]
     },
     "execution_count": 105,
     "metadata": {},
     "output_type": "execute_result"
    }
   ],
   "source": [
    "typeof(fv.u)"
   ]
  },
  {
   "cell_type": "code",
   "execution_count": 4,
   "metadata": {},
   "outputs": [],
   "source": [
    "struct NewScalarDataCollection{N,T}\n",
    "    data :: AbstractVector{T}\n",
    "    u :: NewScalarData\n",
    "    v :: NewScalarData\n",
    "end"
   ]
  },
  {
   "cell_type": "code",
   "execution_count": 2,
   "metadata": {},
   "outputs": [],
   "source": [
    "struct NewScalarData{N,T}\n",
    "    data :: AbstractVector{T}\n",
    "end"
   ]
  },
  {
   "cell_type": "code",
   "execution_count": null,
   "metadata": {},
   "outputs": [],
   "source": []
  },
  {
   "cell_type": "code",
   "execution_count": 7,
   "metadata": {},
   "outputs": [],
   "source": [
    "data = zeros(256);"
   ]
  },
  {
   "cell_type": "code",
   "execution_count": 5,
   "metadata": {},
   "outputs": [
    {
     "data": {
      "text/plain": [
       "NewScalarData"
      ]
     },
     "execution_count": 5,
     "metadata": {},
     "output_type": "execute_result"
    }
   ],
   "source": [
    "function NewScalarData(data::AbstractVector{T}) where {T <: Number}\n",
    "  NewScalarData{length(data),T}(data)\n",
    "end"
   ]
  },
  {
   "cell_type": "code",
   "execution_count": 118,
   "metadata": {},
   "outputs": [],
   "source": [
    "sdata = zeros(128);"
   ]
  },
  {
   "cell_type": "code",
   "execution_count": 119,
   "metadata": {},
   "outputs": [
    {
     "name": "stdout",
     "output_type": "stream",
     "text": [
      "  0.000010 seconds (5 allocations: 176 bytes)\n"
     ]
    }
   ],
   "source": [
    "@time ScalarData(sdata);"
   ]
  },
  {
   "cell_type": "code",
   "execution_count": 127,
   "metadata": {},
   "outputs": [
    {
     "name": "stdout",
     "output_type": "stream",
     "text": [
      "  0.000010 seconds (7 allocations: 256 bytes)\n"
     ]
    },
    {
     "data": {
      "text/plain": [
       "NewScalarData{128,Float64}([0.0, 0.0, 0.0, 0.0, 0.0, 0.0, 0.0, 0.0, 0.0, 0.0  …  0.0, 0.0, 0.0, 0.0, 0.0, 0.0, 0.0, 0.0, 0.0, 0.0])"
      ]
     },
     "execution_count": 127,
     "metadata": {},
     "output_type": "execute_result"
    }
   ],
   "source": [
    "@time NewScalarData(view(data,1:128))"
   ]
  },
  {
   "cell_type": "code",
   "execution_count": 137,
   "metadata": {},
   "outputs": [
    {
     "data": {
      "text/plain": [
       "NewScalarData{128,Float64}([0.0, 0.0, 0.0, 0.0, 0.0, 0.0, 0.0, 0.0, 0.0, 0.0  …  0.0, 0.0, 0.0, 0.0, 0.0, 0.0, 0.0, 0.0, 0.0, 0.0])"
      ]
     },
     "execution_count": 137,
     "metadata": {},
     "output_type": "execute_result"
    }
   ],
   "source": [
    "NewScalarData(view(data,div(length(data),2)+1:length(data)))"
   ]
  },
  {
   "cell_type": "code",
   "execution_count": 6,
   "metadata": {},
   "outputs": [
    {
     "data": {
      "text/plain": [
       "NewScalarDataCollection"
      ]
     },
     "execution_count": 6,
     "metadata": {},
     "output_type": "execute_result"
    }
   ],
   "source": [
    "function NewScalarDataCollection(data::AbstractVector{T}) where {T <: Number}\n",
    "  u = NewScalarData(view(data,1:div(length(data),2)))\n",
    "  v = NewScalarData(view(data,div(length(data),2)+1:length(data)))\n",
    "  return NewScalarDataCollection{length(data),T}(data,u,v)\n",
    "end"
   ]
  },
  {
   "cell_type": "code",
   "execution_count": 11,
   "metadata": {},
   "outputs": [
    {
     "name": "stdout",
     "output_type": "stream",
     "text": [
      "  0.000008 seconds (10 allocations: 368 bytes)\n"
     ]
    }
   ],
   "source": [
    "@time v = NewScalarDataCollection(data);"
   ]
  },
  {
   "cell_type": "code",
   "execution_count": 14,
   "metadata": {},
   "outputs": [],
   "source": [
    "v.u.data[5] = 1.0;"
   ]
  },
  {
   "cell_type": "code",
   "execution_count": 15,
   "metadata": {},
   "outputs": [
    {
     "data": {
      "text/plain": [
       "NewScalarDataCollection{256,Float64}([0.0, 0.0, 0.0, 0.0, 1.0, 0.0, 0.0, 0.0, 0.0, 0.0  …  0.0, 0.0, 0.0, 0.0, 0.0, 0.0, 0.0, 0.0, 0.0, 0.0], NewScalarData{128,Float64}([0.0, 0.0, 0.0, 0.0, 1.0, 0.0, 0.0, 0.0, 0.0, 0.0  …  0.0, 0.0, 0.0, 0.0, 0.0, 0.0, 0.0, 0.0, 0.0, 0.0]), NewScalarData{128,Float64}([0.0, 0.0, 0.0, 0.0, 0.0, 0.0, 0.0, 0.0, 0.0, 0.0  …  0.0, 0.0, 0.0, 0.0, 0.0, 0.0, 0.0, 0.0, 0.0, 0.0]))"
      ]
     },
     "execution_count": 15,
     "metadata": {},
     "output_type": "execute_result"
    }
   ],
   "source": [
    "v"
   ]
  },
  {
   "cell_type": "code",
   "execution_count": 39,
   "metadata": {},
   "outputs": [],
   "source": [
    "using RecursiveArrayTools"
   ]
  },
  {
   "cell_type": "code",
   "execution_count": 41,
   "metadata": {},
   "outputs": [
    {
     "name": "stdout",
     "output_type": "stream",
     "text": [
      "  0.000015 seconds (7 allocations: 256 bytes)\n"
     ]
    }
   ],
   "source": [
    "@time fvp = ArrayPartition(fv.u,fv.v);"
   ]
  },
  {
   "cell_type": "code",
   "execution_count": 48,
   "metadata": {},
   "outputs": [
    {
     "data": {
      "text/plain": [
       "ArrayPartition{Float64,Tuple{ScalarData{128,Float64},ScalarData{128,Float64}}}"
      ]
     },
     "execution_count": 48,
     "metadata": {},
     "output_type": "execute_result"
    }
   ],
   "source": [
    "typeof(fvp)"
   ]
  },
  {
   "cell_type": "code",
   "execution_count": 45,
   "metadata": {},
   "outputs": [
    {
     "name": "stdout",
     "output_type": "stream",
     "text": [
      "  0.000011 seconds (6 allocations: 240 bytes)\n"
     ]
    }
   ],
   "source": [
    "@time f2 = VectorData(fvp.x[1],fvp.x[2]);"
   ]
  },
  {
   "cell_type": "code",
   "execution_count": 52,
   "metadata": {},
   "outputs": [],
   "source": [
    "SaddlePointSystems._unwrap_vec(fv::VectorData) = ArrayPartition(fv.u,fv.v)\n",
    "SaddlePointSystems._wrap_vec(v::ArrayPartition,u::VectorData) = VectorData(v.x[1],v.x[2])"
   ]
  },
  {
   "cell_type": "code",
   "execution_count": 153,
   "metadata": {},
   "outputs": [
    {
     "ename": "ArgumentError",
     "evalue": "ArgumentError: collection must be non-empty",
     "output_type": "error",
     "traceback": [
      "ArgumentError: collection must be non-empty",
      "",
      "Stacktrace:",
      " [1] first at ./abstractarray.jl:343 [inlined]",
      " [2] _ismutating at /Users/jeff/.julia/packages/LinearMaps/RjB5x/src/functionmap.jl:38 [inlined]",
      " [3] Type at /Users/jeff/.julia/packages/LinearMaps/RjB5x/src/functionmap.jl:16 [inlined]",
      " [4] #call#4 at /Users/jeff/.julia/packages/LinearMaps/RjB5x/src/functionmap.jl:20 [inlined]",
      " [5] Type at /Users/jeff/.julia/packages/LinearMaps/RjB5x/src/functionmap.jl:20 [inlined]",
      " [6] #call#57 at /Users/jeff/.julia/packages/LinearMaps/RjB5x/src/LinearMaps.jl:164 [inlined]",
      " [7] LinearMap{Float64}(::IFOperator, ::Int64) at /Users/jeff/.julia/packages/LinearMaps/RjB5x/src/LinearMaps.jl:164",
      " [8] top-level scope at In[153]:1"
     ]
    }
   ],
   "source": [
    "Aop = LinearMap{Float64}(IFOperator(H),length(w));"
   ]
  },
  {
   "cell_type": "code",
   "execution_count": 149,
   "metadata": {},
   "outputs": [],
   "source": [
    "B2op = LinearMap{Float64}(fcn,length(fv),length(w));"
   ]
  },
  {
   "cell_type": "code",
   "execution_count": 140,
   "metadata": {},
   "outputs": [],
   "source": [
    "import Base: vec"
   ]
  },
  {
   "cell_type": "code",
   "execution_count": 141,
   "metadata": {},
   "outputs": [],
   "source": [
    "vec(f::VectorData{N}) where {N} = [f.u;f.v];"
   ]
  },
  {
   "cell_type": "code",
   "execution_count": null,
   "metadata": {},
   "outputs": [],
   "source": [
    "B2op*IFOperator(H)"
   ]
  },
  {
   "cell_type": "code",
   "execution_count": 151,
   "metadata": {},
   "outputs": [
    {
     "data": {
      "text/plain": [
       "256-element Array{Float64,1}:\n",
       " -0.0\n",
       " -0.0\n",
       " -0.0\n",
       " -0.0\n",
       " -0.0\n",
       " -0.0\n",
       " -0.0\n",
       " -0.0\n",
       " -0.0\n",
       " -0.0\n",
       " -0.0\n",
       " -0.0\n",
       " -0.0\n",
       "  ⋮  \n",
       " -0.0\n",
       " -0.0\n",
       " -0.0\n",
       " -0.0\n",
       " -0.0\n",
       " -0.0\n",
       " -0.0\n",
       " -0.0\n",
       " -0.0\n",
       " -0.0\n",
       " -0.0\n",
       " -0.0"
      ]
     },
     "execution_count": 151,
     "metadata": {},
     "output_type": "execute_result"
    }
   ],
   "source": [
    "B2op*vec(w)"
   ]
  },
  {
   "cell_type": "code",
   "execution_count": 27,
   "metadata": {},
   "outputs": [
    {
     "ename": "MethodError",
     "evalue": "MethodError: no method matching *(::Curl, ::Array{Float64,1})\nClosest candidates are:\n  *(::Any, ::Any, !Matched::Any, !Matched::Any...) at operators.jl:529\n  *(::Curl, !Matched::Union{Edges{Primal,NX,NY,T} where T<:Number, Nodes{Dual,NX,NY,T} where T<:Number}) where {NX, NY} at /Users/jeff/JuliaProjects/ViscousFlow/src/fields/diffcalculus.jl:101\n  *(!Matched::Adjoint{#s617,#s616} where #s616<:Union{DenseArray{T<:Union{Complex{Float32}, Complex{Float64}, Float32, Float64},2}, Base.ReinterpretArray{T<:Union{Complex{Float32}, Complex{Float64}, Float32, Float64},2,S,A} where S where A<:Union{SubArray{T,N,A,I,true} where I<:Union{Tuple{Vararg{Real,N} where N}, Tuple{AbstractUnitRange,Vararg{Any,N} where N}} where A<:DenseArray where N where T, DenseArray}, Base.ReshapedArray{T<:Union{Complex{Float32}, Complex{Float64}, Float32, Float64},2,A,MI} where MI<:Tuple{Vararg{Base.MultiplicativeInverses.SignedMultiplicativeInverse{Int64},N} where N} where A<:Union{Base.ReinterpretArray{T,N,S,A} where S where A<:Union{SubArray{T,N,A,I,true} where I<:Union{Tuple{Vararg{Real,N} where N}, Tuple{AbstractUnitRange,Vararg{Any,N} where N}} where A<:DenseArray where N where T, DenseArray} where N where T, SubArray{T,N,A,I,true} where I<:Union{Tuple{Vararg{Real,N} where N}, Tuple{AbstractUnitRange,Vararg{Any,N} where N}} where A<:DenseArray where N where T, DenseArray}, SubArray{T<:Union{Complex{Float32}, Complex{Float64}, Float32, Float64},2,A,I,L} where L where I<:Tuple{Vararg{Union{Int64, AbstractRange{Int64}, Base.AbstractCartesianIndex},N} where N} where A<:Union{Base.ReinterpretArray{T,N,S,A} where S where A<:Union{SubArray{T,N,A,I,true} where I<:Union{Tuple{Vararg{Real,N} where N}, Tuple{AbstractUnitRange,Vararg{Any,N} where N}} where A<:DenseArray where N where T, DenseArray} where N where T, Base.ReshapedArray{T,N,A,MI} where MI<:Tuple{Vararg{Base.MultiplicativeInverses.SignedMultiplicativeInverse{Int64},N} where N} where A<:Union{Base.ReinterpretArray{T,N,S,A} where S where A<:Union{SubArray{T,N,A,I,true} where I<:Union{Tuple{Vararg{Real,N} where N}, Tuple{AbstractUnitRange,Vararg{Any,N} where N}} where A<:DenseArray where N where T, DenseArray} where N where T, SubArray{T,N,A,I,true} where I<:Union{Tuple{Vararg{Real,N} where N}, Tuple{AbstractUnitRange,Vararg{Any,N} where N}} where A<:DenseArray where N where T, DenseArray} where N where T, DenseArray}} where #s617, ::Union{DenseArray{S,1}, Base.ReinterpretArray{S,1,S,A} where S where A<:Union{SubArray{T,N,A,I,true} where I<:Union{Tuple{Vararg{Real,N} where N}, Tuple{AbstractUnitRange,Vararg{Any,N} where N}} where A<:DenseArray where N where T, DenseArray}, Base.ReshapedArray{S,1,A,MI} where MI<:Tuple{Vararg{Base.MultiplicativeInverses.SignedMultiplicativeInverse{Int64},N} where N} where A<:Union{Base.ReinterpretArray{T,N,S,A} where S where A<:Union{SubArray{T,N,A,I,true} where I<:Union{Tuple{Vararg{Real,N} where N}, Tuple{AbstractUnitRange,Vararg{Any,N} where N}} where A<:DenseArray where N where T, DenseArray} where N where T, SubArray{T,N,A,I,true} where I<:Union{Tuple{Vararg{Real,N} where N}, Tuple{AbstractUnitRange,Vararg{Any,N} where N}} where A<:DenseArray where N where T, DenseArray}, SubArray{S,1,A,I,L} where L where I<:Tuple{Vararg{Union{Int64, AbstractRange{Int64}, Base.AbstractCartesianIndex},N} where N} where A<:Union{Base.ReinterpretArray{T,N,S,A} where S where A<:Union{SubArray{T,N,A,I,true} where I<:Union{Tuple{Vararg{Real,N} where N}, Tuple{AbstractUnitRange,Vararg{Any,N} where N}} where A<:DenseArray where N where T, DenseArray} where N where T, Base.ReshapedArray{T,N,A,MI} where MI<:Tuple{Vararg{Base.MultiplicativeInverses.SignedMultiplicativeInverse{Int64},N} where N} where A<:Union{Base.ReinterpretArray{T,N,S,A} where S where A<:Union{SubArray{T,N,A,I,true} where I<:Union{Tuple{Vararg{Real,N} where N}, Tuple{AbstractUnitRange,Vararg{Any,N} where N}} where A<:DenseArray where N where T, DenseArray} where N where T, SubArray{T,N,A,I,true} where I<:Union{Tuple{Vararg{Real,N} where N}, Tuple{AbstractUnitRange,Vararg{Any,N} where N}} where A<:DenseArray where N where T, DenseArray} where N where T, DenseArray}}) where {T<:Union{Complex{Float32}, Complex{Float64}, Float32, Float64}, S} at /Users/sabae/buildbot/worker/package_macos64/build/usr/share/julia/stdlib/v1.2/LinearAlgebra/src/matmul.jl:99\n  ...",
     "output_type": "error",
     "traceback": [
      "MethodError: no method matching *(::Curl, ::Array{Float64,1})\nClosest candidates are:\n  *(::Any, ::Any, !Matched::Any, !Matched::Any...) at operators.jl:529\n  *(::Curl, !Matched::Union{Edges{Primal,NX,NY,T} where T<:Number, Nodes{Dual,NX,NY,T} where T<:Number}) where {NX, NY} at /Users/jeff/JuliaProjects/ViscousFlow/src/fields/diffcalculus.jl:101\n  *(!Matched::Adjoint{#s617,#s616} where #s616<:Union{DenseArray{T<:Union{Complex{Float32}, Complex{Float64}, Float32, Float64},2}, Base.ReinterpretArray{T<:Union{Complex{Float32}, Complex{Float64}, Float32, Float64},2,S,A} where S where A<:Union{SubArray{T,N,A,I,true} where I<:Union{Tuple{Vararg{Real,N} where N}, Tuple{AbstractUnitRange,Vararg{Any,N} where N}} where A<:DenseArray where N where T, DenseArray}, Base.ReshapedArray{T<:Union{Complex{Float32}, Complex{Float64}, Float32, Float64},2,A,MI} where MI<:Tuple{Vararg{Base.MultiplicativeInverses.SignedMultiplicativeInverse{Int64},N} where N} where A<:Union{Base.ReinterpretArray{T,N,S,A} where S where A<:Union{SubArray{T,N,A,I,true} where I<:Union{Tuple{Vararg{Real,N} where N}, Tuple{AbstractUnitRange,Vararg{Any,N} where N}} where A<:DenseArray where N where T, DenseArray} where N where T, SubArray{T,N,A,I,true} where I<:Union{Tuple{Vararg{Real,N} where N}, Tuple{AbstractUnitRange,Vararg{Any,N} where N}} where A<:DenseArray where N where T, DenseArray}, SubArray{T<:Union{Complex{Float32}, Complex{Float64}, Float32, Float64},2,A,I,L} where L where I<:Tuple{Vararg{Union{Int64, AbstractRange{Int64}, Base.AbstractCartesianIndex},N} where N} where A<:Union{Base.ReinterpretArray{T,N,S,A} where S where A<:Union{SubArray{T,N,A,I,true} where I<:Union{Tuple{Vararg{Real,N} where N}, Tuple{AbstractUnitRange,Vararg{Any,N} where N}} where A<:DenseArray where N where T, DenseArray} where N where T, Base.ReshapedArray{T,N,A,MI} where MI<:Tuple{Vararg{Base.MultiplicativeInverses.SignedMultiplicativeInverse{Int64},N} where N} where A<:Union{Base.ReinterpretArray{T,N,S,A} where S where A<:Union{SubArray{T,N,A,I,true} where I<:Union{Tuple{Vararg{Real,N} where N}, Tuple{AbstractUnitRange,Vararg{Any,N} where N}} where A<:DenseArray where N where T, DenseArray} where N where T, SubArray{T,N,A,I,true} where I<:Union{Tuple{Vararg{Real,N} where N}, Tuple{AbstractUnitRange,Vararg{Any,N} where N}} where A<:DenseArray where N where T, DenseArray} where N where T, DenseArray}} where #s617, ::Union{DenseArray{S,1}, Base.ReinterpretArray{S,1,S,A} where S where A<:Union{SubArray{T,N,A,I,true} where I<:Union{Tuple{Vararg{Real,N} where N}, Tuple{AbstractUnitRange,Vararg{Any,N} where N}} where A<:DenseArray where N where T, DenseArray}, Base.ReshapedArray{S,1,A,MI} where MI<:Tuple{Vararg{Base.MultiplicativeInverses.SignedMultiplicativeInverse{Int64},N} where N} where A<:Union{Base.ReinterpretArray{T,N,S,A} where S where A<:Union{SubArray{T,N,A,I,true} where I<:Union{Tuple{Vararg{Real,N} where N}, Tuple{AbstractUnitRange,Vararg{Any,N} where N}} where A<:DenseArray where N where T, DenseArray} where N where T, SubArray{T,N,A,I,true} where I<:Union{Tuple{Vararg{Real,N} where N}, Tuple{AbstractUnitRange,Vararg{Any,N} where N}} where A<:DenseArray where N where T, DenseArray}, SubArray{S,1,A,I,L} where L where I<:Tuple{Vararg{Union{Int64, AbstractRange{Int64}, Base.AbstractCartesianIndex},N} where N} where A<:Union{Base.ReinterpretArray{T,N,S,A} where S where A<:Union{SubArray{T,N,A,I,true} where I<:Union{Tuple{Vararg{Real,N} where N}, Tuple{AbstractUnitRange,Vararg{Any,N} where N}} where A<:DenseArray where N where T, DenseArray} where N where T, Base.ReshapedArray{T,N,A,MI} where MI<:Tuple{Vararg{Base.MultiplicativeInverses.SignedMultiplicativeInverse{Int64},N} where N} where A<:Union{Base.ReinterpretArray{T,N,S,A} where S where A<:Union{SubArray{T,N,A,I,true} where I<:Union{Tuple{Vararg{Real,N} where N}, Tuple{AbstractUnitRange,Vararg{Any,N} where N}} where A<:DenseArray where N where T, DenseArray} where N where T, SubArray{T,N,A,I,true} where I<:Union{Tuple{Vararg{Real,N} where N}, Tuple{AbstractUnitRange,Vararg{Any,N} where N}} where A<:DenseArray where N where T, DenseArray} where N where T, DenseArray}}) where {T<:Union{Complex{Float32}, Complex{Float64}, Float32, Float64}, S} at /Users/sabae/buildbot/worker/package_macos64/build/usr/share/julia/stdlib/v1.2/LinearAlgebra/src/matmul.jl:99\n  ...",
      "",
      "Stacktrace:",
      " [1] B₁ᵀ(::Array{Float64,1}) at ./In[21]:1",
      " [2] (::getfield(ViscousFlow.SaddlePointSystems, Symbol(\"##28#29\")){typeof(B₁ᵀ),VectorData{128,Float64}})(::Array{Float64,1}) at /Users/jeff/JuliaProjects/ViscousFlow/src/saddlepoint/linearmaps.jl:57",
      " [3] A_mul_B!(::Array{Float64,1}, ::LinearMaps.FunctionMap{Float64,getfield(ViscousFlow.SaddlePointSystems, Symbol(\"##28#29\")){typeof(B₁ᵀ),VectorData{128,Float64}},Nothing}, ::Array{Float64,1}) at /Users/jeff/.julia/packages/LinearMaps/RjB5x/src/functionmap.jl:112",
      " [4] A_mul_B!(::Array{Float64,1}, ::LinearMaps.CompositeMap{Float64,Tuple{LinearMaps.FunctionMap{Float64,getfield(ViscousFlow.SaddlePointSystems, Symbol(\"##28#29\")){typeof(B₁ᵀ),VectorData{128,Float64}},Nothing},LinearMaps.FunctionMap{Float64,getfield(ViscousFlow.SaddlePointSystems, Symbol(\"##30#31\")){IFOperator,Nodes{Dual,130,130,Float64}},Nothing},LinearMaps.FunctionMap{Float64,getfield(ViscousFlow.SaddlePointSystems, Symbol(\"##28#29\")){typeof(B₂),Nodes{Dual,130,130,Float64}},Nothing},LinearMaps.UniformScalingMap{Int64}}}, ::Array{Float64,1}) at /Users/jeff/.julia/packages/LinearMaps/RjB5x/src/composition.jl:130",
      " [5] mul!(::Array{Float64,1}, ::LinearMaps.CompositeMap{Float64,Tuple{LinearMaps.FunctionMap{Float64,getfield(ViscousFlow.SaddlePointSystems, Symbol(\"##28#29\")){typeof(B₁ᵀ),VectorData{128,Float64}},Nothing},LinearMaps.FunctionMap{Float64,getfield(ViscousFlow.SaddlePointSystems, Symbol(\"##30#31\")){IFOperator,Nodes{Dual,130,130,Float64}},Nothing},LinearMaps.FunctionMap{Float64,getfield(ViscousFlow.SaddlePointSystems, Symbol(\"##28#29\")){typeof(B₂),Nodes{Dual,130,130,Float64}},Nothing},LinearMaps.UniformScalingMap{Int64}}}, ::Array{Float64,1}, ::Bool, ::Bool) at /Users/jeff/.julia/packages/LinearMaps/RjB5x/src/LinearMaps.jl:78",
      " [6] mul! at /Users/jeff/.julia/packages/LinearMaps/RjB5x/src/LinearMaps.jl:76 [inlined]",
      " [7] muladd! at /Users/jeff/.julia/packages/LinearMaps/RjB5x/src/linearcombination.jl:98 [inlined]",
      " [8] __mul! at /Users/jeff/.julia/packages/LinearMaps/RjB5x/src/linearcombination.jl:94 [inlined]",
      " [9] __mul! at /Users/jeff/.julia/packages/LinearMaps/RjB5x/src/linearcombination.jl:93 [inlined]",
      " [10] _mul! at /Users/jeff/.julia/packages/LinearMaps/RjB5x/src/linearcombination.jl:88 [inlined]",
      " [11] mul! at /Users/jeff/.julia/packages/LinearMaps/RjB5x/src/linearcombination.jl:79 [inlined]",
      " [12] mul! at /Users/jeff/.julia/packages/LinearMaps/RjB5x/src/linearcombination.jl:70 [inlined]",
      " [13] Array{T,2} where T(::LinearMaps.LinearCombination{Float64,Tuple{LinearMaps.WrappedMap{Float64,Array{Float64,2}},LinearMaps.CompositeMap{Float64,Tuple{LinearMaps.FunctionMap{Float64,getfield(ViscousFlow.SaddlePointSystems, Symbol(\"##28#29\")){typeof(B₁ᵀ),VectorData{128,Float64}},Nothing},LinearMaps.FunctionMap{Float64,getfield(ViscousFlow.SaddlePointSystems, Symbol(\"##30#31\")){IFOperator,Nodes{Dual,130,130,Float64}},Nothing},LinearMaps.FunctionMap{Float64,getfield(ViscousFlow.SaddlePointSystems, Symbol(\"##28#29\")){typeof(B₂),Nodes{Dual,130,130,Float64}},Nothing},LinearMaps.UniformScalingMap{Int64}}}}}) at /Users/jeff/.julia/packages/LinearMaps/RjB5x/src/conversion.jl:9",
      " [14] SaddleSystem(::LinearMaps.FunctionMap{Float64,getfield(ViscousFlow.SaddlePointSystems, Symbol(\"##26#27\")){IFOperator,Nodes{Dual,130,130,Float64}},Nothing}, ::LinearMaps.FunctionMap{Float64,getfield(ViscousFlow.SaddlePointSystems, Symbol(\"##28#29\")){typeof(B₂),Nodes{Dual,130,130,Float64}},Nothing}, ::LinearMaps.FunctionMap{Float64,getfield(ViscousFlow.SaddlePointSystems, Symbol(\"##28#29\")){typeof(B₁ᵀ),VectorData{128,Float64}},Nothing}, ::LinearMaps.WrappedMap{Float64,Array{Float64,2}}, ::LinearMaps.FunctionMap{Float64,getfield(ViscousFlow.SaddlePointSystems, Symbol(\"##30#31\")){IFOperator,Nodes{Dual,130,130,Float64}},Nothing}, ::Type, ::Type) at /Users/jeff/JuliaProjects/ViscousFlow/src/SaddlePointSystems.jl:74",
      " [15] #SaddleSystem#5(::Type, ::Type{SaddleSystem}, ::IFOperator, ::Function, ::Function, ::Array{Float64,2}, ::Nodes{Dual,130,130,Float64}, ::VectorData{128,Float64}) at /Users/jeff/JuliaProjects/ViscousFlow/src/SaddlePointSystems.jl:101",
      " [16] #SaddleSystem#6 at ./none:0 [inlined]",
      " [17] SaddleSystem(::IFOperator, ::Function, ::Function, ::Nodes{Dual,130,130,Float64}, ::VectorData{128,Float64}) at /Users/jeff/JuliaProjects/ViscousFlow/src/SaddlePointSystems.jl:107",
      " [18] top-level scope at In[27]:1"
     ]
    }
   ],
   "source": [
    "SaddleSystem(IFOperator(H),B₂,B₁ᵀ,w,fv)"
   ]
  },
  {
   "cell_type": "markdown",
   "metadata": {},
   "source": [
    "### Unconstrained solution\n",
    "Should work when there are no constraints"
   ]
  },
  {
   "cell_type": "code",
   "execution_count": 44,
   "metadata": {},
   "outputs": [],
   "source": [
    "Anc = SaddleSystem(L,w);"
   ]
  },
  {
   "cell_type": "code",
   "execution_count": 46,
   "metadata": {},
   "outputs": [],
   "source": [
    "nada = empty(f);"
   ]
  },
  {
   "cell_type": "code",
   "execution_count": 47,
   "metadata": {},
   "outputs": [],
   "source": [
    "sol = Anc\\(w,nada);"
   ]
  },
  {
   "cell_type": "code",
   "execution_count": 49,
   "metadata": {},
   "outputs": [],
   "source": [
    "sol[1];"
   ]
  },
  {
   "cell_type": "code",
   "execution_count": 50,
   "metadata": {},
   "outputs": [
    {
     "data": {
      "text/plain": [
       "(Dual nodes in a (nx = 130, ny = 130) cell grid of type Float64 data\n",
       "  Number of Dual nodes: (nx = 130, ny = 130), Float64[])"
      ]
     },
     "execution_count": 50,
     "metadata": {},
     "output_type": "execute_result"
    }
   ],
   "source": [
    "newrhs = Anc*sol"
   ]
  },
  {
   "cell_type": "code",
   "execution_count": 51,
   "metadata": {},
   "outputs": [
    {
     "data": {
      "text/plain": [
       "0-element Array{Float64,1}"
      ]
     },
     "execution_count": 51,
     "metadata": {},
     "output_type": "execute_result"
    }
   ],
   "source": [
    "newrhs[2]"
   ]
  },
  {
   "cell_type": "markdown",
   "metadata": {},
   "source": [
    "### Tuple of saddle point systems"
   ]
  },
  {
   "cell_type": "code",
   "execution_count": 52,
   "metadata": {},
   "outputs": [],
   "source": [
    "sys = (A,Anc);\n",
    "rhs1,rhs2 = (w,ψb),(w,nada);"
   ]
  },
  {
   "cell_type": "code",
   "execution_count": 53,
   "metadata": {},
   "outputs": [],
   "source": [
    "sol1, sol2 = sys\\(rhs1,rhs2);"
   ]
  },
  {
   "cell_type": "code",
   "execution_count": 54,
   "metadata": {},
   "outputs": [
    {
     "data": {
      "text/plain": [
       "true"
      ]
     },
     "execution_count": 54,
     "metadata": {},
     "output_type": "execute_result"
    }
   ],
   "source": [
    "sol2[1] == zero(w)"
   ]
  },
  {
   "cell_type": "code",
   "execution_count": 55,
   "metadata": {},
   "outputs": [
    {
     "data": {
      "text/plain": [
       "(Dual nodes in a (nx = 130, ny = 130) cell grid of type Float64 data\n",
       "  Number of Dual nodes: (nx = 130, ny = 130), Float64[])"
      ]
     },
     "execution_count": 55,
     "metadata": {},
     "output_type": "execute_result"
    }
   ],
   "source": [
    "Anc*sol2"
   ]
  },
  {
   "cell_type": "code",
   "execution_count": 56,
   "metadata": {},
   "outputs": [],
   "source": [
    "newrhs1, newrhs2 = sys*(sol1,sol2);"
   ]
  },
  {
   "cell_type": "code",
   "execution_count": 57,
   "metadata": {},
   "outputs": [
    {
     "data": {
      "text/plain": [
       "true"
      ]
     },
     "execution_count": 57,
     "metadata": {},
     "output_type": "execute_result"
    }
   ],
   "source": [
    "newrhs1 == A*sol1"
   ]
  },
  {
   "cell_type": "markdown",
   "metadata": {},
   "source": [
    "### Saddle system of a saddle system"
   ]
  },
  {
   "cell_type": "code",
   "execution_count": 58,
   "metadata": {},
   "outputs": [],
   "source": [
    "A1 = Float64[1 2; 2 1]\n",
    "B21 = Float64[2 3];\n",
    "B11 = B21';\n",
    "C1 = Matrix{Float64}(undef,1,1)\n",
    "C1.= 5\n",
    "\n",
    "B22 = Float64[-1 -1 3];\n",
    "B12 = Float64[-1 -1 -2]';\n",
    "C2 = Matrix{Float64}(undef,1,1)\n",
    "C2.= -4;"
   ]
  },
  {
   "cell_type": "code",
   "execution_count": 59,
   "metadata": {},
   "outputs": [],
   "source": [
    "rhs11 = [1.0,2.0];\n",
    "rhs12 = Vector{Float64}(undef,1)\n",
    "rhs12 .= 3.0;\n",
    "#rhs1 = (rhs11,rhs12)\n",
    "rhs1 = [rhs11;rhs12];\n",
    "\n",
    "rhs2 = Vector{Float64}(undef,1)\n",
    "rhs2 .= 4.0;\n",
    "\n",
    "#sol = ((zero(rhs11),zero(rhs12)),zero(rhs2))\n",
    "rhs = (rhs1,rhs2);\n",
    "sol = (zero(rhs1),zero(rhs2));"
   ]
  },
  {
   "cell_type": "code",
   "execution_count": 60,
   "metadata": {},
   "outputs": [],
   "source": [
    "A = SaddleSystem(A1,B21,B11,C1);"
   ]
  },
  {
   "cell_type": "code",
   "execution_count": 61,
   "metadata": {},
   "outputs": [],
   "source": [
    "Abig = SaddleSystem(A,B22,B12,C2,rhs1,rhs2);"
   ]
  },
  {
   "cell_type": "code",
   "execution_count": 62,
   "metadata": {},
   "outputs": [
    {
     "data": {
      "text/plain": [
       "([-4.440892098500626e-16, -0.3571428571428571, 0.6428571428571432], [-0.4285714285714282])"
      ]
     },
     "execution_count": 62,
     "metadata": {},
     "output_type": "execute_result"
    }
   ],
   "source": [
    "sol = Abig\\rhs"
   ]
  },
  {
   "cell_type": "code",
   "execution_count": 63,
   "metadata": {},
   "outputs": [
    {
     "data": {
      "text/plain": [
       "([1.0, 1.9999999999999998, 3.0000000000000004], [4.0])"
      ]
     },
     "execution_count": 63,
     "metadata": {},
     "output_type": "execute_result"
    }
   ],
   "source": [
    "out = Abig*sol"
   ]
  },
  {
   "cell_type": "code",
   "execution_count": 64,
   "metadata": {},
   "outputs": [
    {
     "data": {
      "text/plain": [
       "4.965068306494546e-16"
      ]
     },
     "execution_count": 64,
     "metadata": {},
     "output_type": "execute_result"
    }
   ],
   "source": [
    "norm(out[1]-rhs1)"
   ]
  },
  {
   "cell_type": "markdown",
   "metadata": {},
   "source": [
    "#### Pass in as tuples of tuples"
   ]
  },
  {
   "cell_type": "code",
   "execution_count": 152,
   "metadata": {},
   "outputs": [
    {
     "data": {
      "text/plain": [
       "(([0.0, 0.0], [0.0]), [0.0])"
      ]
     },
     "execution_count": 152,
     "metadata": {},
     "output_type": "execute_result"
    }
   ],
   "source": [
    "rhs11 = [1.0,2.0];\n",
    "rhs12 = Vector{Float64}(undef,1)\n",
    "rhs12 .= 3.0\n",
    "rhs1 = (rhs11,rhs12)\n",
    "\n",
    "rhs2 = Vector{Float64}(undef,1)\n",
    "rhs2 .= 4.0;\n",
    "\n",
    "rhs = (rhs1,rhs2)\n",
    "\n",
    "sol = ((zero(rhs11),zero(rhs12)),zero(rhs2))"
   ]
  },
  {
   "cell_type": "code",
   "execution_count": 154,
   "metadata": {},
   "outputs": [],
   "source": [
    "A = SaddleSystem(A1,B21,B11,C1);"
   ]
  }
 ],
 "metadata": {
  "kernelspec": {
   "display_name": "Julia 1.2.0",
   "language": "julia",
   "name": "julia-1.2"
  },
  "language_info": {
   "file_extension": ".jl",
   "mimetype": "application/julia",
   "name": "julia",
   "version": "1.2.0"
  }
 },
 "nbformat": 4,
 "nbformat_minor": 2
}
