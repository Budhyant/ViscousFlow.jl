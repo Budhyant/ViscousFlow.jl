{
 "cells": [
  {
   "cell_type": "code",
   "execution_count": 1,
   "metadata": {},
   "outputs": [],
   "source": [
    "using LinearMaps"
   ]
  },
  {
   "cell_type": "code",
   "execution_count": 2,
   "metadata": {},
   "outputs": [],
   "source": [
    "using LinearAlgebra\n",
    "import LinearAlgebra: ldiv!, mul!, *, \\"
   ]
  },
  {
   "cell_type": "code",
   "execution_count": 4,
   "metadata": {},
   "outputs": [],
   "source": [
    "using ViscousFlow"
   ]
  },
  {
   "cell_type": "code",
   "execution_count": 174,
   "metadata": {},
   "outputs": [
    {
     "name": "stderr",
     "output_type": "stream",
     "text": [
      "┌ Info: Recompiling stale cache file /Users/jeff/.julia/compiled/v1.2/Plots/ld3vC.ji for Plots [91a5bcdd-55d7-5caf-9e0b-520d859cae80]\n",
      "└ @ Base loading.jl:1240\n",
      "┌ Info: Recompiling stale cache file /Users/jeff/.julia/compiled/v1.2/PyPlot/oatAj.ji for PyPlot [d330b81b-6aea-500a-939a-2ce795aea3ee]\n",
      "└ @ Base loading.jl:1240\n"
     ]
    }
   ],
   "source": [
    "using Plots\n",
    "pyplot()\n",
    "clibrary(:colorbrewer)\n",
    "default(grid = false)"
   ]
  },
  {
   "cell_type": "markdown",
   "metadata": {},
   "source": [
    "## New functions"
   ]
  },
  {
   "cell_type": "code",
   "execution_count": 5,
   "metadata": {},
   "outputs": [],
   "source": [
    "struct SaddleSystem{T,Ns,Nc}\n",
    "    A :: LinearMap{T}\n",
    "    B₁ᵀ :: LinearMap{T}\n",
    "    B₂ :: LinearMap{T}\n",
    "    C :: LinearMap{T}\n",
    "    A⁻¹ :: LinearMap{T}\n",
    "    A⁻¹B₁ᵀf :: Vector{T}\n",
    "    B₂A⁻¹r₁ :: Vector{T}\n",
    "    _u_buf :: Vector{T}\n",
    "    _f_buf :: Vector{T}\n",
    "    S :: LinearMap{T}\n",
    "    S⁻¹ :: LinearMap{T}\n",
    "end"
   ]
  },
  {
   "cell_type": "markdown",
   "metadata": {},
   "source": [
    "- SaddleSystem should return an operator for `\\`"
   ]
  },
  {
   "cell_type": "code",
   "execution_count": 159,
   "metadata": {},
   "outputs": [
    {
     "data": {
      "text/plain": [
       "SaddleSystem"
      ]
     },
     "execution_count": 159,
     "metadata": {},
     "output_type": "execute_result"
    }
   ],
   "source": [
    "function SaddleSystem(A::LinearMap{T},B₁ᵀ::LinearMap{T},B₂::LinearMap{T},C::LinearMap{T},\n",
    "                      A⁻¹::LinearMap{T}) where {T}\n",
    "    \n",
    "    ns, nc = _check_sizes(A,B₁ᵀ,B₂,C)\n",
    "    \n",
    "    S = C - B₂*A⁻¹*B₁ᵀ\n",
    "    #S = LinearMap{Float64}(x -> C*x - B₂*(A⁻¹*(B₁ᵀ*x)),length(f));\n",
    "    Sfact = factorize(Matrix(S))\n",
    "    S⁻¹ = LinearMap{T}(x -> Sfact\\x,nc)\n",
    "    \n",
    "    return SaddleSystem{T,ns,nc}(A,B₁ᵀ,B₂,C,A⁻¹,zeros(T,ns),zeros(T,nc),zeros(T,ns),zeros(T,nc),S,S⁻¹)\n",
    "end"
   ]
  },
  {
   "cell_type": "code",
   "execution_count": 7,
   "metadata": {},
   "outputs": [
    {
     "data": {
      "text/plain": [
       "_check_sizes (generic function with 1 method)"
      ]
     },
     "execution_count": 7,
     "metadata": {},
     "output_type": "execute_result"
    }
   ],
   "source": [
    "function _check_sizes(A,B₁ᵀ,B₂,C)\n",
    "    mA, nA = size(A)\n",
    "    mB1, nB1 = size(B₁ᵀ)\n",
    "    mB2, nB2 = size(B₂)\n",
    "    mC, nC = size(C)\n",
    "    \n",
    "    # check compatibility of sizes\n",
    "    mA == nA  || error(\"A is not square\")\n",
    "    mA == mB1 || error(\"Incompatible number of rows in A and B₁ᵀ\")\n",
    "    nA == nB2 || error(\"Incompatible number of columns in A and B₂\")\n",
    "    mC == mB2 || error(\"Incompatible number of rows in C and B₂\")\n",
    "    nC == nB1 || error(\"Incompatible number of columns in C and B₁ᵀ\")\n",
    "    \n",
    "    ns = nA\n",
    "    nc = nB1\n",
    "    \n",
    "    return ns, nc\n",
    "end"
   ]
  },
  {
   "cell_type": "code",
   "execution_count": 8,
   "metadata": {},
   "outputs": [
    {
     "data": {
      "text/plain": [
       "_split_vector (generic function with 1 method)"
      ]
     },
     "execution_count": 8,
     "metadata": {},
     "output_type": "execute_result"
    }
   ],
   "source": [
    "function _split_vector(x,Ns,Nc)\n",
    "    return view(x,1:Ns), view(x,Ns+1:Ns+Nc)\n",
    "end"
   ]
  },
  {
   "cell_type": "code",
   "execution_count": 98,
   "metadata": {},
   "outputs": [
    {
     "data": {
      "text/plain": [
       "mul! (generic function with 196 methods)"
      ]
     },
     "execution_count": 98,
     "metadata": {},
     "output_type": "execute_result"
    }
   ],
   "source": [
    "function mul!(output::Tuple{AbstractVector{T},AbstractVector{T}},sys::SaddleSystem{T,Ns,Nc},input::Tuple{AbstractVector{T},AbstractVector{T}}) where {T,Ns,Nc}\n",
    "    u,f = input \n",
    "    r₁,r₂ = output\n",
    "    length(u) == length(r₁) == Ns || error(\"Incompatible number of elements\")\n",
    "    length(f) == length(r₂) == Nc || error(\"Incompatible number of elements\")\n",
    "    \n",
    "    r₁ .= sys.A*u + sys.B₁ᵀ*f\n",
    "    r₂ .= sys.B₂*u + sys.C*f\n",
    "    return output\n",
    "end"
   ]
  },
  {
   "cell_type": "code",
   "execution_count": 281,
   "metadata": {},
   "outputs": [
    {
     "data": {
      "text/plain": [
       "mul! (generic function with 198 methods)"
      ]
     },
     "execution_count": 281,
     "metadata": {},
     "output_type": "execute_result"
    }
   ],
   "source": [
    "function mul!(sol::Tuple{TU,TF},sys::SaddleSystem,rhs::Tuple{TU,TF}) where {T,Ns,Nc,TU,TF}\n",
    "    u, f = sol\n",
    "    r₁, r₂ = rhs\n",
    "    return mul!((_unwrap_vec(u),_unwrap_vec(f)),sys,(_unwrap_vec(r₁),_unwrap_vec(r₂)))\n",
    "end"
   ]
  },
  {
   "cell_type": "code",
   "execution_count": 224,
   "metadata": {},
   "outputs": [
    {
     "data": {
      "text/plain": [
       "* (generic function with 497 methods)"
      ]
     },
     "execution_count": 224,
     "metadata": {},
     "output_type": "execute_result"
    }
   ],
   "source": [
    "function (*)(sys::SaddleSystem,input::Tuple)\n",
    "    u, f = input\n",
    "    output = (similar(u),similar(f))\n",
    "    mul!(output,sys,input)\n",
    "    return output \n",
    "end"
   ]
  },
  {
   "cell_type": "code",
   "execution_count": 222,
   "metadata": {},
   "outputs": [
    {
     "data": {
      "text/plain": [
       "mul! (generic function with 198 methods)"
      ]
     },
     "execution_count": 222,
     "metadata": {},
     "output_type": "execute_result"
    }
   ],
   "source": [
    "# Routine for accepting vector inputs, parsing it into Ns and Nc parts\n",
    "function mul!(sol::AbstractVector{T},sys::SaddleSystem{T,Ns,Nc},rhs::AbstractVector{T}) where {T,Ns,Nc}\n",
    "    mul!(_split_vector(sol,Ns,Nc),sys,_split_vector(rhs,Ns,Nc))\n",
    "    return sol\n",
    "end"
   ]
  },
  {
   "cell_type": "code",
   "execution_count": 225,
   "metadata": {},
   "outputs": [
    {
     "data": {
      "text/plain": [
       "* (generic function with 498 methods)"
      ]
     },
     "execution_count": 225,
     "metadata": {},
     "output_type": "execute_result"
    }
   ],
   "source": [
    "function (*)(sys::SaddleSystem,input::AbstractVector)\n",
    "    output = similar(input)\n",
    "    mul!(output,sys,input)\n",
    "    return output \n",
    "end"
   ]
  },
  {
   "cell_type": "code",
   "execution_count": 10,
   "metadata": {},
   "outputs": [
    {
     "data": {
      "text/plain": [
       "ldiv! (generic function with 125 methods)"
      ]
     },
     "execution_count": 10,
     "metadata": {},
     "output_type": "execute_result"
    }
   ],
   "source": [
    "function ldiv!(sol::Tuple{AbstractVector{T},AbstractVector{T}},sys::SaddleSystem{T,Ns,Nc},rhs::Tuple{AbstractVector{T},AbstractVector{T}}) where {T,Ns,Nc}\n",
    "    \n",
    "    N = Ns+Nc\n",
    "    u,f = sol #_split_vector(sol,Ns,Nc)\n",
    "    r₁,r₂ = rhs #_split_vector(rhs,Ns,Nc)\n",
    "    length(u) == length(r₁) == Ns || error(\"Incompatible number of elements\")\n",
    "    length(f) == length(r₂) == Nc || error(\"Incompatible number of elements\")\n",
    "\n",
    "    u .= sys.A⁻¹*r₁\n",
    "\n",
    "    sys.B₂A⁻¹r₁ .= sys.B₂*u\n",
    "    sys._f_buf .= r₂\n",
    "    sys._f_buf .-= sys.B₂A⁻¹r₁\n",
    "    \n",
    "    if Nc > 0\n",
    "        f .= sys.S⁻¹*sys._f_buf\n",
    "        #f .= sys.P(f)\n",
    "    end\n",
    "    sys.A⁻¹B₁ᵀf .= sys.A⁻¹*sys.B₁ᵀ*f\n",
    "    u .-= sys.A⁻¹B₁ᵀf\n",
    "    \n",
    "    return sol\n",
    "end"
   ]
  },
  {
   "cell_type": "code",
   "execution_count": 282,
   "metadata": {},
   "outputs": [
    {
     "data": {
      "text/plain": [
       "ldiv! (generic function with 127 methods)"
      ]
     },
     "execution_count": 282,
     "metadata": {},
     "output_type": "execute_result"
    }
   ],
   "source": [
    "function ldiv!(sol::Tuple{TU,TF},sys::SaddleSystem,rhs::Tuple{TU,TF}) where {T,Ns,Nc,TU,TF}\n",
    "    u, f = sol\n",
    "    r₁, r₂ = rhs\n",
    "    return ldiv!((_unwrap_vec(u),_unwrap_vec(f)),sys,(_unwrap_vec(r₁),_unwrap_vec(r₂)))\n",
    "end"
   ]
  },
  {
   "cell_type": "code",
   "execution_count": 183,
   "metadata": {},
   "outputs": [
    {
     "data": {
      "text/plain": [
       "\\ (generic function with 191 methods)"
      ]
     },
     "execution_count": 183,
     "metadata": {},
     "output_type": "execute_result"
    }
   ],
   "source": [
    "function (\\)(sys::SaddleSystem,input::Tuple) where {T,Ns,Nc}\n",
    "    u, f = input\n",
    "    sol = (similar(u),similar(f))\n",
    "    ldiv!(sol,sys,input)\n",
    "    return sol\n",
    "end"
   ]
  },
  {
   "cell_type": "code",
   "execution_count": 228,
   "metadata": {},
   "outputs": [
    {
     "data": {
      "text/plain": [
       "ldiv! (generic function with 127 methods)"
      ]
     },
     "execution_count": 228,
     "metadata": {},
     "output_type": "execute_result"
    }
   ],
   "source": [
    "# Routine for accepting vector inputs, parsing it into Ns and Nc parts\n",
    "function ldiv!(sol::AbstractVector{T},sys::SaddleSystem{T,Ns,Nc},rhs::AbstractVector{T}) where {T,Ns,Nc}\n",
    "    ldiv!(_split_vector(sol,Ns,Nc),sys,_split_vector(rhs,Ns,Nc))\n",
    "    return sol\n",
    "end"
   ]
  },
  {
   "cell_type": "code",
   "execution_count": 227,
   "metadata": {},
   "outputs": [
    {
     "data": {
      "text/plain": [
       "\\ (generic function with 192 methods)"
      ]
     },
     "execution_count": 227,
     "metadata": {},
     "output_type": "execute_result"
    }
   ],
   "source": [
    "function (\\)(sys::SaddleSystem,input::AbstractVector)\n",
    "    sol = similar(input)\n",
    "    ldiv!(sol,sys,input)\n",
    "    return sol \n",
    "end"
   ]
  },
  {
   "cell_type": "code",
   "execution_count": 11,
   "metadata": {},
   "outputs": [
    {
     "data": {
      "text/plain": [
       "SaddleSystem"
      ]
     },
     "execution_count": 11,
     "metadata": {},
     "output_type": "execute_result"
    }
   ],
   "source": [
    "function SaddleSystem(A::AbstractMatrix{T},B₁ᵀ::AbstractMatrix{T},\n",
    "                      B₂::AbstractMatrix{T},C::AbstractMatrix{T}) where {T}\n",
    "    \n",
    "    Afact = factorize(A)\n",
    "    Ainv = LinearMap{T}(x -> Afact\\x,size(A,1))\n",
    "    \n",
    "    return SaddleSystem(LinearMap{T}(A),LinearMap{T}(B₁ᵀ),\n",
    "                        LinearMap{T}(B₂),LinearMap{T}(C),Ainv)\n",
    "end"
   ]
  },
  {
   "cell_type": "code",
   "execution_count": 12,
   "metadata": {},
   "outputs": [
    {
     "data": {
      "text/plain": [
       "SaddleSystem"
      ]
     },
     "execution_count": 12,
     "metadata": {},
     "output_type": "execute_result"
    }
   ],
   "source": [
    "# For cases in which C is zero, no need to pass along the argument\n",
    "SaddleSystem(A::AbstractMatrix{T},B₁ᵀ::AbstractMatrix{T},B₂::AbstractMatrix{T}) where {T} = \n",
    "        SaddleSystem(A,B₁ᵀ,B₂,zeros(T,size(B₂,1),size(B₁ᵀ,2)))"
   ]
  },
  {
   "cell_type": "code",
   "execution_count": 13,
   "metadata": {},
   "outputs": [
    {
     "data": {
      "text/plain": [
       "linear_map (generic function with 3 methods)"
      ]
     },
     "execution_count": 13,
     "metadata": {},
     "output_type": "execute_result"
    }
   ],
   "source": [
    "# for a given function of function-like object A, which acts upon data of type u\n",
    "# and returns data of type f\n",
    "# return a LinearMap that acts upon a vector form of u\n",
    "linear_map(A,u,f;eltype=Float64) = _linear_map(A,u,f,eltype)\n",
    "linear_map(A,u;eltype=Float64) = _linear_map(A,u,eltype)\n",
    "linear_map(A::AbstractMatrix{T},u::AbstractVector{T};eltype=Float64) where {T} = LinearMap{eltype}(A)"
   ]
  },
  {
   "cell_type": "code",
   "execution_count": 14,
   "metadata": {},
   "outputs": [
    {
     "data": {
      "text/plain": [
       "_linear_map (generic function with 2 methods)"
      ]
     },
     "execution_count": 14,
     "metadata": {},
     "output_type": "execute_result"
    }
   ],
   "source": [
    "_linear_map(A,input,output,eltype) = LinearMap{eltype}(_create_fcn(A,input),length(output),length(input))\n",
    "_linear_map(A,input,eltype) = LinearMap{eltype}(_create_fcn(A,input),length(input))"
   ]
  },
  {
   "cell_type": "code",
   "execution_count": 15,
   "metadata": {},
   "outputs": [
    {
     "data": {
      "text/plain": [
       "_create_fcn (generic function with 1 method)"
      ]
     },
     "execution_count": 15,
     "metadata": {},
     "output_type": "execute_result"
    }
   ],
   "source": [
    "function _create_fcn(A,input)\n",
    "    if hasmethod(*,Tuple{typeof(A),typeof(input)})\n",
    "        fcn = _create_vec_multiplication(A,input)\n",
    "    elseif hasmethod(A,Tuple{typeof(input)})\n",
    "        fcn = _create_vec_function(A,input)\n",
    "    end\n",
    "    return fcn\n",
    "end"
   ]
  },
  {
   "cell_type": "code",
   "execution_count": 18,
   "metadata": {},
   "outputs": [
    {
     "data": {
      "text/plain": [
       "_create_vec_backslash (generic function with 1 method)"
      ]
     },
     "execution_count": 18,
     "metadata": {},
     "output_type": "execute_result"
    }
   ],
   "source": [
    "_create_vec_multiplication(A,u::TU) where {TU} = (x -> vec(A*_wrap_vec(x,u)))\n",
    "_create_vec_function(A,u::TU) where {TU} = (x -> vec(A(_wrap_vec(x,u))))\n",
    "_create_vec_backslash(A,u::TU) where {TU} = (x -> vec(A\\_wrap_vec(x,u)))"
   ]
  },
  {
   "cell_type": "code",
   "execution_count": 210,
   "metadata": {},
   "outputs": [
    {
     "data": {
      "text/plain": [
       "_wrap_vec (generic function with 4 methods)"
      ]
     },
     "execution_count": 210,
     "metadata": {},
     "output_type": "execute_result"
    }
   ],
   "source": [
    "_wrap_vec(x::Vector{T},u::TU) where {T,TU} = TU(reshape(x,size(u)...))\n",
    "_wrap_vec(x::Base.ReshapedArray,u::TU) where {TU} = parent(x)\n",
    "_wrap_vec(x::AbstractVector{T},u::TU) where {T,TU} = x\n",
    "_wrap_vec(x,u::TU) where {TU <: Tuple} = x"
   ]
  },
  {
   "cell_type": "code",
   "execution_count": 280,
   "metadata": {},
   "outputs": [
    {
     "data": {
      "text/plain": [
       "_unwrap_vec (generic function with 2 methods)"
      ]
     },
     "execution_count": 280,
     "metadata": {},
     "output_type": "execute_result"
    }
   ],
   "source": [
    "_unwrap_vec(x) = vec(x)\n",
    "_unwrap_vec(x::Tuple) = x"
   ]
  },
  {
   "cell_type": "code",
   "execution_count": 209,
   "metadata": {},
   "outputs": [
    {
     "data": {
      "text/plain": [
       "Tuple{Array{Float64,1},Array{Float64,1}}"
      ]
     },
     "execution_count": 209,
     "metadata": {},
     "output_type": "execute_result"
    }
   ],
   "source": [
    "# If operator A is a saddle point system, then it accepts tuple inputs\n",
    "# Need to get it is to accept vector inputs."
   ]
  },
  {
   "cell_type": "code",
   "execution_count": 20,
   "metadata": {},
   "outputs": [
    {
     "data": {
      "text/plain": [
       "linear_inverse_map (generic function with 1 method)"
      ]
     },
     "execution_count": 20,
     "metadata": {},
     "output_type": "execute_result"
    }
   ],
   "source": [
    "function linear_inverse_map(A,input;eltype=Float64)\n",
    "    hasmethod(\\,Tuple{typeof(A),typeof(input)}) || error(\"No such backslash operator exists\")\n",
    "    return LinearMap{eltype}(_create_vec_backslash(A,input),length(input))\n",
    "end"
   ]
  },
  {
   "cell_type": "code",
   "execution_count": 21,
   "metadata": {},
   "outputs": [
    {
     "data": {
      "text/plain": [
       "SaddleSystem"
      ]
     },
     "execution_count": 21,
     "metadata": {},
     "output_type": "execute_result"
    }
   ],
   "source": [
    "# This version should take in functions or function-like objects that act upon given\n",
    "# data types u and f. Should transform them into operators that act on abstract vectors\n",
    "# of the same size\n",
    "# There should already be an \\ operator associated with A\n",
    "function SaddleSystem(A,B₁ᵀ,B₂,C,u::TU,f::TF;eltype=Float64) where {TU,TF}\n",
    "    \n",
    "    return SaddleSystem(linear_map(A,u,eltype=eltype),linear_map(B₁ᵀ,f,u,eltype=eltype),\n",
    "                        linear_map(B₂,u,f,eltype=eltype),linear_map(C,f,eltype=eltype),\n",
    "                        linear_inverse_map(A,u,eltype=eltype))\n",
    "end"
   ]
  },
  {
   "cell_type": "code",
   "execution_count": 22,
   "metadata": {},
   "outputs": [
    {
     "data": {
      "text/plain": [
       "SaddleSystem"
      ]
     },
     "execution_count": 22,
     "metadata": {},
     "output_type": "execute_result"
    }
   ],
   "source": [
    "SaddleSystem(A,B₁ᵀ,B₂,u::TU,f::TF;eltype=Float64) where {TU,TF} = SaddleSystem(A,B₁ᵀ,B₂,zeros(eltype,length(f),length(f)),u,f,eltype=eltype)"
   ]
  },
  {
   "cell_type": "markdown",
   "metadata": {},
   "source": [
    "### Test on matrices"
   ]
  },
  {
   "cell_type": "code",
   "execution_count": 283,
   "metadata": {},
   "outputs": [],
   "source": [
    "A1 = Float64[1 2; 2 1]\n",
    "B2 = Float64[2 3;-1 -1]\n",
    "B1 = Float64[2 3;-1 -1]'\n",
    "C = Matrix{Float64}(undef,2,2)\n",
    "C.= [5 -2; 3 -4];"
   ]
  },
  {
   "cell_type": "code",
   "execution_count": 284,
   "metadata": {},
   "outputs": [],
   "source": [
    "A = SaddleSystem(A1,B1,B2,C);"
   ]
  },
  {
   "cell_type": "code",
   "execution_count": 285,
   "metadata": {},
   "outputs": [],
   "source": [
    "rhs = ([1.0,2.0],[3.0,4.0]);\n",
    "sol = (zeros(2),zeros(2));"
   ]
  },
  {
   "cell_type": "code",
   "execution_count": 286,
   "metadata": {},
   "outputs": [
    {
     "name": "stdout",
     "output_type": "stream",
     "text": [
      "  0.000034 seconds (20 allocations: 912 bytes)\n"
     ]
    },
    {
     "data": {
      "text/plain": [
       "([-4.440892098500626e-16, -0.35714285714285704], [0.6428571428571431, -0.42857142857142827])"
      ]
     },
     "execution_count": 286,
     "metadata": {},
     "output_type": "execute_result"
    }
   ],
   "source": [
    "@time ldiv!(sol,A,rhs)"
   ]
  },
  {
   "cell_type": "code",
   "execution_count": 288,
   "metadata": {},
   "outputs": [
    {
     "name": "stdout",
     "output_type": "stream",
     "text": [
      "  0.000032 seconds (23 allocations: 1.109 KiB)\n"
     ]
    },
    {
     "data": {
      "text/plain": [
       "([-4.440892098500626e-16, -0.35714285714285704], [0.6428571428571431, -0.42857142857142827])"
      ]
     },
     "execution_count": 288,
     "metadata": {},
     "output_type": "execute_result"
    }
   ],
   "source": [
    "@time sol = A\\rhs"
   ]
  },
  {
   "cell_type": "code",
   "execution_count": 289,
   "metadata": {},
   "outputs": [
    {
     "data": {
      "text/plain": [
       "([0.9999999999999999, 1.9999999999999998], [3.0, 4.0])"
      ]
     },
     "execution_count": 289,
     "metadata": {},
     "output_type": "execute_result"
    }
   ],
   "source": [
    "A*sol"
   ]
  },
  {
   "cell_type": "markdown",
   "metadata": {},
   "source": [
    "#### Test with vector inputs/outputs"
   ]
  },
  {
   "cell_type": "code",
   "execution_count": 290,
   "metadata": {},
   "outputs": [],
   "source": [
    "rhs1, rhs2 = rhs\n",
    "rhsvec = [rhs1;rhs2]\n",
    "solvec = similar(rhsvec);"
   ]
  },
  {
   "cell_type": "code",
   "execution_count": 291,
   "metadata": {},
   "outputs": [],
   "source": [
    "solvec = A\\rhsvec;"
   ]
  },
  {
   "cell_type": "code",
   "execution_count": 292,
   "metadata": {},
   "outputs": [
    {
     "data": {
      "text/plain": [
       "4-element Array{Float64,1}:\n",
       " 0.9999999999999999\n",
       " 1.9999999999999998\n",
       " 3.0               \n",
       " 4.0               "
      ]
     },
     "execution_count": 292,
     "metadata": {},
     "output_type": "execute_result"
    }
   ],
   "source": [
    "A*solvec"
   ]
  },
  {
   "cell_type": "markdown",
   "metadata": {},
   "source": [
    "### Test on ViscousFlow operators"
   ]
  },
  {
   "cell_type": "code",
   "execution_count": 293,
   "metadata": {},
   "outputs": [],
   "source": [
    "nx = 130; ny = 130;\n",
    "Lx = 2.0;\n",
    "dx = Lx/(nx-2);\n",
    "w = Nodes(Dual,(nx,ny));\n",
    "u = similar(w);"
   ]
  },
  {
   "cell_type": "code",
   "execution_count": 294,
   "metadata": {},
   "outputs": [],
   "source": [
    "wvec = vec(w);"
   ]
  },
  {
   "cell_type": "code",
   "execution_count": 295,
   "metadata": {},
   "outputs": [
    {
     "data": {
      "text/plain": [
       "Discrete Laplacian (and inverse) on a (nx = 130, ny = 130) grid acting on Float64 data with spacing 1.0"
      ]
     },
     "execution_count": 295,
     "metadata": {},
     "output_type": "execute_result"
    }
   ],
   "source": [
    "L = plan_laplacian(size(w),with_inverse=true)"
   ]
  },
  {
   "cell_type": "code",
   "execution_count": 296,
   "metadata": {},
   "outputs": [],
   "source": [
    "w .= rand(size(w)...);"
   ]
  },
  {
   "cell_type": "code",
   "execution_count": 297,
   "metadata": {},
   "outputs": [],
   "source": [
    "uvec = zeros(length(w));"
   ]
  },
  {
   "cell_type": "code",
   "execution_count": 298,
   "metadata": {},
   "outputs": [
    {
     "name": "stdout",
     "output_type": "stream",
     "text": [
      "  0.001855 seconds (730 allocations: 43.772 KiB)\n"
     ]
    }
   ],
   "source": [
    "@time _wrap_vec(wvec,w);"
   ]
  },
  {
   "cell_type": "code",
   "execution_count": 299,
   "metadata": {},
   "outputs": [],
   "source": [
    "Lop = linear_map(L,w);"
   ]
  },
  {
   "cell_type": "code",
   "execution_count": 300,
   "metadata": {},
   "outputs": [
    {
     "name": "stdout",
     "output_type": "stream",
     "text": [
      "  0.000145 seconds (8 allocations: 132.344 KiB)\n"
     ]
    }
   ],
   "source": [
    "@time u = L*w;"
   ]
  },
  {
   "cell_type": "code",
   "execution_count": 301,
   "metadata": {},
   "outputs": [
    {
     "name": "stdout",
     "output_type": "stream",
     "text": [
      "  0.007467 seconds (7.41 k allocations: 536.840 KiB)\n"
     ]
    }
   ],
   "source": [
    "@time uvec = Lop*wvec;"
   ]
  },
  {
   "cell_type": "code",
   "execution_count": 302,
   "metadata": {},
   "outputs": [
    {
     "data": {
      "text/plain": [
       "true"
      ]
     },
     "execution_count": 302,
     "metadata": {},
     "output_type": "execute_result"
    }
   ],
   "source": [
    "_wrap_vec(uvec,u) == u"
   ]
  },
  {
   "cell_type": "code",
   "execution_count": 303,
   "metadata": {},
   "outputs": [],
   "source": [
    "Linv = linear_inverse_map(L,w);"
   ]
  },
  {
   "cell_type": "code",
   "execution_count": 304,
   "metadata": {},
   "outputs": [
    {
     "name": "stdout",
     "output_type": "stream",
     "text": [
      "  0.009284 seconds (11.77 k allocations: 714.122 KiB)\n"
     ]
    }
   ],
   "source": [
    "@time yvec = Linv*wvec;"
   ]
  },
  {
   "cell_type": "code",
   "execution_count": 305,
   "metadata": {},
   "outputs": [
    {
     "name": "stdout",
     "output_type": "stream",
     "text": [
      "  0.001091 seconds (8 allocations: 132.344 KiB)\n"
     ]
    }
   ],
   "source": [
    "@time y = L\\w;"
   ]
  },
  {
   "cell_type": "code",
   "execution_count": 306,
   "metadata": {},
   "outputs": [
    {
     "data": {
      "text/plain": [
       "true"
      ]
     },
     "execution_count": 306,
     "metadata": {},
     "output_type": "execute_result"
    }
   ],
   "source": [
    "_wrap_vec(yvec,y) == y"
   ]
  },
  {
   "cell_type": "code",
   "execution_count": 307,
   "metadata": {},
   "outputs": [],
   "source": [
    "n = 128;\n",
    "θ = range(0,stop=2π,length=n+1);\n",
    "R = 0.5;\n",
    "xb = 1.0 .+ R*cos.(θ)\n",
    "yb = 1.0 .+ R*sin.(θ)\n",
    "ds = (2π/n)*R;\n",
    "X = VectorData(xb[1:n],yb[1:n]);\n",
    "f = ScalarData(X);"
   ]
  },
  {
   "cell_type": "code",
   "execution_count": 308,
   "metadata": {},
   "outputs": [],
   "source": [
    "fvec = vec(f);"
   ]
  },
  {
   "cell_type": "code",
   "execution_count": 309,
   "metadata": {},
   "outputs": [],
   "source": [
    "E = Regularize(X,dx;issymmetric=true)\n",
    "Hmat,Emat = RegularizationMatrix(E,f,w);"
   ]
  },
  {
   "cell_type": "code",
   "execution_count": 310,
   "metadata": {},
   "outputs": [],
   "source": [
    "f[10] = 1.0;"
   ]
  },
  {
   "cell_type": "code",
   "execution_count": 311,
   "metadata": {},
   "outputs": [],
   "source": [
    "Hop = linear_map(Hmat,f,w);"
   ]
  },
  {
   "cell_type": "code",
   "execution_count": 312,
   "metadata": {},
   "outputs": [
    {
     "name": "stdout",
     "output_type": "stream",
     "text": [
      "  0.000094 seconds (8 allocations: 132.344 KiB)\n"
     ]
    }
   ],
   "source": [
    "@time y = Hmat*f;"
   ]
  },
  {
   "cell_type": "code",
   "execution_count": 313,
   "metadata": {},
   "outputs": [
    {
     "name": "stdout",
     "output_type": "stream",
     "text": [
      "  0.007524 seconds (7.68 k allocations: 554.130 KiB)\n"
     ]
    }
   ],
   "source": [
    "@time yvec = Hop*fvec;"
   ]
  },
  {
   "cell_type": "code",
   "execution_count": 314,
   "metadata": {},
   "outputs": [
    {
     "data": {
      "text/plain": [
       "true"
      ]
     },
     "execution_count": 314,
     "metadata": {},
     "output_type": "execute_result"
    }
   ],
   "source": [
    "_wrap_vec(yvec,y) == y"
   ]
  },
  {
   "cell_type": "code",
   "execution_count": 315,
   "metadata": {},
   "outputs": [],
   "source": [
    "Eop = linear_map(Emat,w,f);"
   ]
  },
  {
   "cell_type": "code",
   "execution_count": 316,
   "metadata": {},
   "outputs": [
    {
     "name": "stdout",
     "output_type": "stream",
     "text": [
      "  0.000019 seconds (6 allocations: 1.313 KiB)\n"
     ]
    }
   ],
   "source": [
    "@time g = Emat*w;"
   ]
  },
  {
   "cell_type": "code",
   "execution_count": 317,
   "metadata": {},
   "outputs": [
    {
     "name": "stdout",
     "output_type": "stream",
     "text": [
      "  0.011697 seconds (7.69 k allocations: 415.182 KiB, 48.07% gc time)\n"
     ]
    }
   ],
   "source": [
    "@time gvec = Eop*vec(w);"
   ]
  },
  {
   "cell_type": "code",
   "execution_count": 318,
   "metadata": {},
   "outputs": [
    {
     "data": {
      "text/plain": [
       "true"
      ]
     },
     "execution_count": 318,
     "metadata": {},
     "output_type": "execute_result"
    }
   ],
   "source": [
    "_wrap_vec(gvec,g) == g"
   ]
  },
  {
   "cell_type": "code",
   "execution_count": 319,
   "metadata": {},
   "outputs": [
    {
     "name": "stdout",
     "output_type": "stream",
     "text": [
      "  0.440631 seconds (665.47 k allocations: 96.338 MiB, 6.51% gc time)\n"
     ]
    }
   ],
   "source": [
    "@time A = SaddleSystem(L,Hmat,Emat,w,f);"
   ]
  },
  {
   "cell_type": "code",
   "execution_count": 320,
   "metadata": {},
   "outputs": [
    {
     "name": "stdout",
     "output_type": "stream",
     "text": [
      "  0.133008 seconds (436.96 k allocations: 18.857 MiB, 6.09% gc time)\n"
     ]
    }
   ],
   "source": [
    "@time A.S*vec(f);"
   ]
  },
  {
   "cell_type": "code",
   "execution_count": 321,
   "metadata": {},
   "outputs": [
    {
     "name": "stdout",
     "output_type": "stream",
     "text": [
      "  0.008101 seconds (13.97 k allocations: 709.436 KiB)\n"
     ]
    }
   ],
   "source": [
    "@time A.S⁻¹*vec(f);"
   ]
  },
  {
   "cell_type": "code",
   "execution_count": 322,
   "metadata": {},
   "outputs": [],
   "source": [
    "sol = (vec(zero(w)),vec(zero(f)));"
   ]
  },
  {
   "cell_type": "code",
   "execution_count": 323,
   "metadata": {},
   "outputs": [],
   "source": [
    "rhs = (vec(w),vec(f));"
   ]
  },
  {
   "cell_type": "code",
   "execution_count": 324,
   "metadata": {},
   "outputs": [
    {
     "name": "stdout",
     "output_type": "stream",
     "text": [
      "  0.052022 seconds (123.67 k allocations: 6.075 MiB)\n"
     ]
    }
   ],
   "source": [
    "@time ldiv!(sol,A,rhs);"
   ]
  },
  {
   "cell_type": "code",
   "execution_count": 328,
   "metadata": {},
   "outputs": [],
   "source": [
    "ψb = ScalarData(X);\n",
    "w = Nodes(Dual,(nx,ny));\n",
    "ψb .= -(xb[1:n] .- 1);\n",
    "f .= ones(Float64,n)*ds;\n",
    "ψ = Nodes(Dual,w);"
   ]
  },
  {
   "cell_type": "code",
   "execution_count": 329,
   "metadata": {},
   "outputs": [
    {
     "name": "stdout",
     "output_type": "stream",
     "text": [
      "  0.010709 seconds (14.27 k allocations: 1.338 MiB)\n"
     ]
    }
   ],
   "source": [
    "sol2 = (zero(w),zero(f));\n",
    "@time ldiv!(sol2,A,(w,ψb));"
   ]
  },
  {
   "cell_type": "code",
   "execution_count": 330,
   "metadata": {},
   "outputs": [
    {
     "name": "stdout",
     "output_type": "stream",
     "text": [
      "  0.002150 seconds (53 allocations: 797.344 KiB)\n"
     ]
    }
   ],
   "source": [
    "@time ψ,f = A\\(w,ψb);"
   ]
  },
  {
   "cell_type": "code",
   "execution_count": 331,
   "metadata": {},
   "outputs": [
    {
     "data": {
      "image/png": "[encoded data removed]"
     },
     "execution_count": 331,
     "metadata": {},
     "output_type": "execute_result"
    }
   ],
   "source": [
    "xg,yg = coordinates(ψ,dx=dx)\n",
    "plot(xg,yg,ψ)\n",
    "plot!(xb,yb,xlim=(-Inf,Inf),ylim=(-Inf,Inf),fillcolor=:black,fillrange=0,fillalpha=0.25,linecolor=:black)"
   ]
  },
  {
   "cell_type": "code",
   "execution_count": 332,
   "metadata": {},
   "outputs": [
    {
     "name": "stdout",
     "output_type": "stream",
     "text": [
      "  0.015032 seconds (16.63 k allocations: 1.344 MiB)\n"
     ]
    }
   ],
   "source": [
    "rhs2 = (similar(w),similar(f));\n",
    "@time rhs2 = A*sol2;"
   ]
  },
  {
   "cell_type": "code",
   "execution_count": 338,
   "metadata": {},
   "outputs": [
    {
     "data": {
      "text/plain": [
       "3.901939054546046e-15"
      ]
     },
     "execution_count": 338,
     "metadata": {},
     "output_type": "execute_result"
    }
   ],
   "source": [
    "norm(rhs2[2]-ψb)"
   ]
  },
  {
   "cell_type": "markdown",
   "metadata": {},
   "source": [
    "### Saddle system of a saddle system"
   ]
  },
  {
   "cell_type": "code",
   "execution_count": 339,
   "metadata": {},
   "outputs": [],
   "source": [
    "A1 = Float64[1 2; 2 1]\n",
    "B21 = Float64[2 3];\n",
    "B11 = B21';\n",
    "C1 = Matrix{Float64}(undef,1,1)\n",
    "C1.= 5\n",
    "\n",
    "B22 = Float64[-1 -1 3];\n",
    "B12 = Float64[-1 -1 -2]';\n",
    "C2 = Matrix{Float64}(undef,1,1)\n",
    "C2.= -4;"
   ]
  },
  {
   "cell_type": "code",
   "execution_count": 340,
   "metadata": {},
   "outputs": [],
   "source": [
    "rhs11 = [1.0,2.0];\n",
    "rhs12 = Vector{Float64}(undef,1)\n",
    "rhs12 .= 3.0;\n",
    "#rhs1 = (rhs11,rhs12)\n",
    "rhs1 = [rhs11;rhs12];\n",
    "\n",
    "rhs2 = Vector{Float64}(undef,1)\n",
    "rhs2 .= 4.0;\n",
    "\n",
    "#sol = ((zero(rhs11),zero(rhs12)),zero(rhs2))\n",
    "rhs = (rhs1,rhs2);\n",
    "sol = (zero(rhs1),zero(rhs2));"
   ]
  },
  {
   "cell_type": "code",
   "execution_count": 341,
   "metadata": {},
   "outputs": [],
   "source": [
    "A = SaddleSystem(A1,B11,B21,C1);"
   ]
  },
  {
   "cell_type": "code",
   "execution_count": 342,
   "metadata": {},
   "outputs": [],
   "source": [
    "Abig = SaddleSystem(A,B12,B22,C2,rhs1,rhs2);"
   ]
  },
  {
   "cell_type": "code",
   "execution_count": 343,
   "metadata": {},
   "outputs": [
    {
     "data": {
      "text/plain": [
       "([-4.440892098500626e-16, -0.3571428571428571, 0.6428571428571432], [-0.4285714285714282])"
      ]
     },
     "execution_count": 343,
     "metadata": {},
     "output_type": "execute_result"
    }
   ],
   "source": [
    "sol = Abig\\rhs"
   ]
  },
  {
   "cell_type": "code",
   "execution_count": 344,
   "metadata": {},
   "outputs": [
    {
     "data": {
      "text/plain": [
       "([1.0, 1.9999999999999998, 3.0000000000000004], [4.0])"
      ]
     },
     "execution_count": 344,
     "metadata": {},
     "output_type": "execute_result"
    }
   ],
   "source": [
    "Abig*sol"
   ]
  },
  {
   "cell_type": "markdown",
   "metadata": {},
   "source": [
    "#### Pass in as tuples of tuples"
   ]
  },
  {
   "cell_type": "code",
   "execution_count": 346,
   "metadata": {},
   "outputs": [
    {
     "data": {
      "text/plain": [
       "(([0.0, 0.0], [0.0]), [0.0])"
      ]
     },
     "execution_count": 346,
     "metadata": {},
     "output_type": "execute_result"
    }
   ],
   "source": [
    "rhs11 = [1.0,2.0];\n",
    "rhs12 = Vector{Float64}(undef,1)\n",
    "rhs12 .= 3.0\n",
    "rhs1 = (rhs11,rhs12)\n",
    "\n",
    "rhs2 = Vector{Float64}(undef,1)\n",
    "rhs2 .= 4.0;\n",
    "\n",
    "rhs = (rhs1,rhs2)\n",
    "\n",
    "sol = ((zero(rhs11),zero(rhs12)),zero(rhs2))"
   ]
  },
  {
   "cell_type": "code",
   "execution_count": 347,
   "metadata": {},
   "outputs": [],
   "source": [
    "A = SaddleSystem(A1,B11,B21,C1);"
   ]
  },
  {
   "cell_type": "code",
   "execution_count": 348,
   "metadata": {},
   "outputs": [
    {
     "ename": "UndefVarError",
     "evalue": "UndefVarError: fcn not defined",
     "output_type": "error",
     "traceback": [
      "UndefVarError: fcn not defined",
      "",
      "Stacktrace:",
      " [1] _create_fcn at ./In[15]:7 [inlined]",
      " [2] _linear_map(::Array{Float64,2}, ::Tuple{Array{Float64,1},Array{Float64,1}}, ::Array{Float64,1}, ::Type) at ./In[14]:1",
      " [3] #linear_map#7 at ./In[13]:4 [inlined]",
      " [4] (::getfield(Main, Symbol(\"#kw##linear_map\")))(::NamedTuple{(:eltype,),Tuple{DataType}}, ::typeof(linear_map), ::Array{Float64,2}, ::Tuple{Array{Float64,1},Array{Float64,1}}, ::Array{Float64,1}) at ./none:0",
      " [5] #SaddleSystem#17(::Type, ::Type{SaddleSystem}, ::SaddleSystem{Float64,2,1}, ::Adjoint{Float64,Array{Float64,2}}, ::Array{Float64,2}, ::Array{Float64,2}, ::Tuple{Array{Float64,1},Array{Float64,1}}, ::Array{Float64,1}) at ./In[21]:7",
      " [6] SaddleSystem(::SaddleSystem{Float64,2,1}, ::Adjoint{Float64,Array{Float64,2}}, ::Array{Float64,2}, ::Array{Float64,2}, ::Tuple{Array{Float64,1},Array{Float64,1}}, ::Array{Float64,1}) at ./In[21]:7",
      " [7] top-level scope at In[348]:1"
     ]
    }
   ],
   "source": [
    "Abig = SaddleSystem(A,B12,B22,C2,rhs1,rhs2);"
   ]
  },
  {
   "cell_type": "code",
   "execution_count": 258,
   "metadata": {},
   "outputs": [
    {
     "data": {
      "text/plain": [
       "(1.0, 2.0, ([2.0, 3.0], 2.0))"
      ]
     },
     "execution_count": 258,
     "metadata": {},
     "output_type": "execute_result"
    }
   ],
   "source": [
    "x = (1.0,2.0,([2.0,3.0],2.0))"
   ]
  },
  {
   "cell_type": "code",
   "execution_count": 259,
   "metadata": {},
   "outputs": [
    {
     "data": {
      "text/plain": [
       "(1.0, 2.0, ([2.0, 3.0], 2.0))"
      ]
     },
     "execution_count": 259,
     "metadata": {},
     "output_type": "execute_result"
    }
   ],
   "source": [
    "x1, x2 = x"
   ]
  },
  {
   "cell_type": "code",
   "execution_count": 269,
   "metadata": {},
   "outputs": [
    {
     "name": "stdout",
     "output_type": "stream",
     "text": [
      "  0.000010 seconds (7 allocations: 256 bytes)\n"
     ]
    },
    {
     "data": {
      "text/plain": [
       "Base.Iterators.Flatten{Tuple{Nodes{Dual,130,130,Float64},ScalarData{128,Float64}}}((Dual nodes in a (nx = 130, ny = 130) cell grid of type Float64 data\n",
       "  Number of Dual nodes: (nx = 130, ny = 130), [0.0, 0.0, 0.0, 0.0, 0.0, 0.0, 0.0, 0.0, 0.0, 0.0  …  0.0, 0.0, 0.0, 0.0, 0.0, 0.0, 0.0, 0.0, 0.0, 0.0]))"
      ]
     },
     "execution_count": 269,
     "metadata": {},
     "output_type": "execute_result"
    }
   ],
   "source": [
    "@time z = Iterators.flatten((w,f))"
   ]
  },
  {
   "cell_type": "code",
   "execution_count": 279,
   "metadata": {},
   "outputs": [
    {
     "data": {
      "text/plain": [
       "(1.0, 2.0, ([2.0, 3.0], 2.0))"
      ]
     },
     "execution_count": 279,
     "metadata": {},
     "output_type": "execute_result"
    }
   ],
   "source": [
    "x"
   ]
  },
  {
   "cell_type": "code",
   "execution_count": 273,
   "metadata": {},
   "outputs": [
    {
     "data": {
      "text/plain": [
       "(:it,)"
      ]
     },
     "execution_count": 273,
     "metadata": {},
     "output_type": "execute_result"
    }
   ],
   "source": [
    "fieldnames(typeof(z))"
   ]
  },
  {
   "cell_type": "code",
   "execution_count": 277,
   "metadata": {},
   "outputs": [
    {
     "name": "stdout",
     "output_type": "stream",
     "text": [
      "  0.000351 seconds (19 allocations: 512.859 KiB)\n"
     ]
    },
    {
     "data": {
      "text/plain": [
       "17028-element Array{Float64,1}:\n",
       " 0.0\n",
       " 0.0\n",
       " 0.0\n",
       " 0.0\n",
       " 0.0\n",
       " 0.0\n",
       " 0.0\n",
       " 0.0\n",
       " 0.0\n",
       " 0.0\n",
       " 0.0\n",
       " 0.0\n",
       " 0.0\n",
       " ⋮  \n",
       " 0.0\n",
       " 0.0\n",
       " 0.0\n",
       " 0.0\n",
       " 0.0\n",
       " 0.0\n",
       " 0.0\n",
       " 0.0\n",
       " 0.0\n",
       " 0.0\n",
       " 0.0\n",
       " 0.0"
      ]
     },
     "execution_count": 277,
     "metadata": {},
     "output_type": "execute_result"
    }
   ],
   "source": [
    "@time collect(z)"
   ]
  },
  {
   "cell_type": "code",
   "execution_count": null,
   "metadata": {},
   "outputs": [],
   "source": []
  }
 ],
 "metadata": {
  "kernelspec": {
   "display_name": "Julia 1.2.0",
   "language": "julia",
   "name": "julia-1.2"
  },
  "language_info": {
   "file_extension": ".jl",
   "mimetype": "application/julia",
   "name": "julia",
   "version": "1.2.0"
  }
 },
 "nbformat": 4,
 "nbformat_minor": 2
}
